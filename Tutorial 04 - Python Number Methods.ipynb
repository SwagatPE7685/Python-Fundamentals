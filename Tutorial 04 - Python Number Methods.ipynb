{
 "cells": [
  {
   "cell_type": "markdown",
   "id": "c5b2b80e-bf42-4be4-ac2d-957937a6e93f",
   "metadata": {},
   "source": [
    "# Tutorial 05 - Python Number Methods"
   ]
  },
  {
   "cell_type": "code",
   "execution_count": 1,
   "id": "01bd0cca-ba5b-415e-bf10-068e5e5d5dbc",
   "metadata": {},
   "outputs": [
    {
     "data": {
      "text/plain": [
       "3"
      ]
     },
     "execution_count": 1,
     "metadata": {},
     "output_type": "execute_result"
    }
   ],
   "source": [
    "1+2"
   ]
  },
  {
   "cell_type": "code",
   "execution_count": 8,
   "id": "7ad4dd48-85df-4c5b-a8cb-0796ca3581f0",
   "metadata": {},
   "outputs": [
    {
     "data": {
      "text/plain": [
       "10"
      ]
     },
     "execution_count": 8,
     "metadata": {},
     "output_type": "execute_result"
    }
   ],
   "source": [
    "# absolute method\n",
    "# it will reflect the positive value of any number\n",
    "abs(10)"
   ]
  },
  {
   "cell_type": "code",
   "execution_count": 3,
   "id": "48b29697-a440-476a-9f36-e3458f97d873",
   "metadata": {},
   "outputs": [
    {
     "data": {
      "text/plain": [
       "20"
      ]
     },
     "execution_count": 3,
     "metadata": {},
     "output_type": "execute_result"
    }
   ],
   "source": [
    "abs(-20)"
   ]
  },
  {
   "cell_type": "code",
   "execution_count": 6,
   "id": "e0cb1d15-8ef7-493e-ae2d-d4437c63f98b",
   "metadata": {},
   "outputs": [
    {
     "data": {
      "text/plain": [
       "56.8"
      ]
     },
     "execution_count": 6,
     "metadata": {},
     "output_type": "execute_result"
    }
   ],
   "source": [
    "abs(56.80)"
   ]
  },
  {
   "cell_type": "code",
   "execution_count": 7,
   "id": "83429473-58e3-40c0-a4b1-f72cb11fa04f",
   "metadata": {},
   "outputs": [
    {
     "data": {
      "text/plain": [
       "89.56"
      ]
     },
     "execution_count": 7,
     "metadata": {},
     "output_type": "execute_result"
    }
   ],
   "source": [
    "abs(-89.56)"
   ]
  },
  {
   "cell_type": "code",
   "execution_count": 15,
   "id": "ce156711-de26-4b5e-8d64-314bf1e49a15",
   "metadata": {},
   "outputs": [],
   "source": [
    "# ceil method\n",
    "# it will always take the top number of any any float\n",
    "import math"
   ]
  },
  {
   "cell_type": "code",
   "execution_count": 10,
   "id": "bb837149-59f6-423b-9bbf-0c541e1d7f3c",
   "metadata": {},
   "outputs": [
    {
     "data": {
      "text/plain": [
       "44"
      ]
     },
     "execution_count": 10,
     "metadata": {},
     "output_type": "execute_result"
    }
   ],
   "source": [
    "math.ceil(43.68)"
   ]
  },
  {
   "cell_type": "code",
   "execution_count": 11,
   "id": "f87c6249-1500-4759-bd9a-80b55f59f48c",
   "metadata": {},
   "outputs": [
    {
     "data": {
      "text/plain": [
       "44"
      ]
     },
     "execution_count": 11,
     "metadata": {},
     "output_type": "execute_result"
    }
   ],
   "source": [
    "math.ceil(43.3)"
   ]
  },
  {
   "cell_type": "code",
   "execution_count": 13,
   "id": "319737be-d3e6-40b1-a3ea-f8fe7c850fe5",
   "metadata": {},
   "outputs": [
    {
     "data": {
      "text/plain": [
       "-44"
      ]
     },
     "execution_count": 13,
     "metadata": {},
     "output_type": "execute_result"
    }
   ],
   "source": [
    "math.ceil(-44.5)"
   ]
  },
  {
   "cell_type": "code",
   "execution_count": 14,
   "id": "2338bc2e-a070-42a9-99aa-70b37f929122",
   "metadata": {},
   "outputs": [
    {
     "data": {
      "text/plain": [
       "-44"
      ]
     },
     "execution_count": 14,
     "metadata": {},
     "output_type": "execute_result"
    }
   ],
   "source": [
    "math.ceil(-44.9)"
   ]
  },
  {
   "cell_type": "code",
   "execution_count": 16,
   "id": "645e0d38-853e-4808-8452-c80c2f6f78c8",
   "metadata": {},
   "outputs": [],
   "source": [
    "# floor\n",
    "# it will always take the toplow number of any any float\n",
    "\n",
    "import math"
   ]
  },
  {
   "cell_type": "code",
   "execution_count": 17,
   "id": "2daf0e21-60fb-4518-baf5-81b2de3b006e",
   "metadata": {},
   "outputs": [
    {
     "data": {
      "text/plain": [
       "45"
      ]
     },
     "execution_count": 17,
     "metadata": {},
     "output_type": "execute_result"
    }
   ],
   "source": [
    "math.floor(45.6)"
   ]
  },
  {
   "cell_type": "code",
   "execution_count": 18,
   "id": "163e6a8f-4154-4251-856b-9f8a96c2f4f1",
   "metadata": {},
   "outputs": [
    {
     "data": {
      "text/plain": [
       "-46"
      ]
     },
     "execution_count": 18,
     "metadata": {},
     "output_type": "execute_result"
    }
   ],
   "source": [
    "math.floor(-45.6)"
   ]
  },
  {
   "cell_type": "code",
   "execution_count": 19,
   "id": "925cd976-ae85-41c1-80c4-fb6d719782f5",
   "metadata": {},
   "outputs": [],
   "source": [
    "# Exponential function\n",
    "# it will provide exponent no.\n",
    "\n",
    "import math"
   ]
  },
  {
   "cell_type": "code",
   "execution_count": 20,
   "id": "73019045-f9bf-486c-bb8e-9f9c79b7a25d",
   "metadata": {},
   "outputs": [
    {
     "data": {
      "text/plain": [
       "3.4934271057485095e+19"
      ]
     },
     "execution_count": 20,
     "metadata": {},
     "output_type": "execute_result"
    }
   ],
   "source": [
    "math.exp(45)"
   ]
  },
  {
   "cell_type": "code",
   "execution_count": 21,
   "id": "941fb1e8-af7a-4205-81b4-2294601d0bb1",
   "metadata": {},
   "outputs": [
    {
     "data": {
      "text/plain": [
       "2.2273635617957438e-39"
      ]
     },
     "execution_count": 21,
     "metadata": {},
     "output_type": "execute_result"
    }
   ],
   "source": [
    "math.exp(-89)"
   ]
  },
  {
   "cell_type": "code",
   "execution_count": 25,
   "id": "ec24c3b3-a541-4d83-9661-7cbc2cb1ee62",
   "metadata": {},
   "outputs": [
    {
     "data": {
      "text/plain": [
       "10.0"
      ]
     },
     "execution_count": 25,
     "metadata": {},
     "output_type": "execute_result"
    }
   ],
   "source": [
    "# fabs\n",
    "# same as abs\n",
    "\n",
    "math.fabs(10)"
   ]
  },
  {
   "cell_type": "code",
   "execution_count": 23,
   "id": "e7d74ceb-0889-4685-9ed8-999acfe0947d",
   "metadata": {},
   "outputs": [
    {
     "data": {
      "text/plain": [
       "10.9"
      ]
     },
     "execution_count": 23,
     "metadata": {},
     "output_type": "execute_result"
    }
   ],
   "source": [
    "math.fabs(10.9)"
   ]
  },
  {
   "cell_type": "code",
   "execution_count": 24,
   "id": "ecbede7b-c775-4d31-b2cd-136f0deec8f4",
   "metadata": {},
   "outputs": [
    {
     "data": {
      "text/plain": [
       "10.9"
      ]
     },
     "execution_count": 24,
     "metadata": {},
     "output_type": "execute_result"
    }
   ],
   "source": [
    "math.fabs(-10.9)"
   ]
  },
  {
   "cell_type": "code",
   "execution_count": 35,
   "id": "f371b18b-d6ad-4bc9-a7d4-e76fb89c4230",
   "metadata": {},
   "outputs": [
    {
     "data": {
      "text/plain": [
       "2.995732273553991"
      ]
     },
     "execution_count": 35,
     "metadata": {},
     "output_type": "execute_result"
    }
   ],
   "source": [
    "# logrithmics\n",
    "# log()\n",
    "\n",
    "math.log(20)"
   ]
  },
  {
   "cell_type": "code",
   "execution_count": 27,
   "id": "2dc02898-6708-4ba3-8331-16addbdbb200",
   "metadata": {},
   "outputs": [
    {
     "data": {
      "text/plain": [
       "1.0612565021243408"
      ]
     },
     "execution_count": 27,
     "metadata": {},
     "output_type": "execute_result"
    }
   ],
   "source": [
    "math.log(2.89)"
   ]
  },
  {
   "cell_type": "code",
   "execution_count": 36,
   "id": "389e3465-d319-44d5-b810-e4b4706a14c1",
   "metadata": {},
   "outputs": [
    {
     "data": {
      "text/plain": [
       "1.0"
      ]
     },
     "execution_count": 36,
     "metadata": {},
     "output_type": "execute_result"
    }
   ],
   "source": [
    "math.log10(10)"
   ]
  },
  {
   "cell_type": "code",
   "execution_count": 37,
   "id": "6680dd98-4292-41c1-81cf-a2f5bbe16f54",
   "metadata": {},
   "outputs": [
    {
     "data": {
      "text/plain": [
       "1.6020599913279623"
      ]
     },
     "execution_count": 37,
     "metadata": {},
     "output_type": "execute_result"
    }
   ],
   "source": [
    "math.log10(40)"
   ]
  },
  {
   "cell_type": "code",
   "execution_count": 39,
   "id": "bac08553-0316-4551-9f20-58a3a8b169a6",
   "metadata": {},
   "outputs": [
    {
     "data": {
      "text/plain": [
       "61"
      ]
     },
     "execution_count": 39,
     "metadata": {},
     "output_type": "execute_result"
    }
   ],
   "source": [
    "# max()\n",
    "# helps to find maximum no.\n",
    "\n",
    "max(15,48,49,51,61,54)"
   ]
  },
  {
   "cell_type": "code",
   "execution_count": 40,
   "id": "24a32dd6-26b0-4709-b00a-76a602381e54",
   "metadata": {},
   "outputs": [
    {
     "data": {
      "text/plain": [
       "-15"
      ]
     },
     "execution_count": 40,
     "metadata": {},
     "output_type": "execute_result"
    }
   ],
   "source": [
    "max(-15,-48,-49,-51,-61,-54)"
   ]
  },
  {
   "cell_type": "code",
   "execution_count": 42,
   "id": "90811570-cd9b-4993-bbbf-25b771659262",
   "metadata": {},
   "outputs": [
    {
     "data": {
      "text/plain": [
       "15"
      ]
     },
     "execution_count": 42,
     "metadata": {},
     "output_type": "execute_result"
    }
   ],
   "source": [
    "# min\n",
    "# helps to find minimum no.\n",
    "\n",
    "min(15,48,49,51,61,54)"
   ]
  },
  {
   "cell_type": "code",
   "execution_count": 43,
   "id": "26fe9527-e105-4dc7-88c2-facca469f216",
   "metadata": {},
   "outputs": [
    {
     "data": {
      "text/plain": [
       "-61"
      ]
     },
     "execution_count": 43,
     "metadata": {},
     "output_type": "execute_result"
    }
   ],
   "source": [
    "min(-15,-48,-49,-51,-61,-54)"
   ]
  },
  {
   "cell_type": "code",
   "execution_count": 45,
   "id": "abf49e17-5cd8-4a73-86ce-b538002f5bd0",
   "metadata": {},
   "outputs": [],
   "source": [
    "# power function\n",
    "\n",
    "import math"
   ]
  },
  {
   "cell_type": "code",
   "execution_count": 51,
   "id": "e16dc79b-e820-4162-a83e-b3599c814b1b",
   "metadata": {},
   "outputs": [
    {
     "data": {
      "text/plain": [
       "25.0"
      ]
     },
     "execution_count": 51,
     "metadata": {},
     "output_type": "execute_result"
    }
   ],
   "source": [
    "math.pow(5,2)"
   ]
  },
  {
   "cell_type": "code",
   "execution_count": 48,
   "id": "1637d45b-789b-4214-8d59-f5f8b2af4d81",
   "metadata": {},
   "outputs": [
    {
     "data": {
      "text/plain": [
       "121.0"
      ]
     },
     "execution_count": 48,
     "metadata": {},
     "output_type": "execute_result"
    }
   ],
   "source": [
    "math.pow(11,2)"
   ]
  },
  {
   "cell_type": "code",
   "execution_count": 54,
   "id": "b5ef3bdb-bf85-42ff-a1e0-306e4d4b0028",
   "metadata": {},
   "outputs": [
    {
     "data": {
      "text/plain": [
       "4.0"
      ]
     },
     "execution_count": 54,
     "metadata": {},
     "output_type": "execute_result"
    }
   ],
   "source": [
    "# square root -- sqrt()\n",
    "\n",
    "math.sqrt(16)"
   ]
  },
  {
   "cell_type": "code",
   "execution_count": 53,
   "id": "0168b607-4449-4ec5-893e-b3a671bbe02c",
   "metadata": {},
   "outputs": [
    {
     "data": {
      "text/plain": [
       "18.49324200890693"
      ]
     },
     "execution_count": 53,
     "metadata": {},
     "output_type": "execute_result"
    }
   ],
   "source": [
    "math.sqrt(342)"
   ]
  },
  {
   "cell_type": "code",
   "execution_count": 55,
   "id": "daca3676-3297-42d8-a091-e8dd07adf36b",
   "metadata": {},
   "outputs": [],
   "source": [
    "# trigonomatric function\n",
    "\n",
    "import math"
   ]
  },
  {
   "cell_type": "code",
   "execution_count": 59,
   "id": "5182be52-63a3-4f75-8e71-8e40e8822a98",
   "metadata": {},
   "outputs": [
    {
     "data": {
      "text/plain": [
       "0.479425538604203"
      ]
     },
     "execution_count": 59,
     "metadata": {},
     "output_type": "execute_result"
    }
   ],
   "source": [
    "math.sin(1/2)"
   ]
  },
  {
   "cell_type": "code",
   "execution_count": 60,
   "id": "55854bfc-e388-4b57-a853-e6736a3d789b",
   "metadata": {},
   "outputs": [
    {
     "data": {
      "text/plain": [
       "-0.9524129804151563"
      ]
     },
     "execution_count": 60,
     "metadata": {},
     "output_type": "execute_result"
    }
   ],
   "source": [
    "math.cos(60)"
   ]
  },
  {
   "cell_type": "code",
   "execution_count": 61,
   "id": "6816b862-1d87-4e8f-af92-30152def9a50",
   "metadata": {},
   "outputs": [
    {
     "data": {
      "text/plain": [
       "0.0"
      ]
     },
     "execution_count": 61,
     "metadata": {},
     "output_type": "execute_result"
    }
   ],
   "source": [
    "math.tan(0)"
   ]
  },
  {
   "cell_type": "code",
   "execution_count": 65,
   "id": "e8a4ceb8-1262-49eb-aeeb-189af0cf4b0c",
   "metadata": {},
   "outputs": [
    {
     "data": {
      "text/plain": [
       "-0.9880316240928618"
      ]
     },
     "execution_count": 65,
     "metadata": {},
     "output_type": "execute_result"
    }
   ],
   "source": [
    "math.sin(30)"
   ]
  },
  {
   "cell_type": "code",
   "execution_count": 68,
   "id": "f5ba29c6-26a4-4208-aa45-c87cfe1b6ef1",
   "metadata": {},
   "outputs": [
    {
     "data": {
      "text/plain": [
       "6.4031242374328485"
      ]
     },
     "execution_count": 68,
     "metadata": {},
     "output_type": "execute_result"
    }
   ],
   "source": [
    "# hypotenious function\n",
    "# finding the hypotenious of triangle\n",
    "# hypot()\n",
    "\n",
    "math.hypot(4,5)"
   ]
  },
  {
   "cell_type": "code",
   "execution_count": 69,
   "id": "bdad16c0-164c-4140-8b1b-6c84c1566157",
   "metadata": {},
   "outputs": [
    {
     "data": {
      "text/plain": [
       "3.605551275463989"
      ]
     },
     "execution_count": 69,
     "metadata": {},
     "output_type": "execute_result"
    }
   ],
   "source": [
    "math.hypot(2,3)"
   ]
  },
  {
   "cell_type": "code",
   "execution_count": 76,
   "id": "f25b1d75-4dcd-4016-96d7-9fddad3c2f3e",
   "metadata": {},
   "outputs": [
    {
     "data": {
      "text/plain": [
       "(0.8900000000000006, 59.0)"
      ]
     },
     "execution_count": 76,
     "metadata": {},
     "output_type": "execute_result"
    }
   ],
   "source": [
    "# modification function\n",
    "# it will provide the fractional and integral part of num.\n",
    "\n",
    "math.modf(59.89)"
   ]
  },
  {
   "cell_type": "code",
   "execution_count": 75,
   "id": "977db6f0-1a95-4af3-af82-4c811cacf4e9",
   "metadata": {},
   "outputs": [
    {
     "data": {
      "text/plain": [
       "(0.5689999999999884, 189.0)"
      ]
     },
     "execution_count": 75,
     "metadata": {},
     "output_type": "execute_result"
    }
   ],
   "source": [
    "math.modf(189.569)"
   ]
  },
  {
   "cell_type": "markdown",
   "id": "a13d1de1-02d6-407d-9db1-7b583b600cb7",
   "metadata": {},
   "source": [
    "#### Assignment\n",
    "#### 1. program to check the prime numbers\n",
    "#### 2. program to check the max of 3 numbers"
   ]
  }
 ],
 "metadata": {
  "kernelspec": {
   "display_name": "Python 3 (ipykernel)",
   "language": "python",
   "name": "python3"
  },
  "language_info": {
   "codemirror_mode": {
    "name": "ipython",
    "version": 3
   },
   "file_extension": ".py",
   "mimetype": "text/x-python",
   "name": "python",
   "nbconvert_exporter": "python",
   "pygments_lexer": "ipython3",
   "version": "3.12.4"
  }
 },
 "nbformat": 4,
 "nbformat_minor": 5
}
