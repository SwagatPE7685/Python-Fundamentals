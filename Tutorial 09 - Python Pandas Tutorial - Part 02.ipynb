{
 "cells": [
  {
   "cell_type": "markdown",
   "id": "efce9e60-22ff-482e-9c3d-56b1ff4b4c27",
   "metadata": {},
   "source": [
    "# Tutorial 09 - Python Pandas Tutorial - Part 02\n",
    "\n",
    "in this part we are going to learn about\n",
    "1. stringIO\n",
    "2. Pandas Read_csv"
   ]
  },
  {
   "cell_type": "code",
   "execution_count": 1,
   "id": "4761353e-a297-4e2b-8702-06fc62998feb",
   "metadata": {},
   "outputs": [],
   "source": [
    "## reading different data sources with the help of pandas\n",
    "from io import StringIO"
   ]
  },
  {
   "cell_type": "code",
   "execution_count": 2,
   "id": "d5cb877f-faa8-4c17-8d4c-651ad0cd35a2",
   "metadata": {},
   "outputs": [],
   "source": [
    "import pandas as pd"
   ]
  },
  {
   "cell_type": "code",
   "execution_count": 27,
   "id": "c038df69-8153-404b-9203-381ab8d7257a",
   "metadata": {},
   "outputs": [],
   "source": [
    "df=pd.read_csv('Exhibitor lis - IEW 2024.csv')"
   ]
  },
  {
   "cell_type": "code",
   "execution_count": 37,
   "id": "8740aca7-df05-4c07-b8fb-13b1e218ff1e",
   "metadata": {},
   "outputs": [
    {
     "data": {
      "text/html": [
       "<div>\n",
       "<style scoped>\n",
       "    .dataframe tbody tr th:only-of-type {\n",
       "        vertical-align: middle;\n",
       "    }\n",
       "\n",
       "    .dataframe tbody tr th {\n",
       "        vertical-align: top;\n",
       "    }\n",
       "\n",
       "    .dataframe thead th {\n",
       "        text-align: right;\n",
       "    }\n",
       "</style>\n",
       "<table border=\"1\" class=\"dataframe\">\n",
       "  <thead>\n",
       "    <tr style=\"text-align: right;\">\n",
       "      <th></th>\n",
       "      <th>ID</th>\n",
       "      <th>A1</th>\n",
       "      <th>A2</th>\n",
       "      <th>A3</th>\n",
       "      <th>A4</th>\n",
       "      <th>A5</th>\n",
       "      <th>A6</th>\n",
       "      <th>A7</th>\n",
       "      <th>A8</th>\n",
       "      <th>A9</th>\n",
       "      <th>A10</th>\n",
       "      <th>A11</th>\n",
       "      <th>A12</th>\n",
       "      <th>A13</th>\n",
       "    </tr>\n",
       "  </thead>\n",
       "  <tbody>\n",
       "    <tr>\n",
       "      <th>0</th>\n",
       "      <td>DFG</td>\n",
       "      <td>DFG</td>\n",
       "      <td>15</td>\n",
       "      <td>16</td>\n",
       "      <td>OPL</td>\n",
       "      <td>19</td>\n",
       "      <td>15</td>\n",
       "      <td>30</td>\n",
       "      <td>15</td>\n",
       "      <td>16</td>\n",
       "      <td>OPL</td>\n",
       "      <td>19</td>\n",
       "      <td>15</td>\n",
       "      <td>30</td>\n",
       "    </tr>\n",
       "    <tr>\n",
       "      <th>1</th>\n",
       "      <td>2</td>\n",
       "      <td>31</td>\n",
       "      <td>ABC</td>\n",
       "      <td>DFG</td>\n",
       "      <td>ABC</td>\n",
       "      <td>20</td>\n",
       "      <td>DFG</td>\n",
       "      <td>ABC</td>\n",
       "      <td>DFG</td>\n",
       "      <td>17</td>\n",
       "      <td>ABC</td>\n",
       "      <td>20</td>\n",
       "      <td>16</td>\n",
       "      <td>31</td>\n",
       "    </tr>\n",
       "    <tr>\n",
       "      <th>2</th>\n",
       "      <td>DFG</td>\n",
       "      <td>DFG</td>\n",
       "      <td>17</td>\n",
       "      <td>OPL</td>\n",
       "      <td>20</td>\n",
       "      <td>ABC</td>\n",
       "      <td>17</td>\n",
       "      <td>32</td>\n",
       "      <td>17</td>\n",
       "      <td>OPL</td>\n",
       "      <td>DFG</td>\n",
       "      <td>ABC</td>\n",
       "      <td>17</td>\n",
       "      <td>32</td>\n",
       "    </tr>\n",
       "    <tr>\n",
       "      <th>3</th>\n",
       "      <td>4</td>\n",
       "      <td>33</td>\n",
       "      <td>ABC</td>\n",
       "      <td>19</td>\n",
       "      <td>21</td>\n",
       "      <td>22</td>\n",
       "      <td>OPL</td>\n",
       "      <td>33</td>\n",
       "      <td>OPL</td>\n",
       "      <td>19</td>\n",
       "      <td>21</td>\n",
       "      <td>22</td>\n",
       "      <td>DFG</td>\n",
       "      <td>33</td>\n",
       "    </tr>\n",
       "    <tr>\n",
       "      <th>4</th>\n",
       "      <td>5</td>\n",
       "      <td>34</td>\n",
       "      <td>19</td>\n",
       "      <td>20</td>\n",
       "      <td>DFG</td>\n",
       "      <td>DFG</td>\n",
       "      <td>19</td>\n",
       "      <td>DFG</td>\n",
       "      <td>DFG</td>\n",
       "      <td>20</td>\n",
       "      <td>22</td>\n",
       "      <td>23</td>\n",
       "      <td>19</td>\n",
       "      <td>34</td>\n",
       "    </tr>\n",
       "  </tbody>\n",
       "</table>\n",
       "</div>"
      ],
      "text/plain": [
       "    ID   A1   A2   A3   A4   A5   A6   A7   A8   A9  A10  A11  A12 A13\n",
       "0  DFG  DFG   15   16  OPL   19   15   30   15   16  OPL   19   15  30\n",
       "1    2   31  ABC  DFG  ABC   20  DFG  ABC  DFG   17  ABC   20   16  31\n",
       "2  DFG  DFG   17  OPL   20  ABC   17   32   17  OPL  DFG  ABC   17  32\n",
       "3    4   33  ABC   19   21   22  OPL   33  OPL   19   21   22  DFG  33\n",
       "4    5   34   19   20  DFG  DFG   19  DFG  DFG   20   22   23   19  34"
      ]
     },
     "execution_count": 37,
     "metadata": {},
     "output_type": "execute_result"
    }
   ],
   "source": [
    "df.head()"
   ]
  },
  {
   "cell_type": "code",
   "execution_count": 38,
   "id": "84a02b9a-ed83-4c08-b525-322019fe2e11",
   "metadata": {},
   "outputs": [
    {
     "data": {
      "text/plain": [
       "pandas.core.frame.DataFrame"
      ]
     },
     "execution_count": 38,
     "metadata": {},
     "output_type": "execute_result"
    }
   ],
   "source": [
    "type(df)"
   ]
  },
  {
   "cell_type": "code",
   "execution_count": 45,
   "id": "a7b99c23-87ff-415b-a078-fdb30536081e",
   "metadata": {},
   "outputs": [],
   "source": [
    "data=('col1,col2,col3\\n'\n",
    "     'x,y,1\\n'\n",
    "     'a,b,2\\n'\n",
    "     'c,d,3')"
   ]
  },
  {
   "cell_type": "code",
   "execution_count": 46,
   "id": "c3d97ce8-8285-4489-8d69-a0b794a394fe",
   "metadata": {},
   "outputs": [
    {
     "data": {
      "text/plain": [
       "str"
      ]
     },
     "execution_count": 46,
     "metadata": {},
     "output_type": "execute_result"
    }
   ],
   "source": [
    "type(data)"
   ]
  },
  {
   "cell_type": "code",
   "execution_count": 50,
   "id": "bc87185c-8e8a-4741-a3e9-4a974360b56b",
   "metadata": {},
   "outputs": [
    {
     "data": {
      "text/plain": [
       "<_io.StringIO at 0x1f23da5d780>"
      ]
     },
     "execution_count": 50,
     "metadata": {},
     "output_type": "execute_result"
    }
   ],
   "source": [
    "# in memory file object\n",
    "StringIO(data)"
   ]
  },
  {
   "cell_type": "code",
   "execution_count": 49,
   "id": "34a1cc83-dbd3-4b74-8c3e-b620d43e5c3d",
   "metadata": {},
   "outputs": [
    {
     "data": {
      "text/html": [
       "<div>\n",
       "<style scoped>\n",
       "    .dataframe tbody tr th:only-of-type {\n",
       "        vertical-align: middle;\n",
       "    }\n",
       "\n",
       "    .dataframe tbody tr th {\n",
       "        vertical-align: top;\n",
       "    }\n",
       "\n",
       "    .dataframe thead th {\n",
       "        text-align: right;\n",
       "    }\n",
       "</style>\n",
       "<table border=\"1\" class=\"dataframe\">\n",
       "  <thead>\n",
       "    <tr style=\"text-align: right;\">\n",
       "      <th></th>\n",
       "      <th>col1</th>\n",
       "      <th>col2</th>\n",
       "      <th>col3</th>\n",
       "    </tr>\n",
       "  </thead>\n",
       "  <tbody>\n",
       "    <tr>\n",
       "      <th>0</th>\n",
       "      <td>x</td>\n",
       "      <td>y</td>\n",
       "      <td>1</td>\n",
       "    </tr>\n",
       "    <tr>\n",
       "      <th>1</th>\n",
       "      <td>a</td>\n",
       "      <td>b</td>\n",
       "      <td>2</td>\n",
       "    </tr>\n",
       "    <tr>\n",
       "      <th>2</th>\n",
       "      <td>c</td>\n",
       "      <td>d</td>\n",
       "      <td>3</td>\n",
       "    </tr>\n",
       "  </tbody>\n",
       "</table>\n",
       "</div>"
      ],
      "text/plain": [
       "  col1 col2  col3\n",
       "0    x    y     1\n",
       "1    a    b     2\n",
       "2    c    d     3"
      ]
     },
     "execution_count": 49,
     "metadata": {},
     "output_type": "execute_result"
    }
   ],
   "source": [
    "pd.read_csv(StringIO(data))"
   ]
  },
  {
   "cell_type": "code",
   "execution_count": 52,
   "id": "9dc7ad98-249c-4b76-97d6-dfb25ab83c3c",
   "metadata": {},
   "outputs": [
    {
     "data": {
      "text/html": [
       "<div>\n",
       "<style scoped>\n",
       "    .dataframe tbody tr th:only-of-type {\n",
       "        vertical-align: middle;\n",
       "    }\n",
       "\n",
       "    .dataframe tbody tr th {\n",
       "        vertical-align: top;\n",
       "    }\n",
       "\n",
       "    .dataframe thead th {\n",
       "        text-align: right;\n",
       "    }\n",
       "</style>\n",
       "<table border=\"1\" class=\"dataframe\">\n",
       "  <thead>\n",
       "    <tr style=\"text-align: right;\">\n",
       "      <th></th>\n",
       "      <th>col1</th>\n",
       "      <th>col2</th>\n",
       "    </tr>\n",
       "  </thead>\n",
       "  <tbody>\n",
       "    <tr>\n",
       "      <th>0</th>\n",
       "      <td>x</td>\n",
       "      <td>y</td>\n",
       "    </tr>\n",
       "    <tr>\n",
       "      <th>1</th>\n",
       "      <td>a</td>\n",
       "      <td>b</td>\n",
       "    </tr>\n",
       "    <tr>\n",
       "      <th>2</th>\n",
       "      <td>c</td>\n",
       "      <td>d</td>\n",
       "    </tr>\n",
       "  </tbody>\n",
       "</table>\n",
       "</div>"
      ],
      "text/plain": [
       "  col1 col2\n",
       "0    x    y\n",
       "1    a    b\n",
       "2    c    d"
      ]
     },
     "execution_count": 52,
     "metadata": {},
     "output_type": "execute_result"
    }
   ],
   "source": [
    "pd.read_csv(StringIO(data),usecols=['col1','col2'])"
   ]
  },
  {
   "cell_type": "code",
   "execution_count": 56,
   "id": "23188701-5f38-4925-a85b-fb696b5d6731",
   "metadata": {},
   "outputs": [],
   "source": [
    "de = pd.read_csv('Exhibitor lis - IEW 2024.csv',usecols=['A1','A2','A3','A4','A5'])"
   ]
  },
  {
   "cell_type": "code",
   "execution_count": 60,
   "id": "69d95e02-60dd-417d-accd-c060f342a97d",
   "metadata": {},
   "outputs": [
    {
     "data": {
      "text/html": [
       "<div>\n",
       "<style scoped>\n",
       "    .dataframe tbody tr th:only-of-type {\n",
       "        vertical-align: middle;\n",
       "    }\n",
       "\n",
       "    .dataframe tbody tr th {\n",
       "        vertical-align: top;\n",
       "    }\n",
       "\n",
       "    .dataframe thead th {\n",
       "        text-align: right;\n",
       "    }\n",
       "</style>\n",
       "<table border=\"1\" class=\"dataframe\">\n",
       "  <thead>\n",
       "    <tr style=\"text-align: right;\">\n",
       "      <th></th>\n",
       "      <th>A1</th>\n",
       "      <th>A2</th>\n",
       "      <th>A3</th>\n",
       "      <th>A4</th>\n",
       "      <th>A5</th>\n",
       "    </tr>\n",
       "  </thead>\n",
       "  <tbody>\n",
       "    <tr>\n",
       "      <th>389</th>\n",
       "      <td>DFG</td>\n",
       "      <td>30</td>\n",
       "      <td>25</td>\n",
       "      <td>33</td>\n",
       "      <td>DFG</td>\n",
       "    </tr>\n",
       "    <tr>\n",
       "      <th>390</th>\n",
       "      <td>40</td>\n",
       "      <td>31</td>\n",
       "      <td>DFG</td>\n",
       "      <td>ABC</td>\n",
       "      <td>HJO</td>\n",
       "    </tr>\n",
       "    <tr>\n",
       "      <th>391</th>\n",
       "      <td>DFG</td>\n",
       "      <td>ABC</td>\n",
       "      <td>31</td>\n",
       "      <td>HJO</td>\n",
       "      <td>36</td>\n",
       "    </tr>\n",
       "    <tr>\n",
       "      <th>392</th>\n",
       "      <td>48</td>\n",
       "      <td>27</td>\n",
       "      <td>32</td>\n",
       "      <td>36</td>\n",
       "      <td>37</td>\n",
       "    </tr>\n",
       "    <tr>\n",
       "      <th>393</th>\n",
       "      <td>49</td>\n",
       "      <td>DFG</td>\n",
       "      <td>DFG</td>\n",
       "      <td>37</td>\n",
       "      <td>DFG</td>\n",
       "    </tr>\n",
       "  </tbody>\n",
       "</table>\n",
       "</div>"
      ],
      "text/plain": [
       "      A1   A2   A3   A4   A5\n",
       "389  DFG   30   25   33  DFG\n",
       "390   40   31  DFG  ABC  HJO\n",
       "391  DFG  ABC   31  HJO   36\n",
       "392   48   27   32   36   37\n",
       "393   49  DFG  DFG   37  DFG"
      ]
     },
     "execution_count": 60,
     "metadata": {},
     "output_type": "execute_result"
    }
   ],
   "source": [
    "de.tail()"
   ]
  },
  {
   "cell_type": "code",
   "execution_count": 61,
   "id": "d277263e-d6b4-4de1-9bf8-ef9b02f7f68d",
   "metadata": {},
   "outputs": [
    {
     "data": {
      "text/html": [
       "<div>\n",
       "<style scoped>\n",
       "    .dataframe tbody tr th:only-of-type {\n",
       "        vertical-align: middle;\n",
       "    }\n",
       "\n",
       "    .dataframe tbody tr th {\n",
       "        vertical-align: top;\n",
       "    }\n",
       "\n",
       "    .dataframe thead th {\n",
       "        text-align: right;\n",
       "    }\n",
       "</style>\n",
       "<table border=\"1\" class=\"dataframe\">\n",
       "  <thead>\n",
       "    <tr style=\"text-align: right;\">\n",
       "      <th></th>\n",
       "      <th>A1</th>\n",
       "      <th>A2</th>\n",
       "      <th>A3</th>\n",
       "      <th>A4</th>\n",
       "      <th>A5</th>\n",
       "    </tr>\n",
       "  </thead>\n",
       "  <tbody>\n",
       "    <tr>\n",
       "      <th>0</th>\n",
       "      <td>DFG</td>\n",
       "      <td>15</td>\n",
       "      <td>16</td>\n",
       "      <td>OPL</td>\n",
       "      <td>19</td>\n",
       "    </tr>\n",
       "    <tr>\n",
       "      <th>1</th>\n",
       "      <td>31</td>\n",
       "      <td>ABC</td>\n",
       "      <td>DFG</td>\n",
       "      <td>ABC</td>\n",
       "      <td>20</td>\n",
       "    </tr>\n",
       "    <tr>\n",
       "      <th>2</th>\n",
       "      <td>DFG</td>\n",
       "      <td>17</td>\n",
       "      <td>OPL</td>\n",
       "      <td>20</td>\n",
       "      <td>ABC</td>\n",
       "    </tr>\n",
       "    <tr>\n",
       "      <th>3</th>\n",
       "      <td>33</td>\n",
       "      <td>ABC</td>\n",
       "      <td>19</td>\n",
       "      <td>21</td>\n",
       "      <td>22</td>\n",
       "    </tr>\n",
       "    <tr>\n",
       "      <th>4</th>\n",
       "      <td>34</td>\n",
       "      <td>19</td>\n",
       "      <td>20</td>\n",
       "      <td>DFG</td>\n",
       "      <td>DFG</td>\n",
       "    </tr>\n",
       "  </tbody>\n",
       "</table>\n",
       "</div>"
      ],
      "text/plain": [
       "    A1   A2   A3   A4   A5\n",
       "0  DFG   15   16  OPL   19\n",
       "1   31  ABC  DFG  ABC   20\n",
       "2  DFG   17  OPL   20  ABC\n",
       "3   33  ABC   19   21   22\n",
       "4   34   19   20  DFG  DFG"
      ]
     },
     "execution_count": 61,
     "metadata": {},
     "output_type": "execute_result"
    }
   ],
   "source": [
    "de.head()"
   ]
  },
  {
   "cell_type": "code",
   "execution_count": 63,
   "id": "df3604be-64de-42e5-a3f9-4bd68284896b",
   "metadata": {},
   "outputs": [],
   "source": [
    "# convert this into csv only yht selected one\n",
    "\n",
    "de.to_csv('test.csv')"
   ]
  },
  {
   "cell_type": "code",
   "execution_count": 64,
   "id": "4932a221-64c8-49f6-8948-5d529f9accc2",
   "metadata": {},
   "outputs": [],
   "source": [
    "#to remove indexing from table in csv\n",
    "de.to_csv('test.csv', index=False)"
   ]
  },
  {
   "cell_type": "code",
   "execution_count": 66,
   "id": "67a8e531-d99c-477d-a347-f3510a9ed108",
   "metadata": {},
   "outputs": [],
   "source": [
    "## can we specify data types in csv\n",
    "\n",
    "data=('a,b,c,d\\n'\n",
    "     '1,2,5,4\\n'\n",
    "     '7,8,9,5\\n'\n",
    "     '7,5,3')"
   ]
  },
  {
   "cell_type": "code",
   "execution_count": 68,
   "id": "606437ce-218f-4df1-8b76-5f912064ebc7",
   "metadata": {},
   "outputs": [],
   "source": [
    "dt= pd.read_csv(StringIO(data))"
   ]
  },
  {
   "cell_type": "code",
   "execution_count": 69,
   "id": "65f9a5e4-28dc-4771-8c76-322abfb57060",
   "metadata": {},
   "outputs": [
    {
     "data": {
      "text/html": [
       "<div>\n",
       "<style scoped>\n",
       "    .dataframe tbody tr th:only-of-type {\n",
       "        vertical-align: middle;\n",
       "    }\n",
       "\n",
       "    .dataframe tbody tr th {\n",
       "        vertical-align: top;\n",
       "    }\n",
       "\n",
       "    .dataframe thead th {\n",
       "        text-align: right;\n",
       "    }\n",
       "</style>\n",
       "<table border=\"1\" class=\"dataframe\">\n",
       "  <thead>\n",
       "    <tr style=\"text-align: right;\">\n",
       "      <th></th>\n",
       "      <th>a</th>\n",
       "      <th>b</th>\n",
       "      <th>c</th>\n",
       "      <th>d</th>\n",
       "    </tr>\n",
       "  </thead>\n",
       "  <tbody>\n",
       "    <tr>\n",
       "      <th>0</th>\n",
       "      <td>1</td>\n",
       "      <td>2</td>\n",
       "      <td>5</td>\n",
       "      <td>4.0</td>\n",
       "    </tr>\n",
       "    <tr>\n",
       "      <th>1</th>\n",
       "      <td>7</td>\n",
       "      <td>8</td>\n",
       "      <td>9</td>\n",
       "      <td>5.0</td>\n",
       "    </tr>\n",
       "    <tr>\n",
       "      <th>2</th>\n",
       "      <td>7</td>\n",
       "      <td>5</td>\n",
       "      <td>3</td>\n",
       "      <td>NaN</td>\n",
       "    </tr>\n",
       "  </tbody>\n",
       "</table>\n",
       "</div>"
      ],
      "text/plain": [
       "   a  b  c    d\n",
       "0  1  2  5  4.0\n",
       "1  7  8  9  5.0\n",
       "2  7  5  3  NaN"
      ]
     },
     "execution_count": 69,
     "metadata": {},
     "output_type": "execute_result"
    }
   ],
   "source": [
    "dt"
   ]
  },
  {
   "cell_type": "code",
   "execution_count": 70,
   "id": "77da44fd-be9a-4b23-b5a3-d9d033546e10",
   "metadata": {},
   "outputs": [
    {
     "name": "stdout",
     "output_type": "stream",
     "text": [
      "<class 'pandas.core.frame.DataFrame'>\n",
      "RangeIndex: 3 entries, 0 to 2\n",
      "Data columns (total 4 columns):\n",
      " #   Column  Non-Null Count  Dtype  \n",
      "---  ------  --------------  -----  \n",
      " 0   a       3 non-null      int64  \n",
      " 1   b       3 non-null      int64  \n",
      " 2   c       3 non-null      int64  \n",
      " 3   d       2 non-null      float64\n",
      "dtypes: float64(1), int64(3)\n",
      "memory usage: 228.0 bytes\n"
     ]
    }
   ],
   "source": [
    "dt.info()"
   ]
  },
  {
   "cell_type": "code",
   "execution_count": 75,
   "id": "5ff35cb2-c88e-477b-b48f-2c4340eea2f1",
   "metadata": {},
   "outputs": [],
   "source": [
    "#we can also change dtype\n",
    "\n",
    "dt= pd.read_csv(StringIO(data),dtype='object')"
   ]
  },
  {
   "cell_type": "code",
   "execution_count": 73,
   "id": "3a61fb05-f239-4641-9868-b96c31ab4eef",
   "metadata": {},
   "outputs": [
    {
     "name": "stdout",
     "output_type": "stream",
     "text": [
      "<class 'pandas.core.frame.DataFrame'>\n",
      "RangeIndex: 3 entries, 0 to 2\n",
      "Data columns (total 4 columns):\n",
      " #   Column  Non-Null Count  Dtype \n",
      "---  ------  --------------  ----- \n",
      " 0   a       3 non-null      object\n",
      " 1   b       3 non-null      object\n",
      " 2   c       3 non-null      object\n",
      " 3   d       2 non-null      object\n",
      "dtypes: object(4)\n",
      "memory usage: 228.0+ bytes\n"
     ]
    }
   ],
   "source": [
    "dt.info()"
   ]
  },
  {
   "cell_type": "code",
   "execution_count": 77,
   "id": "f45c91e7-a5cf-45d1-92c1-78a27d97d6d5",
   "metadata": {},
   "outputs": [
    {
     "data": {
      "text/html": [
       "<div>\n",
       "<style scoped>\n",
       "    .dataframe tbody tr th:only-of-type {\n",
       "        vertical-align: middle;\n",
       "    }\n",
       "\n",
       "    .dataframe tbody tr th {\n",
       "        vertical-align: top;\n",
       "    }\n",
       "\n",
       "    .dataframe thead th {\n",
       "        text-align: right;\n",
       "    }\n",
       "</style>\n",
       "<table border=\"1\" class=\"dataframe\">\n",
       "  <thead>\n",
       "    <tr style=\"text-align: right;\">\n",
       "      <th></th>\n",
       "      <th>a</th>\n",
       "      <th>b</th>\n",
       "      <th>c</th>\n",
       "      <th>d</th>\n",
       "    </tr>\n",
       "  </thead>\n",
       "  <tbody>\n",
       "    <tr>\n",
       "      <th>0</th>\n",
       "      <td>1</td>\n",
       "      <td>2</td>\n",
       "      <td>5</td>\n",
       "      <td>4</td>\n",
       "    </tr>\n",
       "    <tr>\n",
       "      <th>1</th>\n",
       "      <td>7</td>\n",
       "      <td>8</td>\n",
       "      <td>9</td>\n",
       "      <td>5</td>\n",
       "    </tr>\n",
       "    <tr>\n",
       "      <th>2</th>\n",
       "      <td>7</td>\n",
       "      <td>5</td>\n",
       "      <td>3</td>\n",
       "      <td>NaN</td>\n",
       "    </tr>\n",
       "  </tbody>\n",
       "</table>\n",
       "</div>"
      ],
      "text/plain": [
       "   a  b  c    d\n",
       "0  1  2  5    4\n",
       "1  7  8  9    5\n",
       "2  7  5  3  NaN"
      ]
     },
     "execution_count": 77,
     "metadata": {},
     "output_type": "execute_result"
    }
   ],
   "source": [
    "dt.head()"
   ]
  },
  {
   "cell_type": "code",
   "execution_count": 78,
   "id": "bf62ea42-2f43-4ab0-b768-e6d7321ea155",
   "metadata": {},
   "outputs": [
    {
     "data": {
      "text/plain": [
       "a    0\n",
       "b    0\n",
       "c    0\n",
       "d    1\n",
       "dtype: int64"
      ]
     },
     "execution_count": 78,
     "metadata": {},
     "output_type": "execute_result"
    }
   ],
   "source": [
    "dt.isnull().sum()"
   ]
  },
  {
   "cell_type": "code",
   "execution_count": 89,
   "id": "d9bf871d-b636-4be9-b617-26aeebe775e6",
   "metadata": {},
   "outputs": [
    {
     "data": {
      "text/html": [
       "<div>\n",
       "<style scoped>\n",
       "    .dataframe tbody tr th:only-of-type {\n",
       "        vertical-align: middle;\n",
       "    }\n",
       "\n",
       "    .dataframe tbody tr th {\n",
       "        vertical-align: top;\n",
       "    }\n",
       "\n",
       "    .dataframe thead th {\n",
       "        text-align: right;\n",
       "    }\n",
       "</style>\n",
       "<table border=\"1\" class=\"dataframe\">\n",
       "  <thead>\n",
       "    <tr style=\"text-align: right;\">\n",
       "      <th></th>\n",
       "      <th>a</th>\n",
       "      <th>b</th>\n",
       "    </tr>\n",
       "  </thead>\n",
       "  <tbody>\n",
       "    <tr>\n",
       "      <th>1</th>\n",
       "      <td>7</td>\n",
       "      <td>8</td>\n",
       "    </tr>\n",
       "    <tr>\n",
       "      <th>2</th>\n",
       "      <td>7</td>\n",
       "      <td>5</td>\n",
       "    </tr>\n",
       "  </tbody>\n",
       "</table>\n",
       "</div>"
      ],
      "text/plain": [
       "   a  b\n",
       "1  7  8\n",
       "2  7  5"
      ]
     },
     "execution_count": 89,
     "metadata": {},
     "output_type": "execute_result"
    }
   ],
   "source": [
    "dt[['a','b']][1:3]"
   ]
  },
  {
   "cell_type": "code",
   "execution_count": 96,
   "id": "8f709813-f14b-45af-adfc-b770710ef8ef",
   "metadata": {},
   "outputs": [],
   "source": [
    "# want to specify different data types\n",
    "\n",
    "data=('a,b,c,d\\n'\n",
    "     '1,2,5,4\\n'\n",
    "     '7,8,9,5\\n'\n",
    "     '7,5,3,10')"
   ]
  },
  {
   "cell_type": "code",
   "execution_count": 97,
   "id": "008b1fdd-12bb-4104-955a-3fd78e7cce54",
   "metadata": {},
   "outputs": [],
   "source": [
    "dt= pd.read_csv(StringIO(data),dtype={'a':int,'b':float,'c':object})"
   ]
  },
  {
   "cell_type": "code",
   "execution_count": 99,
   "id": "6ab279b2-4f06-42af-bd76-8c26daf74302",
   "metadata": {},
   "outputs": [
    {
     "data": {
      "text/html": [
       "<div>\n",
       "<style scoped>\n",
       "    .dataframe tbody tr th:only-of-type {\n",
       "        vertical-align: middle;\n",
       "    }\n",
       "\n",
       "    .dataframe tbody tr th {\n",
       "        vertical-align: top;\n",
       "    }\n",
       "\n",
       "    .dataframe thead th {\n",
       "        text-align: right;\n",
       "    }\n",
       "</style>\n",
       "<table border=\"1\" class=\"dataframe\">\n",
       "  <thead>\n",
       "    <tr style=\"text-align: right;\">\n",
       "      <th></th>\n",
       "      <th>a</th>\n",
       "      <th>b</th>\n",
       "      <th>c</th>\n",
       "      <th>d</th>\n",
       "    </tr>\n",
       "  </thead>\n",
       "  <tbody>\n",
       "    <tr>\n",
       "      <th>0</th>\n",
       "      <td>1</td>\n",
       "      <td>2.0</td>\n",
       "      <td>5</td>\n",
       "      <td>4</td>\n",
       "    </tr>\n",
       "    <tr>\n",
       "      <th>1</th>\n",
       "      <td>7</td>\n",
       "      <td>8.0</td>\n",
       "      <td>9</td>\n",
       "      <td>5</td>\n",
       "    </tr>\n",
       "    <tr>\n",
       "      <th>2</th>\n",
       "      <td>7</td>\n",
       "      <td>5.0</td>\n",
       "      <td>3</td>\n",
       "      <td>10</td>\n",
       "    </tr>\n",
       "  </tbody>\n",
       "</table>\n",
       "</div>"
      ],
      "text/plain": [
       "   a    b  c   d\n",
       "0  1  2.0  5   4\n",
       "1  7  8.0  9   5\n",
       "2  7  5.0  3  10"
      ]
     },
     "execution_count": 99,
     "metadata": {},
     "output_type": "execute_result"
    }
   ],
   "source": [
    "dt"
   ]
  },
  {
   "cell_type": "code",
   "execution_count": 98,
   "id": "1cc58fd6-87e7-42bd-a256-2b8b231bfdfe",
   "metadata": {},
   "outputs": [
    {
     "name": "stdout",
     "output_type": "stream",
     "text": [
      "<class 'pandas.core.frame.DataFrame'>\n",
      "RangeIndex: 3 entries, 0 to 2\n",
      "Data columns (total 4 columns):\n",
      " #   Column  Non-Null Count  Dtype  \n",
      "---  ------  --------------  -----  \n",
      " 0   a       3 non-null      int32  \n",
      " 1   b       3 non-null      float64\n",
      " 2   c       3 non-null      object \n",
      " 3   d       3 non-null      int64  \n",
      "dtypes: float64(1), int32(1), int64(1), object(1)\n",
      "memory usage: 216.0+ bytes\n"
     ]
    }
   ],
   "source": [
    "dt.info()"
   ]
  },
  {
   "cell_type": "code",
   "execution_count": 100,
   "id": "e37e6c7a-2a83-455e-9c87-bfad2e744733",
   "metadata": {},
   "outputs": [],
   "source": [
    "#another Example\n",
    "\n",
    "data=('Index,b,c,d\\n'\n",
    "     '1,2,babu,4\\n'\n",
    "     '7,8,9.8,5\\n'\n",
    "     '7,hello,3,10')"
   ]
  },
  {
   "cell_type": "code",
   "execution_count": 101,
   "id": "f4cfebde-b16a-4c3f-b93e-5e86742ce17c",
   "metadata": {},
   "outputs": [],
   "source": [
    "dr =pd.read_csv(StringIO(data))"
   ]
  },
  {
   "cell_type": "code",
   "execution_count": 102,
   "id": "db3fa748-f4bc-4ee4-9d00-b8c8edb126db",
   "metadata": {},
   "outputs": [
    {
     "data": {
      "text/html": [
       "<div>\n",
       "<style scoped>\n",
       "    .dataframe tbody tr th:only-of-type {\n",
       "        vertical-align: middle;\n",
       "    }\n",
       "\n",
       "    .dataframe tbody tr th {\n",
       "        vertical-align: top;\n",
       "    }\n",
       "\n",
       "    .dataframe thead th {\n",
       "        text-align: right;\n",
       "    }\n",
       "</style>\n",
       "<table border=\"1\" class=\"dataframe\">\n",
       "  <thead>\n",
       "    <tr style=\"text-align: right;\">\n",
       "      <th></th>\n",
       "      <th>Index</th>\n",
       "      <th>b</th>\n",
       "      <th>c</th>\n",
       "      <th>d</th>\n",
       "    </tr>\n",
       "  </thead>\n",
       "  <tbody>\n",
       "    <tr>\n",
       "      <th>0</th>\n",
       "      <td>1</td>\n",
       "      <td>2</td>\n",
       "      <td>babu</td>\n",
       "      <td>4</td>\n",
       "    </tr>\n",
       "    <tr>\n",
       "      <th>1</th>\n",
       "      <td>7</td>\n",
       "      <td>8</td>\n",
       "      <td>9.8</td>\n",
       "      <td>5</td>\n",
       "    </tr>\n",
       "    <tr>\n",
       "      <th>2</th>\n",
       "      <td>7</td>\n",
       "      <td>hello</td>\n",
       "      <td>3</td>\n",
       "      <td>10</td>\n",
       "    </tr>\n",
       "  </tbody>\n",
       "</table>\n",
       "</div>"
      ],
      "text/plain": [
       "   Index      b     c   d\n",
       "0      1      2  babu   4\n",
       "1      7      8   9.8   5\n",
       "2      7  hello     3  10"
      ]
     },
     "execution_count": 102,
     "metadata": {},
     "output_type": "execute_result"
    }
   ],
   "source": [
    "dr"
   ]
  },
  {
   "cell_type": "code",
   "execution_count": 104,
   "id": "05c8cfbf-6cc8-4a52-9aba-d99884c5bfb4",
   "metadata": {},
   "outputs": [],
   "source": [
    "dr =pd.read_csv(StringIO(data),index_col=0)"
   ]
  },
  {
   "cell_type": "code",
   "execution_count": 105,
   "id": "a672c36a-f6a6-4ca8-aa67-9217dac7dc18",
   "metadata": {},
   "outputs": [
    {
     "data": {
      "text/html": [
       "<div>\n",
       "<style scoped>\n",
       "    .dataframe tbody tr th:only-of-type {\n",
       "        vertical-align: middle;\n",
       "    }\n",
       "\n",
       "    .dataframe tbody tr th {\n",
       "        vertical-align: top;\n",
       "    }\n",
       "\n",
       "    .dataframe thead th {\n",
       "        text-align: right;\n",
       "    }\n",
       "</style>\n",
       "<table border=\"1\" class=\"dataframe\">\n",
       "  <thead>\n",
       "    <tr style=\"text-align: right;\">\n",
       "      <th></th>\n",
       "      <th>b</th>\n",
       "      <th>c</th>\n",
       "      <th>d</th>\n",
       "    </tr>\n",
       "    <tr>\n",
       "      <th>Index</th>\n",
       "      <th></th>\n",
       "      <th></th>\n",
       "      <th></th>\n",
       "    </tr>\n",
       "  </thead>\n",
       "  <tbody>\n",
       "    <tr>\n",
       "      <th>1</th>\n",
       "      <td>2</td>\n",
       "      <td>babu</td>\n",
       "      <td>4</td>\n",
       "    </tr>\n",
       "    <tr>\n",
       "      <th>7</th>\n",
       "      <td>8</td>\n",
       "      <td>9.8</td>\n",
       "      <td>5</td>\n",
       "    </tr>\n",
       "    <tr>\n",
       "      <th>7</th>\n",
       "      <td>hello</td>\n",
       "      <td>3</td>\n",
       "      <td>10</td>\n",
       "    </tr>\n",
       "  </tbody>\n",
       "</table>\n",
       "</div>"
      ],
      "text/plain": [
       "           b     c   d\n",
       "Index                 \n",
       "1          2  babu   4\n",
       "7          8   9.8   5\n",
       "7      hello     3  10"
      ]
     },
     "execution_count": 105,
     "metadata": {},
     "output_type": "execute_result"
    }
   ],
   "source": [
    "dr"
   ]
  },
  {
   "cell_type": "code",
   "execution_count": 118,
   "id": "4a5b092e-8710-48fd-bcdf-6757e027f451",
   "metadata": {},
   "outputs": [
    {
     "data": {
      "text/html": [
       "<div>\n",
       "<style scoped>\n",
       "    .dataframe tbody tr th:only-of-type {\n",
       "        vertical-align: middle;\n",
       "    }\n",
       "\n",
       "    .dataframe tbody tr th {\n",
       "        vertical-align: top;\n",
       "    }\n",
       "\n",
       "    .dataframe thead th {\n",
       "        text-align: right;\n",
       "    }\n",
       "</style>\n",
       "<table border=\"1\" class=\"dataframe\">\n",
       "  <thead>\n",
       "    <tr style=\"text-align: right;\">\n",
       "      <th></th>\n",
       "      <th>d</th>\n",
       "    </tr>\n",
       "    <tr>\n",
       "      <th>b</th>\n",
       "      <th></th>\n",
       "    </tr>\n",
       "  </thead>\n",
       "  <tbody>\n",
       "    <tr>\n",
       "      <th>2</th>\n",
       "      <td>4</td>\n",
       "    </tr>\n",
       "    <tr>\n",
       "      <th>8</th>\n",
       "      <td>5</td>\n",
       "    </tr>\n",
       "    <tr>\n",
       "      <th>hello</th>\n",
       "      <td>10</td>\n",
       "    </tr>\n",
       "  </tbody>\n",
       "</table>\n",
       "</div>"
      ],
      "text/plain": [
       "        d\n",
       "b        \n",
       "2       4\n",
       "8       5\n",
       "hello  10"
      ]
     },
     "execution_count": 118,
     "metadata": {},
     "output_type": "execute_result"
    }
   ],
   "source": [
    "#let us index cols and use cols\n",
    "\n",
    "pd.read_csv(StringIO(data),usecols=['b','d'],index_col=0)"
   ]
  },
  {
   "cell_type": "code",
   "execution_count": 122,
   "id": "54c62144-58a5-4baf-a718-a65ad6276f4b",
   "metadata": {},
   "outputs": [
    {
     "data": {
      "text/html": [
       "<div>\n",
       "<style scoped>\n",
       "    .dataframe tbody tr th:only-of-type {\n",
       "        vertical-align: middle;\n",
       "    }\n",
       "\n",
       "    .dataframe tbody tr th {\n",
       "        vertical-align: top;\n",
       "    }\n",
       "\n",
       "    .dataframe thead th {\n",
       "        text-align: right;\n",
       "    }\n",
       "</style>\n",
       "<table border=\"1\" class=\"dataframe\">\n",
       "  <thead>\n",
       "    <tr style=\"text-align: right;\">\n",
       "      <th></th>\n",
       "      <th>ID</th>\n",
       "      <th>A1</th>\n",
       "      <th>A2</th>\n",
       "      <th>A3</th>\n",
       "      <th>A4</th>\n",
       "      <th>A5</th>\n",
       "      <th>A6</th>\n",
       "      <th>A7</th>\n",
       "      <th>A8</th>\n",
       "      <th>A9</th>\n",
       "      <th>A10</th>\n",
       "      <th>A11</th>\n",
       "      <th>A12</th>\n",
       "      <th>A13</th>\n",
       "    </tr>\n",
       "  </thead>\n",
       "  <tbody>\n",
       "    <tr>\n",
       "      <th>0</th>\n",
       "      <td>DFG</td>\n",
       "      <td>DFG</td>\n",
       "      <td>15</td>\n",
       "      <td>16</td>\n",
       "      <td>OPL</td>\n",
       "      <td>19</td>\n",
       "      <td>15</td>\n",
       "      <td>30</td>\n",
       "      <td>15</td>\n",
       "      <td>16</td>\n",
       "      <td>OPL</td>\n",
       "      <td>19</td>\n",
       "      <td>15</td>\n",
       "      <td>30</td>\n",
       "    </tr>\n",
       "    <tr>\n",
       "      <th>1</th>\n",
       "      <td>2</td>\n",
       "      <td>31</td>\n",
       "      <td>ABC</td>\n",
       "      <td>DFG</td>\n",
       "      <td>ABC</td>\n",
       "      <td>20</td>\n",
       "      <td>DFG</td>\n",
       "      <td>ABC</td>\n",
       "      <td>DFG</td>\n",
       "      <td>17</td>\n",
       "      <td>ABC</td>\n",
       "      <td>20</td>\n",
       "      <td>16</td>\n",
       "      <td>31</td>\n",
       "    </tr>\n",
       "    <tr>\n",
       "      <th>2</th>\n",
       "      <td>DFG</td>\n",
       "      <td>DFG</td>\n",
       "      <td>17</td>\n",
       "      <td>OPL</td>\n",
       "      <td>20</td>\n",
       "      <td>ABC</td>\n",
       "      <td>17</td>\n",
       "      <td>32</td>\n",
       "      <td>17</td>\n",
       "      <td>OPL</td>\n",
       "      <td>DFG</td>\n",
       "      <td>ABC</td>\n",
       "      <td>17</td>\n",
       "      <td>32</td>\n",
       "    </tr>\n",
       "    <tr>\n",
       "      <th>3</th>\n",
       "      <td>4</td>\n",
       "      <td>33</td>\n",
       "      <td>ABC</td>\n",
       "      <td>19</td>\n",
       "      <td>21</td>\n",
       "      <td>22</td>\n",
       "      <td>OPL</td>\n",
       "      <td>33</td>\n",
       "      <td>OPL</td>\n",
       "      <td>19</td>\n",
       "      <td>21</td>\n",
       "      <td>22</td>\n",
       "      <td>DFG</td>\n",
       "      <td>33</td>\n",
       "    </tr>\n",
       "    <tr>\n",
       "      <th>4</th>\n",
       "      <td>5</td>\n",
       "      <td>34</td>\n",
       "      <td>19</td>\n",
       "      <td>20</td>\n",
       "      <td>DFG</td>\n",
       "      <td>DFG</td>\n",
       "      <td>19</td>\n",
       "      <td>DFG</td>\n",
       "      <td>DFG</td>\n",
       "      <td>20</td>\n",
       "      <td>22</td>\n",
       "      <td>23</td>\n",
       "      <td>19</td>\n",
       "      <td>34</td>\n",
       "    </tr>\n",
       "    <tr>\n",
       "      <th>...</th>\n",
       "      <td>...</td>\n",
       "      <td>...</td>\n",
       "      <td>...</td>\n",
       "      <td>...</td>\n",
       "      <td>...</td>\n",
       "      <td>...</td>\n",
       "      <td>...</td>\n",
       "      <td>...</td>\n",
       "      <td>...</td>\n",
       "      <td>...</td>\n",
       "      <td>...</td>\n",
       "      <td>...</td>\n",
       "      <td>...</td>\n",
       "      <td>...</td>\n",
       "    </tr>\n",
       "    <tr>\n",
       "      <th>389</th>\n",
       "      <td>DFG</td>\n",
       "      <td>DFG</td>\n",
       "      <td>30</td>\n",
       "      <td>25</td>\n",
       "      <td>33</td>\n",
       "      <td>DFG</td>\n",
       "      <td>26</td>\n",
       "      <td>ABC</td>\n",
       "      <td>28</td>\n",
       "      <td>43</td>\n",
       "      <td>HJO</td>\n",
       "      <td>50</td>\n",
       "      <td>32</td>\n",
       "      <td>49</td>\n",
       "    </tr>\n",
       "    <tr>\n",
       "      <th>390</th>\n",
       "      <td>11</td>\n",
       "      <td>40</td>\n",
       "      <td>31</td>\n",
       "      <td>DFG</td>\n",
       "      <td>ABC</td>\n",
       "      <td>HJO</td>\n",
       "      <td>DFG</td>\n",
       "      <td>50</td>\n",
       "      <td>WER</td>\n",
       "      <td>44</td>\n",
       "      <td>36</td>\n",
       "      <td>51</td>\n",
       "      <td>ABC</td>\n",
       "      <td>50</td>\n",
       "    </tr>\n",
       "    <tr>\n",
       "      <th>391</th>\n",
       "      <td>ABC</td>\n",
       "      <td>DFG</td>\n",
       "      <td>ABC</td>\n",
       "      <td>31</td>\n",
       "      <td>HJO</td>\n",
       "      <td>36</td>\n",
       "      <td>32</td>\n",
       "      <td>51</td>\n",
       "      <td>DFG</td>\n",
       "      <td>45</td>\n",
       "      <td>ABC</td>\n",
       "      <td>52</td>\n",
       "      <td>36</td>\n",
       "      <td>51</td>\n",
       "    </tr>\n",
       "    <tr>\n",
       "      <th>392</th>\n",
       "      <td>17</td>\n",
       "      <td>48</td>\n",
       "      <td>27</td>\n",
       "      <td>32</td>\n",
       "      <td>36</td>\n",
       "      <td>37</td>\n",
       "      <td>33</td>\n",
       "      <td>52</td>\n",
       "      <td>31</td>\n",
       "      <td>46</td>\n",
       "      <td>46</td>\n",
       "      <td>53</td>\n",
       "      <td>37</td>\n",
       "      <td>ABC</td>\n",
       "    </tr>\n",
       "    <tr>\n",
       "      <th>393</th>\n",
       "      <td>OPL</td>\n",
       "      <td>49</td>\n",
       "      <td>DFG</td>\n",
       "      <td>DFG</td>\n",
       "      <td>37</td>\n",
       "      <td>DFG</td>\n",
       "      <td>34</td>\n",
       "      <td>53</td>\n",
       "      <td>32</td>\n",
       "      <td>47</td>\n",
       "      <td>47</td>\n",
       "      <td>54</td>\n",
       "      <td>38</td>\n",
       "      <td>55</td>\n",
       "    </tr>\n",
       "  </tbody>\n",
       "</table>\n",
       "<p>394 rows × 14 columns</p>\n",
       "</div>"
      ],
      "text/plain": [
       "      ID   A1   A2   A3   A4   A5   A6   A7   A8   A9  A10  A11  A12  A13\n",
       "0    DFG  DFG   15   16  OPL   19   15   30   15   16  OPL   19   15   30\n",
       "1      2   31  ABC  DFG  ABC   20  DFG  ABC  DFG   17  ABC   20   16   31\n",
       "2    DFG  DFG   17  OPL   20  ABC   17   32   17  OPL  DFG  ABC   17   32\n",
       "3      4   33  ABC   19   21   22  OPL   33  OPL   19   21   22  DFG   33\n",
       "4      5   34   19   20  DFG  DFG   19  DFG  DFG   20   22   23   19   34\n",
       "..   ...  ...  ...  ...  ...  ...  ...  ...  ...  ...  ...  ...  ...  ...\n",
       "389  DFG  DFG   30   25   33  DFG   26  ABC   28   43  HJO   50   32   49\n",
       "390   11   40   31  DFG  ABC  HJO  DFG   50  WER   44   36   51  ABC   50\n",
       "391  ABC  DFG  ABC   31  HJO   36   32   51  DFG   45  ABC   52   36   51\n",
       "392   17   48   27   32   36   37   33   52   31   46   46   53   37  ABC\n",
       "393  OPL   49  DFG  DFG   37  DFG   34   53   32   47   47   54   38   55\n",
       "\n",
       "[394 rows x 14 columns]"
      ]
     },
     "execution_count": 122,
     "metadata": {},
     "output_type": "execute_result"
    }
   ],
   "source": [
    "#tab Separated files\n",
    "pd.read_csv('Exhibitor lis - IEW 2024.txt',sep='\\t')"
   ]
  },
  {
   "cell_type": "code",
   "execution_count": 124,
   "id": "a9d23ca2-f570-47e1-8bbc-895b5805be3d",
   "metadata": {},
   "outputs": [],
   "source": [
    "#also convert text file to csv\n",
    "\n",
    "pd.read_csv('Exhibitor lis - IEW 2024.txt',sep='\\t').to_csv('file012')"
   ]
  },
  {
   "cell_type": "code",
   "execution_count": null,
   "id": "8d5fe771-1a95-4102-bdeb-5239d7156546",
   "metadata": {},
   "outputs": [],
   "source": []
  }
 ],
 "metadata": {
  "kernelspec": {
   "display_name": "Python 3 (ipykernel)",
   "language": "python",
   "name": "python3"
  },
  "language_info": {
   "codemirror_mode": {
    "name": "ipython",
    "version": 3
   },
   "file_extension": ".py",
   "mimetype": "text/x-python",
   "name": "python",
   "nbconvert_exporter": "python",
   "pygments_lexer": "ipython3",
   "version": "3.12.4"
  }
 },
 "nbformat": 4,
 "nbformat_minor": 5
}
