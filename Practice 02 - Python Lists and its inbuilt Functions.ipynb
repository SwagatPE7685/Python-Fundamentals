{
 "cells": [
  {
   "cell_type": "markdown",
   "id": "01c2f586-0819-45d8-af74-854d67e4d021",
   "metadata": {},
   "source": [
    "# Practice 02 - Python Lists and its inbuilt Functions"
   ]
  },
  {
   "cell_type": "markdown",
   "id": "544cbcb1-183b-4287-883f-8bfad5ce9cbc",
   "metadata": {},
   "source": [
    "# Lists\n",
    "### mutable or changeable"
   ]
  },
  {
   "cell_type": "code",
   "execution_count": 3,
   "id": "91bb9ff7-3331-4969-ab2c-c2126ef18d54",
   "metadata": {},
   "outputs": [
    {
     "name": "stdout",
     "output_type": "stream",
     "text": [
      "<class 'str'>\n"
     ]
    }
   ],
   "source": [
    "str =\"swagat\"\n",
    "print(type(str))"
   ]
  },
  {
   "cell_type": "code",
   "execution_count": 4,
   "id": "53bb316d-2e72-4281-be8a-445a746b29cb",
   "metadata": {},
   "outputs": [
    {
     "data": {
      "text/plain": [
       "str"
      ]
     },
     "execution_count": 4,
     "metadata": {},
     "output_type": "execute_result"
    }
   ],
   "source": [
    "type(str)"
   ]
  },
  {
   "cell_type": "code",
   "execution_count": 5,
   "id": "8c94a37b-700b-4ab0-9b18-4b03a472b183",
   "metadata": {},
   "outputs": [
    {
     "data": {
      "text/plain": [
       "'w'"
      ]
     },
     "execution_count": 5,
     "metadata": {},
     "output_type": "execute_result"
    }
   ],
   "source": [
    "# indexing\n",
    "\n",
    "str[1]"
   ]
  },
  {
   "cell_type": "code",
   "execution_count": 6,
   "id": "431c5282-0482-453a-ac67-cf36ae2539a2",
   "metadata": {},
   "outputs": [
    {
     "name": "stdout",
     "output_type": "stream",
     "text": [
      "[1, 2, 3, 4, 'swagat', 'pradhan', 7, 'hello']\n"
     ]
    }
   ],
   "source": [
    "#lists - []\n",
    "\n",
    "lst = [1,2,3,4,\"swagat\",\"pradhan\",7,\"hello\"]\n",
    "print(lst)"
   ]
  },
  {
   "cell_type": "code",
   "execution_count": 7,
   "id": "04c0a748-188f-4cb9-a3fb-fe5ae8446b13",
   "metadata": {},
   "outputs": [
    {
     "data": {
      "text/plain": [
       "2"
      ]
     },
     "execution_count": 7,
     "metadata": {},
     "output_type": "execute_result"
    }
   ],
   "source": [
    "lst[1]"
   ]
  },
  {
   "cell_type": "code",
   "execution_count": 10,
   "id": "a2fc4445-0a56-4412-b3de-c74ebdc4bf72",
   "metadata": {},
   "outputs": [],
   "source": [
    "#mutable\n",
    "lst[1] = \"people\""
   ]
  },
  {
   "cell_type": "code",
   "execution_count": 11,
   "id": "30f3a89b-cb5c-4caf-bd83-5e9474de57c0",
   "metadata": {},
   "outputs": [
    {
     "data": {
      "text/plain": [
       "[1, 'people', 3, 4, 'swagat', 'pradhan', 7, 'hello']"
      ]
     },
     "execution_count": 11,
     "metadata": {},
     "output_type": "execute_result"
    }
   ],
   "source": [
    "lst"
   ]
  },
  {
   "cell_type": "markdown",
   "id": "5d9f63df-5603-4e89-b13f-11f5a4929d15",
   "metadata": {},
   "source": [
    "### in built Functions"
   ]
  },
  {
   "cell_type": "code",
   "execution_count": 12,
   "id": "b2d5c105-138a-4ea7-9bb9-a45f855cc3a6",
   "metadata": {},
   "outputs": [
    {
     "data": {
      "text/plain": [
       "[1, 'people', 3, 4, 'swagat', 'pradhan', 7, 'hello']"
      ]
     },
     "execution_count": 12,
     "metadata": {},
     "output_type": "execute_result"
    }
   ],
   "source": [
    "#append\n",
    "\n",
    "lst"
   ]
  },
  {
   "cell_type": "code",
   "execution_count": 13,
   "id": "1423f059-4fb4-4cd0-b17b-3133afd2ceb4",
   "metadata": {},
   "outputs": [],
   "source": [
    "lst.append(\"cool\")"
   ]
  },
  {
   "cell_type": "code",
   "execution_count": 14,
   "id": "780e7ede-0a00-4242-9379-3756785d85ac",
   "metadata": {},
   "outputs": [
    {
     "data": {
      "text/plain": [
       "[1, 'people', 3, 4, 'swagat', 'pradhan', 7, 'hello', 'cool']"
      ]
     },
     "execution_count": 14,
     "metadata": {},
     "output_type": "execute_result"
    }
   ],
   "source": [
    "lst"
   ]
  },
  {
   "cell_type": "code",
   "execution_count": 23,
   "id": "93d4c0bb-cac2-4c7a-a9fc-b97240977279",
   "metadata": {},
   "outputs": [],
   "source": [
    "nlst = [1,2,3,4,5,[\"hello\",\"people\",\"bye\"]]"
   ]
  },
  {
   "cell_type": "code",
   "execution_count": 24,
   "id": "8409f58a-d69a-4045-82ba-a387dbed91de",
   "metadata": {},
   "outputs": [
    {
     "data": {
      "text/plain": [
       "['hello', 'people', 'bye']"
      ]
     },
     "execution_count": 24,
     "metadata": {},
     "output_type": "execute_result"
    }
   ],
   "source": [
    "nlst[5]"
   ]
  },
  {
   "cell_type": "code",
   "execution_count": 26,
   "id": "db6802fa-4f0f-4a8f-9c56-cfb32040c558",
   "metadata": {},
   "outputs": [
    {
     "data": {
      "text/plain": [
       "[3, 4]"
      ]
     },
     "execution_count": 26,
     "metadata": {},
     "output_type": "execute_result"
    }
   ],
   "source": [
    "#indexing\n",
    "nlst[2:4]"
   ]
  },
  {
   "cell_type": "code",
   "execution_count": 27,
   "id": "fa9e551c-da56-4823-8651-d22f83140281",
   "metadata": {},
   "outputs": [],
   "source": [
    "#insert at specific location\n",
    "nlst.insert(0,\"lens\")"
   ]
  },
  {
   "cell_type": "code",
   "execution_count": 28,
   "id": "f5f18fa7-5dbb-463a-8758-e9efeb65e50f",
   "metadata": {},
   "outputs": [
    {
     "data": {
      "text/plain": [
       "['lens', 1, 2, 3, 4, 5, ['hello', 'people', 'bye']]"
      ]
     },
     "execution_count": 28,
     "metadata": {},
     "output_type": "execute_result"
    }
   ],
   "source": [
    "nlst"
   ]
  },
  {
   "cell_type": "code",
   "execution_count": 33,
   "id": "e531e865-a3a9-4276-9e3a-8cad81902b7d",
   "metadata": {},
   "outputs": [
    {
     "data": {
      "text/plain": [
       "2"
      ]
     },
     "execution_count": 33,
     "metadata": {},
     "output_type": "execute_result"
    }
   ],
   "source": [
    "#pop\n",
    "#output always be random\n",
    "nlst.pop()"
   ]
  },
  {
   "cell_type": "code",
   "execution_count": null,
   "id": "b8b9f408-b939-44e5-a0a4-32b598bbe1cf",
   "metadata": {},
   "outputs": [],
   "source": []
  }
 ],
 "metadata": {
  "kernelspec": {
   "display_name": "Python 3 (ipykernel)",
   "language": "python",
   "name": "python3"
  },
  "language_info": {
   "codemirror_mode": {
    "name": "ipython",
    "version": 3
   },
   "file_extension": ".py",
   "mimetype": "text/x-python",
   "name": "python",
   "nbconvert_exporter": "python",
   "pygments_lexer": "ipython3",
   "version": "3.12.4"
  }
 },
 "nbformat": 4,
 "nbformat_minor": 5
}
