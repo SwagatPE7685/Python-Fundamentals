{
 "cells": [
  {
   "cell_type": "markdown",
   "id": "1edebfdc-2750-4ea5-ad2f-7b558ef9c187",
   "metadata": {},
   "source": [
    "# Tutorial 02 - Python Control Flows"
   ]
  },
  {
   "cell_type": "code",
   "execution_count": 1,
   "id": "6d1bc525-6ed9-4b2d-bf95-eed16c2414ad",
   "metadata": {},
   "outputs": [
    {
     "name": "stdin",
     "output_type": "stream",
     "text": [
      "Enter the number 125\n"
     ]
    },
    {
     "name": "stdout",
     "output_type": "stream",
     "text": [
      "the number is greater than 100\n"
     ]
    }
   ],
   "source": [
    "# if Statement\n",
    "\n",
    "val=input(\"Enter the number\")\n",
    "val_float=float(val)\n",
    "if val_float>100:\n",
    "    print(\"the number is greater than 100\")"
   ]
  },
  {
   "cell_type": "code",
   "execution_count": 2,
   "id": "c11809a1-bf4d-48c2-8333-f08bb54ec354",
   "metadata": {},
   "outputs": [
    {
     "name": "stdin",
     "output_type": "stream",
     "text": [
      "Enter the number 124\n"
     ]
    },
    {
     "name": "stdout",
     "output_type": "stream",
     "text": [
      "the number is even\n"
     ]
    }
   ],
   "source": [
    "# now i have to check whether the number is even or odd\n",
    "\n",
    "val=input(\"Enter the number\")\n",
    "val_float=float(val)\n",
    "if (val_float%2==0):\n",
    "    print(\"the number is even\")"
   ]
  },
  {
   "cell_type": "code",
   "execution_count": 3,
   "id": "8d432c0f-caa5-4230-b9d9-0aeab5ffb3c5",
   "metadata": {},
   "outputs": [
    {
     "name": "stdin",
     "output_type": "stream",
     "text": [
      "Enter the number 129\n"
     ]
    },
    {
     "name": "stdout",
     "output_type": "stream",
     "text": [
      "the number is odd\n"
     ]
    }
   ],
   "source": [
    "# else condition\n",
    "\n",
    "val=input(\"Enter the number\")\n",
    "val_float=float(val)\n",
    "if (val_float%2==0):\n",
    "    print(\"the number is even\")\n",
    "else:\n",
    "    print(\"the number is odd\")"
   ]
  },
  {
   "cell_type": "code",
   "execution_count": 4,
   "id": "a3e2317f-40ac-4988-9905-9a9c6e1cdd0a",
   "metadata": {},
   "outputs": [
    {
     "name": "stdin",
     "output_type": "stream",
     "text": [
      "Enter the age 24\n"
     ]
    },
    {
     "name": "stdout",
     "output_type": "stream",
     "text": [
      "you are not minor\n"
     ]
    }
   ],
   "source": [
    "## Age Form\n",
    "\n",
    "age=float(input(\"Enter the age\"))\n",
    "\n",
    "if age<18:\n",
    "    print(\"Minor age\")\n",
    "else:\n",
    "    print(\"you are not minor\")"
   ]
  },
  {
   "cell_type": "code",
   "execution_count": 5,
   "id": "c40ff784-234c-4eac-a78a-522ed7279661",
   "metadata": {},
   "outputs": [
    {
     "name": "stdin",
     "output_type": "stream",
     "text": [
      "Enter the age 15\n"
     ]
    },
    {
     "name": "stdout",
     "output_type": "stream",
     "text": [
      "Minor Age\n"
     ]
    }
   ],
   "source": [
    "## Age Form\n",
    "## nested if else condition - elif\n",
    "\n",
    "age=float(input(\"Enter the age\"))\n",
    "\n",
    "if age<18:\n",
    "    print(\"Minor Age\")\n",
    "elif age>=18 and age<=35:\n",
    "    print(\"Mid Age\")"
   ]
  },
  {
   "cell_type": "code",
   "execution_count": 6,
   "id": "93f76f5c-b15b-428f-a612-00a7302b0fe4",
   "metadata": {},
   "outputs": [
    {
     "name": "stdin",
     "output_type": "stream",
     "text": [
      "Enter the age 85\n"
     ]
    },
    {
     "name": "stdout",
     "output_type": "stream",
     "text": [
      "Super Senior\n"
     ]
    }
   ],
   "source": [
    "## Age Form\n",
    "## Why nested if else condition - elif\n",
    "\n",
    "age=float(input(\"Enter the age\"))\n",
    "\n",
    "if age<18:\n",
    "    print(\"Minor Age\")\n",
    "elif age>=18 and age<=35:\n",
    "    print(\"Mid Age\")\n",
    "elif age>=35 and age<=50:\n",
    "    print(\"Senior Mid Age\")\n",
    "else:\n",
    "    print(\"Super Senior\")"
   ]
  },
  {
   "cell_type": "code",
   "execution_count": 7,
   "id": "8f5bc8a2-ef48-41e8-8731-c14985694b60",
   "metadata": {},
   "outputs": [
    {
     "name": "stdin",
     "output_type": "stream",
     "text": [
      "Enter the age 17\n"
     ]
    },
    {
     "name": "stdout",
     "output_type": "stream",
     "text": [
      "Minor Age\n",
      "you are in collage\n"
     ]
    }
   ],
   "source": [
    "## Age Form - another example\n",
    "## nested if else condition - elif\n",
    "\n",
    "age=float(input(\"Enter the age\"))\n",
    "\n",
    "if age<18:\n",
    "    print(\"Minor Age\")\n",
    "    if age<15:\n",
    "        print(\"you are in high school\")\n",
    "    else:\n",
    "        print(\"you are in collage\")\n",
    "elif age>=18 and age<=35:\n",
    "    print(\"Mid Age\")\n",
    "elif age>=35 and age<=50:\n",
    "    print(\"Senior Mid Age\")\n",
    "else:\n",
    "    print(\"Super Senior\")"
   ]
  },
  {
   "cell_type": "code",
   "execution_count": 8,
   "id": "bc9979a2-6d5c-46bd-8d8d-3286e2a50f83",
   "metadata": {},
   "outputs": [
    {
     "name": "stdout",
     "output_type": "stream",
     "text": [
      "1\n",
      "4\n",
      "9\n",
      "25\n",
      "36\n",
      "64\n",
      "81\n"
     ]
    }
   ],
   "source": [
    "## for Loop Statement\n",
    "\n",
    "lst=[1,2,3,5,6,8,9]\n",
    "for i in lst:\n",
    "    print(i**2)"
   ]
  },
  {
   "cell_type": "code",
   "execution_count": 9,
   "id": "fe9f25f3-dddf-4123-af97-2d91753ff29a",
   "metadata": {},
   "outputs": [
    {
     "name": "stdout",
     "output_type": "stream",
     "text": [
      "34\n"
     ]
    }
   ],
   "source": [
    "## for Loop Statement\n",
    "## find the sum of all element in the list\n",
    "\n",
    "lst=[1,2,3,5,6,8,9]\n",
    "sum1=0\n",
    "for i in lst:\n",
    "    sum1=sum1+i\n",
    "\n",
    "print(sum1)"
   ]
  },
  {
   "cell_type": "code",
   "execution_count": 10,
   "id": "38de8e75-025d-4b1b-b95e-3c3b6b14c393",
   "metadata": {},
   "outputs": [
    {
     "name": "stdout",
     "output_type": "stream",
     "text": [
      "Even sum is 16\n",
      "odd sum is 18\n"
     ]
    }
   ],
   "source": [
    "## find the sum of even and odd number\n",
    "\n",
    "lst=[1,2,3,5,6,8,9]\n",
    "even_sum=0\n",
    "odd_sum=0\n",
    "\n",
    "for i in lst:\n",
    "    if i%2==0:\n",
    "        even_sum=even_sum+i\n",
    "    else:\n",
    "        odd_sum=odd_sum+i\n",
    "\n",
    "print(\"Even sum is {}\".format(even_sum))\n",
    "print(\"odd sum is {}\".format(odd_sum))"
   ]
  },
  {
   "cell_type": "code",
   "execution_count": 11,
   "id": "233a5746-0ad6-4e4b-bad1-894da588f4c2",
   "metadata": {},
   "outputs": [
    {
     "name": "stdout",
     "output_type": "stream",
     "text": [
      "0\n",
      "1\n",
      "2\n",
      "3\n",
      "4\n",
      "5\n",
      "6\n",
      "7\n",
      "8\n",
      "9\n",
      "10\n"
     ]
    }
   ],
   "source": [
    "## While condition\n",
    "\n",
    "i=0\n",
    "while (i<=10):\n",
    "    print(i)\n",
    "    i=i+1"
   ]
  },
  {
   "cell_type": "code",
   "execution_count": 14,
   "id": "07adfe3a-84e9-41f3-8c1b-eccf339d71ab",
   "metadata": {},
   "outputs": [
    {
     "name": "stdout",
     "output_type": "stream",
     "text": [
      "0\n",
      "1\n",
      "2\n",
      "3\n",
      "4\n",
      "5\n",
      "6\n",
      "7\n",
      "8\n",
      "9\n",
      "10\n",
      "Even sum is 30\n",
      "odd sum is 25\n"
     ]
    }
   ],
   "source": [
    "## While condition - also this example\n",
    "\n",
    "i=0\n",
    "even_sum=0\n",
    "odd_sum=0\n",
    "while (i<=10):\n",
    "    if i%2==0:\n",
    "        even_sum=even_sum+i\n",
    "    else:\n",
    "        odd_sum=odd_sum+i\n",
    "    print(i)\n",
    "    i=i+1\n",
    "print(\"Even sum is {}\".format(even_sum))\n",
    "print(\"odd sum is {}\".format(odd_sum))"
   ]
  },
  {
   "cell_type": "code",
   "execution_count": 20,
   "id": "30025da4-8241-49e6-8696-32fe69284378",
   "metadata": {},
   "outputs": [
    {
     "name": "stdout",
     "output_type": "stream",
     "text": [
      "1\n",
      "2\n",
      "3\n",
      "4\n",
      "5\n"
     ]
    }
   ],
   "source": [
    "## break statement\n",
    "\n",
    "x=1\n",
    "while x<7:\n",
    "    print(x)\n",
    "    if x==5:\n",
    "        break\n",
    "    x=x+1"
   ]
  },
  {
   "cell_type": "code",
   "execution_count": 4,
   "id": "dbfac1d5-2440-4785-b80f-8e3375bfc0df",
   "metadata": {},
   "outputs": [
    {
     "name": "stdout",
     "output_type": "stream",
     "text": [
      "2\n",
      "3\n",
      "4\n",
      "6\n",
      "7\n"
     ]
    }
   ],
   "source": [
    "## continue\n",
    "\n",
    "x=1\n",
    "while x<7:\n",
    "    x=x+1\n",
    "    if x==5:\n",
    "        continue\n",
    "    print(x)"
   ]
  }
 ],
 "metadata": {
  "kernelspec": {
   "display_name": "Python 3 (ipykernel)",
   "language": "python",
   "name": "python3"
  },
  "language_info": {
   "codemirror_mode": {
    "name": "ipython",
    "version": 3
   },
   "file_extension": ".py",
   "mimetype": "text/x-python",
   "name": "python",
   "nbconvert_exporter": "python",
   "pygments_lexer": "ipython3",
   "version": "3.12.4"
  }
 },
 "nbformat": 4,
 "nbformat_minor": 5
}
