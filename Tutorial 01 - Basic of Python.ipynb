{
 "cells": [
  {
   "cell_type": "markdown",
   "id": "4656839a-9cf0-46ef-9663-b39631dcdfe4",
   "metadata": {},
   "source": [
    "# This is the first tutorial in Python"
   ]
  },
  {
   "cell_type": "code",
   "execution_count": 1,
   "id": "66f96765-b8b7-4935-b04e-4977b299d330",
   "metadata": {},
   "outputs": [
    {
     "name": "stdout",
     "output_type": "stream",
     "text": [
      "Hello World\n",
      "welcome to my tutorial\n"
     ]
    }
   ],
   "source": [
    "# Print Statement\n",
    "print(\"Hello World\")\n",
    "print(\"welcome to my tutorial\")"
   ]
  },
  {
   "cell_type": "code",
   "execution_count": 2,
   "id": "048f8bd4-d0b6-4955-abc4-b8e59972dc9a",
   "metadata": {},
   "outputs": [
    {
     "name": "stdout",
     "output_type": "stream",
     "text": [
      "Hello\n"
     ]
    }
   ],
   "source": [
    "# Single Line & Multi line comments\n",
    "'''\n",
    "Welcome to my tutorial\n",
    "'''\n",
    "print(\"Hello\")"
   ]
  },
  {
   "cell_type": "code",
   "execution_count": 3,
   "id": "786bfc7a-e9cd-4ba8-a1e4-7b470c11d159",
   "metadata": {},
   "outputs": [
    {
     "data": {
      "text/plain": [
       "int"
      ]
     },
     "execution_count": 3,
     "metadata": {},
     "output_type": "execute_result"
    }
   ],
   "source": [
    "# Variable Declaration\n",
    "a = 10\n",
    "type(a)"
   ]
  },
  {
   "cell_type": "code",
   "execution_count": 4,
   "id": "41bd920e-b099-4fcd-9716-5b47c916ffed",
   "metadata": {},
   "outputs": [
    {
     "name": "stdout",
     "output_type": "stream",
     "text": [
      "10\n"
     ]
    }
   ],
   "source": [
    "print(a)"
   ]
  },
  {
   "cell_type": "code",
   "execution_count": 5,
   "id": "fac5a71e-15be-47b2-b584-6199830ca8a0",
   "metadata": {},
   "outputs": [
    {
     "data": {
      "text/plain": [
       "str"
      ]
     },
     "execution_count": 5,
     "metadata": {},
     "output_type": "execute_result"
    }
   ],
   "source": [
    "a=10\n",
    "b=\"Swagat\"\n",
    "type(b)"
   ]
  },
  {
   "cell_type": "code",
   "execution_count": 6,
   "id": "92f7579d-b095-488d-9e65-286f682b3a1f",
   "metadata": {},
   "outputs": [
    {
     "data": {
      "text/plain": [
       "int"
      ]
     },
     "execution_count": 6,
     "metadata": {},
     "output_type": "execute_result"
    }
   ],
   "source": [
    "type(a)"
   ]
  },
  {
   "cell_type": "code",
   "execution_count": 7,
   "id": "70e4d04b-42ee-4f7b-9d9a-1aefcf9a0d9b",
   "metadata": {},
   "outputs": [
    {
     "name": "stdout",
     "output_type": "stream",
     "text": [
      "swagat\n"
     ]
    }
   ],
   "source": [
    "first_name = \"swagat\"\n",
    "print(first_name)"
   ]
  },
  {
   "cell_type": "code",
   "execution_count": 8,
   "id": "7f640492-17ae-4c8e-8f1e-6ed861453651",
   "metadata": {},
   "outputs": [
    {
     "data": {
      "text/plain": [
       "20"
      ]
     },
     "execution_count": 8,
     "metadata": {},
     "output_type": "execute_result"
    }
   ],
   "source": [
    "# Data Types\n",
    "a+10"
   ]
  },
  {
   "cell_type": "code",
   "execution_count": 9,
   "id": "425b7c60-b597-4a57-b173-b7ed8195a362",
   "metadata": {},
   "outputs": [
    {
     "data": {
      "text/plain": [
       "5"
      ]
     },
     "execution_count": 9,
     "metadata": {},
     "output_type": "execute_result"
    }
   ],
   "source": [
    "a-5"
   ]
  },
  {
   "cell_type": "code",
   "execution_count": 10,
   "id": "911f7e2a-a428-4d1b-adbd-7d9d5df24443",
   "metadata": {},
   "outputs": [
    {
     "data": {
      "text/plain": [
       "1.6666666666666667"
      ]
     },
     "execution_count": 10,
     "metadata": {},
     "output_type": "execute_result"
    }
   ],
   "source": [
    "a/6"
   ]
  },
  {
   "cell_type": "code",
   "execution_count": 11,
   "id": "2ab6aad1-37ca-4351-8441-efe98537156a",
   "metadata": {},
   "outputs": [
    {
     "data": {
      "text/plain": [
       "180"
      ]
     },
     "execution_count": 11,
     "metadata": {},
     "output_type": "execute_result"
    }
   ],
   "source": [
    "a*18"
   ]
  },
  {
   "cell_type": "code",
   "execution_count": 12,
   "id": "c33b66bf-98f2-4a98-84ca-8ceca3210fcd",
   "metadata": {},
   "outputs": [
    {
     "name": "stdout",
     "output_type": "stream",
     "text": [
      "<class 'int'>\n"
     ]
    }
   ],
   "source": [
    "print(type(a))"
   ]
  },
  {
   "cell_type": "code",
   "execution_count": 13,
   "id": "e45af4ec-3163-454c-bf25-863bc0241e60",
   "metadata": {},
   "outputs": [
    {
     "name": "stdout",
     "output_type": "stream",
     "text": [
      "150\n"
     ]
    }
   ],
   "source": [
    "a=10\n",
    "b=15\n",
    "print(a*b)"
   ]
  },
  {
   "cell_type": "code",
   "execution_count": 14,
   "id": "50c32aab-fa3f-4e59-85f0-0f3ab9fa04e8",
   "metadata": {},
   "outputs": [
    {
     "data": {
      "text/plain": [
       "float"
      ]
     },
     "execution_count": 14,
     "metadata": {},
     "output_type": "execute_result"
    }
   ],
   "source": [
    "# floating variable\n",
    "\n",
    "a = 198.5\n",
    "type(a)"
   ]
  },
  {
   "cell_type": "code",
   "execution_count": 15,
   "id": "0a6a93c7-7559-4195-b8e0-af2e80a999cf",
   "metadata": {},
   "outputs": [
    {
     "name": "stdout",
     "output_type": "stream",
     "text": [
      "<class 'float'>\n"
     ]
    }
   ],
   "source": [
    "print(type(a))"
   ]
  },
  {
   "cell_type": "code",
   "execution_count": 16,
   "id": "4aeb20bf-eefa-484c-a83a-f5f3b542a3cd",
   "metadata": {},
   "outputs": [
    {
     "data": {
      "text/plain": [
       "198"
      ]
     },
     "execution_count": 16,
     "metadata": {},
     "output_type": "execute_result"
    }
   ],
   "source": [
    "int(a) #converted float to int (Type casting)"
   ]
  },
  {
   "cell_type": "code",
   "execution_count": 17,
   "id": "46b9b985-3856-4687-b0f4-e4ca0070ef60",
   "metadata": {},
   "outputs": [],
   "source": [
    "# Boolean\n",
    "a1 = True\n",
    "b1 = False"
   ]
  },
  {
   "cell_type": "code",
   "execution_count": 18,
   "id": "5fa01b14-8dbe-4f11-b546-897be2503c04",
   "metadata": {},
   "outputs": [
    {
     "data": {
      "text/plain": [
       "bool"
      ]
     },
     "execution_count": 18,
     "metadata": {},
     "output_type": "execute_result"
    }
   ],
   "source": [
    "type(a1)"
   ]
  },
  {
   "cell_type": "code",
   "execution_count": 19,
   "id": "88330fc2-0cc8-44a4-a6d3-dc030ef1a427",
   "metadata": {},
   "outputs": [
    {
     "data": {
      "text/plain": [
       "False"
      ]
     },
     "execution_count": 19,
     "metadata": {},
     "output_type": "execute_result"
    }
   ],
   "source": [
    "a1 and b1"
   ]
  },
  {
   "cell_type": "code",
   "execution_count": 20,
   "id": "eb6c7eea-1993-4ccb-9780-1a5c0f646663",
   "metadata": {},
   "outputs": [
    {
     "data": {
      "text/plain": [
       "True"
      ]
     },
     "execution_count": 20,
     "metadata": {},
     "output_type": "execute_result"
    }
   ],
   "source": [
    "a1 or b1"
   ]
  },
  {
   "cell_type": "code",
   "execution_count": 21,
   "id": "a9b07974-6f85-4afd-868b-61b602efabcb",
   "metadata": {},
   "outputs": [
    {
     "data": {
      "text/plain": [
       "False"
      ]
     },
     "execution_count": 21,
     "metadata": {},
     "output_type": "execute_result"
    }
   ],
   "source": [
    "a1 & b1"
   ]
  },
  {
   "cell_type": "code",
   "execution_count": 22,
   "id": "db19b48d-6644-4e43-836d-eca325587496",
   "metadata": {},
   "outputs": [
    {
     "data": {
      "text/plain": [
       "True"
      ]
     },
     "execution_count": 22,
     "metadata": {},
     "output_type": "execute_result"
    }
   ],
   "source": [
    "a1 |  b1"
   ]
  },
  {
   "cell_type": "code",
   "execution_count": 23,
   "id": "7f9acc18-58ff-4682-a4d9-afb398fa9765",
   "metadata": {},
   "outputs": [
    {
     "name": "stdout",
     "output_type": "stream",
     "text": [
      "Swagat\n",
      "<class 'str'>\n"
     ]
    }
   ],
   "source": [
    "# Strings\n",
    "name = \"Swagat\"\n",
    "print(name)\n",
    "print(type(name))"
   ]
  },
  {
   "cell_type": "code",
   "execution_count": 24,
   "id": "b796516c-a448-42a6-b878-40a1c4caaf66",
   "metadata": {},
   "outputs": [
    {
     "data": {
      "text/plain": [
       "'Swagat Pradhan'"
      ]
     },
     "execution_count": 24,
     "metadata": {},
     "output_type": "execute_result"
    }
   ],
   "source": [
    "# Concatination operation\n",
    "name + \" Pradhan\""
   ]
  },
  {
   "cell_type": "code",
   "execution_count": 25,
   "id": "b0bd409c-2c98-4a38-b3fa-9231701656b9",
   "metadata": {},
   "outputs": [
    {
     "ename": "TypeError",
     "evalue": "can only concatenate str (not \"int\") to str",
     "output_type": "error",
     "traceback": [
      "\u001b[1;31m---------------------------------------------------------------------------\u001b[0m",
      "\u001b[1;31mTypeError\u001b[0m                                 Traceback (most recent call last)",
      "Cell \u001b[1;32mIn[25], line 1\u001b[0m\n\u001b[1;32m----> 1\u001b[0m name \u001b[38;5;241m+\u001b[39m \u001b[38;5;241m1\u001b[39m\n",
      "\u001b[1;31mTypeError\u001b[0m: can only concatenate str (not \"int\") to str"
     ]
    }
   ],
   "source": [
    "name + 1"
   ]
  },
  {
   "cell_type": "code",
   "execution_count": 28,
   "id": "2c1a56a0-aedd-4114-9b9b-f524c16a590b",
   "metadata": {},
   "outputs": [
    {
     "data": {
      "text/plain": [
       "'Swagat1'"
      ]
     },
     "execution_count": 28,
     "metadata": {},
     "output_type": "execute_result"
    }
   ],
   "source": [
    "name + str(1)"
   ]
  },
  {
   "cell_type": "code",
   "execution_count": 26,
   "id": "8cc0a7ee-5845-4a60-b6af-61607fea79b6",
   "metadata": {},
   "outputs": [],
   "source": [
    "# Complex Numbers\n",
    "\n",
    "j = 1.0 - 2.3j"
   ]
  },
  {
   "cell_type": "code",
   "execution_count": 27,
   "id": "ccb0b433-d125-420a-ada9-1b6e8957f0d8",
   "metadata": {},
   "outputs": [
    {
     "data": {
      "text/plain": [
       "(1-2.3j)"
      ]
     },
     "execution_count": 27,
     "metadata": {},
     "output_type": "execute_result"
    }
   ],
   "source": [
    "j"
   ]
  },
  {
   "cell_type": "code",
   "execution_count": 29,
   "id": "033b59c8-2eb1-456b-aeb4-078e5f0a0a23",
   "metadata": {},
   "outputs": [
    {
     "name": "stdout",
     "output_type": "stream",
     "text": [
      "1.0 -2.3\n"
     ]
    }
   ],
   "source": [
    "print(j.real , j.imag)"
   ]
  },
  {
   "cell_type": "code",
   "execution_count": 30,
   "id": "ac4b8cf7-f48f-48b8-823e-287dcd0fd229",
   "metadata": {},
   "outputs": [],
   "source": [
    "# Dynamic Typing\n",
    "a = 10\n",
    "a = \"Swagat\""
   ]
  },
  {
   "cell_type": "code",
   "execution_count": 31,
   "id": "42f4affd-2bc1-4012-8f20-c318fb1827e2",
   "metadata": {},
   "outputs": [
    {
     "data": {
      "text/plain": [
       "'Swagat'"
      ]
     },
     "execution_count": 31,
     "metadata": {},
     "output_type": "execute_result"
    }
   ],
   "source": [
    "a"
   ]
  },
  {
   "cell_type": "code",
   "execution_count": 32,
   "id": "89030d11-b84d-421c-8965-8b0c248cbb2c",
   "metadata": {},
   "outputs": [],
   "source": [
    "# Strong Typing\n",
    "b = \"Pradhan\""
   ]
  },
  {
   "cell_type": "code",
   "execution_count": 33,
   "id": "4e1ff9ae-d089-47bc-a456-464a1c4bb6de",
   "metadata": {},
   "outputs": [
    {
     "data": {
      "text/plain": [
       "'Swagat1'"
      ]
     },
     "execution_count": 33,
     "metadata": {},
     "output_type": "execute_result"
    }
   ],
   "source": [
    "a + \"1\""
   ]
  },
  {
   "cell_type": "code",
   "execution_count": 34,
   "id": "68fb9542-6072-4caf-8791-3a88dfc5f8fa",
   "metadata": {},
   "outputs": [
    {
     "name": "stdout",
     "output_type": "stream",
     "text": [
      "the value is 100\n"
     ]
    }
   ],
   "source": [
    "# String formatting\n",
    "a = 100 \n",
    "print(\"the value is\", a)"
   ]
  },
  {
   "cell_type": "code",
   "execution_count": 35,
   "id": "3d8b3096-9c79-4133-b21e-0668957ce618",
   "metadata": {},
   "outputs": [
    {
     "name": "stdout",
     "output_type": "stream",
     "text": [
      "The first name is Swagat and last name is Pradhan\n"
     ]
    }
   ],
   "source": [
    "first_name = \"Swagat\"\n",
    "last_name = \"Pradhan\"\n",
    "print(\"The first name is {} and last name is {}\".format(first_name,last_name))"
   ]
  },
  {
   "cell_type": "code",
   "execution_count": 36,
   "id": "548cd8df-31ae-430e-893d-da90959da358",
   "metadata": {},
   "outputs": [
    {
     "name": "stdout",
     "output_type": "stream",
     "text": [
      "The first name is Swagat and last name is Pradhan\n"
     ]
    }
   ],
   "source": [
    "first_name = \"Swagat\"\n",
    "last_name = \"Pradhan\"\n",
    "print(\"The first name is {1} and last name is {0}\".format(last_name, first_name))"
   ]
  },
  {
   "cell_type": "code",
   "execution_count": 37,
   "id": "95b78911-c8ba-4303-81f0-6568a8bb26b7",
   "metadata": {},
   "outputs": [
    {
     "name": "stdout",
     "output_type": "stream",
     "text": [
      "The first name is Swagat and last name is Pradhan\n"
     ]
    }
   ],
   "source": [
    "first_name = \"Swagat\"\n",
    "last_name = \"Pradhan\"\n",
    "print(\"The first name is {a} and last name is {b}\".format(b = last_name,a = first_name))"
   ]
  },
  {
   "cell_type": "code",
   "execution_count": 38,
   "id": "f0ef4da8-ed99-4374-acf4-b1dcc05e1179",
   "metadata": {},
   "outputs": [
    {
     "name": "stdin",
     "output_type": "stream",
     "text": [
      " Swagat\n"
     ]
    },
    {
     "data": {
      "text/plain": [
       "'Swagat'"
      ]
     },
     "execution_count": 38,
     "metadata": {},
     "output_type": "execute_result"
    }
   ],
   "source": [
    "#input statement\n",
    "input(\"Enter your name\")"
   ]
  },
  {
   "cell_type": "code",
   "execution_count": 43,
   "id": "42d77709-ed01-481b-aad3-984638e57a98",
   "metadata": {},
   "outputs": [
    {
     "name": "stdin",
     "output_type": "stream",
     "text": [
      "Enter the number A =  50\n",
      "Enter the number B =  60\n"
     ]
    },
    {
     "name": "stdout",
     "output_type": "stream",
     "text": [
      "5060\n"
     ]
    }
   ],
   "source": [
    "a = input(\"Enter the number A = \")\n",
    "b = input(\"Enter the number B = \")\n",
    "print(a+b)"
   ]
  },
  {
   "cell_type": "code",
   "execution_count": 42,
   "id": "086281ec-ebef-4a8f-bd13-1da1b6fb01a6",
   "metadata": {},
   "outputs": [
    {
     "name": "stdin",
     "output_type": "stream",
     "text": [
      "Enter the number A =  50\n",
      "Enter the number B =  60\n"
     ]
    },
    {
     "name": "stdout",
     "output_type": "stream",
     "text": [
      "110\n"
     ]
    }
   ],
   "source": [
    "a = input(\"Enter the number A = \")\n",
    "b = input(\"Enter the number B = \")\n",
    "print(int(a)+int(b))"
   ]
  },
  {
   "cell_type": "code",
   "execution_count": null,
   "id": "9c511aee-3baf-412f-8e9a-797b2f1411eb",
   "metadata": {},
   "outputs": [],
   "source": []
  }
 ],
 "metadata": {
  "kernelspec": {
   "display_name": "Python 3 (ipykernel)",
   "language": "python",
   "name": "python3"
  },
  "language_info": {
   "codemirror_mode": {
    "name": "ipython",
    "version": 3
   },
   "file_extension": ".py",
   "mimetype": "text/x-python",
   "name": "python",
   "nbconvert_exporter": "python",
   "pygments_lexer": "ipython3",
   "version": "3.12.4"
  }
 },
 "nbformat": 4,
 "nbformat_minor": 5
}
