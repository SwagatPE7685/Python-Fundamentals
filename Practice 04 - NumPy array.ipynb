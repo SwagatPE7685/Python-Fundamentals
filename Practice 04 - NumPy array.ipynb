{
 "cells": [
  {
   "cell_type": "markdown",
   "id": "fca0b787-29b5-4ed2-bf4b-ee98a39c5a81",
   "metadata": {},
   "source": [
    "# Practice 04 - NumPy array"
   ]
  },
  {
   "cell_type": "code",
   "execution_count": 2,
   "id": "ab14be0e-9610-4c94-91b7-1887f964917c",
   "metadata": {},
   "outputs": [],
   "source": [
    "# import the library\n",
    "import numpy as np"
   ]
  },
  {
   "cell_type": "code",
   "execution_count": 3,
   "id": "71e382fc-6b0c-44e0-b3f8-8b0047ea55b2",
   "metadata": {},
   "outputs": [],
   "source": [
    "lst=[1,2,3,4]\n",
    "arr=np.array(lst)"
   ]
  },
  {
   "cell_type": "code",
   "execution_count": 4,
   "id": "d695aa65-7f52-465d-89cf-261ea71fbb73",
   "metadata": {},
   "outputs": [
    {
     "data": {
      "text/plain": [
       "numpy.ndarray"
      ]
     },
     "execution_count": 4,
     "metadata": {},
     "output_type": "execute_result"
    }
   ],
   "source": [
    "type(arr)"
   ]
  },
  {
   "cell_type": "code",
   "execution_count": 6,
   "id": "802f14b3-ecc6-4777-aac6-147a91ac068f",
   "metadata": {},
   "outputs": [
    {
     "data": {
      "text/plain": [
       "(4,)"
      ]
     },
     "execution_count": 6,
     "metadata": {},
     "output_type": "execute_result"
    }
   ],
   "source": [
    "arr.shape"
   ]
  },
  {
   "cell_type": "code",
   "execution_count": 7,
   "id": "8463d936-f57f-418d-a4cb-4cef81488a28",
   "metadata": {},
   "outputs": [],
   "source": [
    "lst1=[1,2,3,4,5]\n",
    "lst2=[4,5,6,8,9]\n",
    "lst3=[7,8,9,4,5]\n",
    "\n",
    "arr1 = np.array([lst1,lst2,lst3])"
   ]
  },
  {
   "cell_type": "code",
   "execution_count": 8,
   "id": "ab8b5437-e6ca-416a-8732-083204a36de4",
   "metadata": {},
   "outputs": [
    {
     "data": {
      "text/plain": [
       "array([[1, 2, 3, 4, 5],\n",
       "       [4, 5, 6, 8, 9],\n",
       "       [7, 8, 9, 4, 5]])"
      ]
     },
     "execution_count": 8,
     "metadata": {},
     "output_type": "execute_result"
    }
   ],
   "source": [
    "arr1"
   ]
  },
  {
   "cell_type": "code",
   "execution_count": 9,
   "id": "049fee65-4038-42ad-b770-af914666fb95",
   "metadata": {},
   "outputs": [
    {
     "data": {
      "text/plain": [
       "numpy.ndarray"
      ]
     },
     "execution_count": 9,
     "metadata": {},
     "output_type": "execute_result"
    }
   ],
   "source": [
    "type(arr1)"
   ]
  },
  {
   "cell_type": "code",
   "execution_count": 10,
   "id": "0f8f7d98-beb1-4fd6-8dc5-5d0c5e062608",
   "metadata": {},
   "outputs": [
    {
     "data": {
      "text/plain": [
       "(3, 5)"
      ]
     },
     "execution_count": 10,
     "metadata": {},
     "output_type": "execute_result"
    }
   ],
   "source": [
    "arr1.shape"
   ]
  },
  {
   "cell_type": "code",
   "execution_count": 11,
   "id": "df2416a5-1586-4978-965e-d6d3a312866c",
   "metadata": {},
   "outputs": [
    {
     "data": {
      "text/plain": [
       "array([[1, 2, 3, 4, 5],\n",
       "       [4, 5, 6, 8, 9],\n",
       "       [7, 8, 9, 4, 5]])"
      ]
     },
     "execution_count": 11,
     "metadata": {},
     "output_type": "execute_result"
    }
   ],
   "source": [
    "# indexing\n",
    "\n",
    "arr1"
   ]
  },
  {
   "cell_type": "code",
   "execution_count": 13,
   "id": "597a0ec2-623e-41b5-94ab-87665e32fecc",
   "metadata": {},
   "outputs": [
    {
     "data": {
      "text/plain": [
       "array([1, 2, 3, 4, 5])"
      ]
     },
     "execution_count": 13,
     "metadata": {},
     "output_type": "execute_result"
    }
   ],
   "source": [
    "arr1[0]"
   ]
  },
  {
   "cell_type": "code",
   "execution_count": 17,
   "id": "fc41cf3f-ac59-4b98-b78c-03892773e11c",
   "metadata": {},
   "outputs": [],
   "source": [
    "# change the element\n",
    "arr1[0][0] = 9"
   ]
  },
  {
   "cell_type": "code",
   "execution_count": 18,
   "id": "af52550e-27a4-48de-a042-5ac33de72b8c",
   "metadata": {},
   "outputs": [
    {
     "data": {
      "text/plain": [
       "array([[9, 2, 3, 4, 5],\n",
       "       [4, 5, 6, 8, 9],\n",
       "       [7, 8, 9, 4, 5]])"
      ]
     },
     "execution_count": 18,
     "metadata": {},
     "output_type": "execute_result"
    }
   ],
   "source": [
    "arr1"
   ]
  },
  {
   "cell_type": "code",
   "execution_count": 20,
   "id": "7464de29-dd3b-48eb-bb87-05dc5dcc5662",
   "metadata": {},
   "outputs": [
    {
     "data": {
      "text/plain": [
       "array([[9, 2, 3, 4, 5],\n",
       "       [4, 5, 6, 8, 9]])"
      ]
     },
     "execution_count": 20,
     "metadata": {},
     "output_type": "execute_result"
    }
   ],
   "source": [
    "#specify the range\n",
    "\n",
    "arr1[0:2]"
   ]
  },
  {
   "cell_type": "code",
   "execution_count": 23,
   "id": "69110989-1476-4b78-b504-c85586e06b17",
   "metadata": {},
   "outputs": [
    {
     "data": {
      "text/plain": [
       "array([[7, 8, 9, 4, 5],\n",
       "       [4, 5, 6, 8, 9],\n",
       "       [9, 2, 3, 4, 5]])"
      ]
     },
     "execution_count": 23,
     "metadata": {},
     "output_type": "execute_result"
    }
   ],
   "source": [
    "# it will print from last\n",
    "\n",
    "arr1[::-1]"
   ]
  },
  {
   "cell_type": "code",
   "execution_count": 25,
   "id": "f5fce42b-c1c9-412d-85e4-ceff399a961d",
   "metadata": {},
   "outputs": [
    {
     "data": {
      "text/plain": [
       "array([[9, 2, 3, 4, 5],\n",
       "       [4, 5, 6, 8, 9],\n",
       "       [7, 8, 9, 4, 5]])"
      ]
     },
     "execution_count": 25,
     "metadata": {},
     "output_type": "execute_result"
    }
   ],
   "source": [
    "# here : means all rows, also use comma in between [row:col]\n",
    "\n",
    "arr1"
   ]
  },
  {
   "cell_type": "code",
   "execution_count": 46,
   "id": "e893b476-7e5a-401e-b1c6-a130038bb5d9",
   "metadata": {},
   "outputs": [
    {
     "data": {
      "text/plain": [
       "array([2, 5, 8])"
      ]
     },
     "execution_count": 46,
     "metadata": {},
     "output_type": "execute_result"
    }
   ],
   "source": [
    "arr1[:,1]"
   ]
  },
  {
   "cell_type": "code",
   "execution_count": 49,
   "id": "e2491779-f2b9-4fde-ae51-edb8cbc7a6af",
   "metadata": {},
   "outputs": [
    {
     "data": {
      "text/plain": [
       "array([[9, 2, 3],\n",
       "       [4, 5, 6],\n",
       "       [7, 8, 9]])"
      ]
     },
     "execution_count": 49,
     "metadata": {},
     "output_type": "execute_result"
    }
   ],
   "source": [
    "arr1[:,0:3]"
   ]
  },
  {
   "cell_type": "code",
   "execution_count": 64,
   "id": "43f78eae-5870-40eb-ba85-bb03e0f28d5c",
   "metadata": {},
   "outputs": [
    {
     "data": {
      "text/plain": [
       "array([[9, 2, 3],\n",
       "       [4, 5, 6],\n",
       "       [7, 8, 9]])"
      ]
     },
     "execution_count": 64,
     "metadata": {},
     "output_type": "execute_result"
    }
   ],
   "source": [
    "arr1[:,:3]"
   ]
  },
  {
   "cell_type": "code",
   "execution_count": 65,
   "id": "8d3878a3-30da-455f-89c9-ff109b546762",
   "metadata": {},
   "outputs": [
    {
     "data": {
      "text/plain": [
       "array([[4, 5, 6],\n",
       "       [7, 8, 9]])"
      ]
     },
     "execution_count": 65,
     "metadata": {},
     "output_type": "execute_result"
    }
   ],
   "source": [
    "# more indexing\n",
    "\n",
    "arr1[1:,:3]"
   ]
  },
  {
   "cell_type": "code",
   "execution_count": 66,
   "id": "2557a727-56eb-4656-a828-ecfc751aabde",
   "metadata": {},
   "outputs": [
    {
     "data": {
      "text/plain": [
       "array([[4, 5, 6]])"
      ]
     },
     "execution_count": 66,
     "metadata": {},
     "output_type": "execute_result"
    }
   ],
   "source": [
    "arr1[1:2,:3]"
   ]
  },
  {
   "cell_type": "code",
   "execution_count": 68,
   "id": "333741a1-c0d7-42dc-bde1-9b4acd12e245",
   "metadata": {},
   "outputs": [
    {
     "data": {
      "text/plain": [
       "array([[2, 3],\n",
       "       [5, 6]])"
      ]
     },
     "execution_count": 68,
     "metadata": {},
     "output_type": "execute_result"
    }
   ],
   "source": [
    "arr1[:2,1:3]"
   ]
  },
  {
   "cell_type": "code",
   "execution_count": 69,
   "id": "d2e5a094-0a26-40ad-a566-103ce05b33c9",
   "metadata": {},
   "outputs": [
    {
     "data": {
      "text/plain": [
       "array([[9, 2, 3, 4, 5],\n",
       "       [4, 5, 6, 8, 9],\n",
       "       [7, 8, 9, 4, 5]])"
      ]
     },
     "execution_count": 69,
     "metadata": {},
     "output_type": "execute_result"
    }
   ],
   "source": [
    "arr1"
   ]
  },
  {
   "cell_type": "code",
   "execution_count": 72,
   "id": "2b9f3031-bf36-4922-afb1-c2170e6d5ee6",
   "metadata": {},
   "outputs": [
    {
     "data": {
      "text/plain": [
       "array([[8, 9],\n",
       "       [4, 5]])"
      ]
     },
     "execution_count": 72,
     "metadata": {},
     "output_type": "execute_result"
    }
   ],
   "source": [
    "arr1[1:3,3:]"
   ]
  },
  {
   "cell_type": "code",
   "execution_count": 81,
   "id": "b4d26027-1768-4ecd-aecb-21854fd77fd5",
   "metadata": {},
   "outputs": [],
   "source": [
    "# Exploratory Data Analysis\n",
    "\n",
    "lst2 =[1,2,3,4,5,6]"
   ]
  },
  {
   "cell_type": "code",
   "execution_count": 87,
   "id": "66f30904-987a-486f-9964-9b2f8dcebfaa",
   "metadata": {},
   "outputs": [],
   "source": [
    "arr2 = np.array(lst2)"
   ]
  },
  {
   "cell_type": "code",
   "execution_count": 88,
   "id": "07a4c9ea-1a2e-442d-845b-b170239ed7ba",
   "metadata": {},
   "outputs": [
    {
     "data": {
      "text/plain": [
       "(6,)"
      ]
     },
     "execution_count": 88,
     "metadata": {},
     "output_type": "execute_result"
    }
   ],
   "source": [
    "arr2.shape"
   ]
  },
  {
   "cell_type": "code",
   "execution_count": 91,
   "id": "7d95144e-14a9-4882-9a3e-67c165623599",
   "metadata": {},
   "outputs": [
    {
     "data": {
      "text/plain": [
       "array([False, False, False, False,  True,  True])"
      ]
     },
     "execution_count": 91,
     "metadata": {},
     "output_type": "execute_result"
    }
   ],
   "source": [
    "# saving time from donig for loop\n",
    "arr2>4"
   ]
  },
  {
   "cell_type": "code",
   "execution_count": 93,
   "id": "bb2a92ea-234e-40b7-b4f5-f3a31fcd2f9e",
   "metadata": {},
   "outputs": [
    {
     "data": {
      "text/plain": [
       "array([5, 6])"
      ]
     },
     "execution_count": 93,
     "metadata": {},
     "output_type": "execute_result"
    }
   ],
   "source": [
    "# this will the particualr no. greater than 4\n",
    "arr2[arr2>4]"
   ]
  },
  {
   "cell_type": "code",
   "execution_count": 95,
   "id": "d3802da3-0ca0-478d-a75f-b0356882f243",
   "metadata": {},
   "outputs": [
    {
     "data": {
      "text/plain": [
       "array([[9, 2, 3, 4, 5],\n",
       "       [4, 5, 6, 8, 9],\n",
       "       [7, 8, 9, 4, 5]])"
      ]
     },
     "execution_count": 95,
     "metadata": {},
     "output_type": "execute_result"
    }
   ],
   "source": [
    "#reshape\n",
    "arr1"
   ]
  },
  {
   "cell_type": "code",
   "execution_count": 96,
   "id": "66b276d5-5415-4b3b-afc1-400cf751bb0c",
   "metadata": {},
   "outputs": [
    {
     "data": {
      "text/plain": [
       "array([[9, 2, 3],\n",
       "       [4, 5, 4],\n",
       "       [5, 6, 8],\n",
       "       [9, 7, 8],\n",
       "       [9, 4, 5]])"
      ]
     },
     "execution_count": 96,
     "metadata": {},
     "output_type": "execute_result"
    }
   ],
   "source": [
    "arr1.reshape(5,3)"
   ]
  },
  {
   "cell_type": "code",
   "execution_count": 100,
   "id": "cc0d5be7-b865-4018-be2b-e7769872bd83",
   "metadata": {},
   "outputs": [
    {
     "data": {
      "text/plain": [
       "array([1, 2, 3, 4, 5, 6, 7, 8, 9])"
      ]
     },
     "execution_count": 100,
     "metadata": {},
     "output_type": "execute_result"
    }
   ],
   "source": [
    "# another mechanism to create array\n",
    "# arange- (start, stop, step)\n",
    "\n",
    "np.arange(1,10,1)"
   ]
  },
  {
   "cell_type": "code",
   "execution_count": 101,
   "id": "1f4332f3-1fc3-4752-b72a-24764e325ed0",
   "metadata": {},
   "outputs": [
    {
     "data": {
      "text/plain": [
       "array([ 2,  4,  6,  8, 10, 12, 14])"
      ]
     },
     "execution_count": 101,
     "metadata": {},
     "output_type": "execute_result"
    }
   ],
   "source": [
    "np.arange(2,15,2)"
   ]
  },
  {
   "cell_type": "code",
   "execution_count": 107,
   "id": "bd509fb6-92b9-496c-a959-3f66b9dbe766",
   "metadata": {},
   "outputs": [
    {
     "data": {
      "text/plain": [
       "array([[ 1,  3,  5,  7,  9, 11, 13, 15],\n",
       "       [17, 19, 21, 23, 25, 27, 29, 31]])"
      ]
     },
     "execution_count": 107,
     "metadata": {},
     "output_type": "execute_result"
    }
   ],
   "source": [
    "# can also be reshape in 2 dimention (row, column)\n",
    "\n",
    "np.arange(1,32,2).reshape(2,8)"
   ]
  },
  {
   "cell_type": "code",
   "execution_count": 122,
   "id": "b6c0c764-e6bd-4a56-b0e4-0ae6a851f539",
   "metadata": {},
   "outputs": [
    {
     "data": {
      "text/plain": [
       "array([[[ 1,  2,  3,  4],\n",
       "        [ 5,  6,  7,  8],\n",
       "        [ 9, 10, 11, 12],\n",
       "        [13, 14, 15, 16]],\n",
       "\n",
       "       [[17, 18, 19, 20],\n",
       "        [21, 22, 23, 24],\n",
       "        [25, 26, 27, 28],\n",
       "        [29, 30, 31, 32]]])"
      ]
     },
     "execution_count": 122,
     "metadata": {},
     "output_type": "execute_result"
    }
   ],
   "source": [
    "# also we can convert it into 3rd dimention (block, row, column)\n",
    "\n",
    "np.arange(1,33,1).reshape(2,4,4)"
   ]
  },
  {
   "cell_type": "code",
   "execution_count": 123,
   "id": "f68e2b9c-ffea-46d0-b151-f70cfe4c5009",
   "metadata": {},
   "outputs": [
    {
     "data": {
      "text/plain": [
       "array([[9, 2, 3, 4, 5],\n",
       "       [4, 5, 6, 8, 9],\n",
       "       [7, 8, 9, 4, 5]])"
      ]
     },
     "execution_count": 123,
     "metadata": {},
     "output_type": "execute_result"
    }
   ],
   "source": [
    "# numerical\n",
    "\n",
    "arr1"
   ]
  },
  {
   "cell_type": "code",
   "execution_count": 124,
   "id": "c8bc1431-b213-4be2-86d9-31fb33a9d744",
   "metadata": {},
   "outputs": [
    {
     "data": {
      "text/plain": [
       "array([[18,  4,  6,  8, 10],\n",
       "       [ 8, 10, 12, 16, 18],\n",
       "       [14, 16, 18,  8, 10]])"
      ]
     },
     "execution_count": 124,
     "metadata": {},
     "output_type": "execute_result"
    }
   ],
   "source": [
    "arr1*2"
   ]
  },
  {
   "cell_type": "code",
   "execution_count": 125,
   "id": "1b108c53-a683-4984-a8c8-8392f9db5dbe",
   "metadata": {},
   "outputs": [
    {
     "data": {
      "text/plain": [
       "array([[9, 2, 3, 4, 5],\n",
       "       [4, 5, 6, 8, 9],\n",
       "       [7, 8, 9, 4, 5]])"
      ]
     },
     "execution_count": 125,
     "metadata": {},
     "output_type": "execute_result"
    }
   ],
   "source": [
    "arr1"
   ]
  },
  {
   "cell_type": "code",
   "execution_count": 126,
   "id": "a7f00cc9-27b1-443c-b482-b69e01df9166",
   "metadata": {},
   "outputs": [
    {
     "data": {
      "text/plain": [
       "array([1, 2, 3, 4, 5, 6])"
      ]
     },
     "execution_count": 126,
     "metadata": {},
     "output_type": "execute_result"
    }
   ],
   "source": [
    "arr2"
   ]
  },
  {
   "cell_type": "code",
   "execution_count": 128,
   "id": "a2be7094-b445-4cc6-867a-377493e2d3a3",
   "metadata": {},
   "outputs": [
    {
     "data": {
      "text/plain": [
       "array([[81,  4,  9, 16, 25],\n",
       "       [16, 25, 36, 64, 81],\n",
       "       [49, 64, 81, 16, 25]])"
      ]
     },
     "execution_count": 128,
     "metadata": {},
     "output_type": "execute_result"
    }
   ],
   "source": [
    "arr1*arr1"
   ]
  },
  {
   "cell_type": "code",
   "execution_count": 131,
   "id": "90c8a3eb-1648-41cf-8b59-eb22e7793ec8",
   "metadata": {},
   "outputs": [
    {
     "data": {
      "text/plain": [
       "array([[1., 1., 1., 1., 1., 1., 1., 1., 1.],\n",
       "       [1., 1., 1., 1., 1., 1., 1., 1., 1.],\n",
       "       [1., 1., 1., 1., 1., 1., 1., 1., 1.],\n",
       "       [1., 1., 1., 1., 1., 1., 1., 1., 1.],\n",
       "       [1., 1., 1., 1., 1., 1., 1., 1., 1.]])"
      ]
     },
     "execution_count": 131,
     "metadata": {},
     "output_type": "execute_result"
    }
   ],
   "source": [
    "# another inbuilt funtions\n",
    "\n",
    "np.ones((5,9))"
   ]
  },
  {
   "cell_type": "code",
   "execution_count": 132,
   "id": "c0233b9a-9e28-4571-832d-ccb0eaa8cdda",
   "metadata": {},
   "outputs": [
    {
     "data": {
      "text/plain": [
       "array([[0., 0., 0., 0., 0., 0., 0., 0., 0., 0.],\n",
       "       [0., 0., 0., 0., 0., 0., 0., 0., 0., 0.],\n",
       "       [0., 0., 0., 0., 0., 0., 0., 0., 0., 0.],\n",
       "       [0., 0., 0., 0., 0., 0., 0., 0., 0., 0.],\n",
       "       [0., 0., 0., 0., 0., 0., 0., 0., 0., 0.],\n",
       "       [0., 0., 0., 0., 0., 0., 0., 0., 0., 0.]])"
      ]
     },
     "execution_count": 132,
     "metadata": {},
     "output_type": "execute_result"
    }
   ],
   "source": [
    "np.zeros((6,10))"
   ]
  },
  {
   "cell_type": "code",
   "execution_count": 137,
   "id": "2e1e3b6b-ea67-4e18-b7b8-961278de5b2e",
   "metadata": {},
   "outputs": [
    {
     "data": {
      "text/plain": [
       "15"
      ]
     },
     "execution_count": 137,
     "metadata": {},
     "output_type": "execute_result"
    }
   ],
   "source": [
    "# random creation of no.\n",
    "\n",
    "np.random.randint(10,20)"
   ]
  },
  {
   "cell_type": "code",
   "execution_count": 145,
   "id": "e2795740-c655-4453-81ea-7cfb74adc149",
   "metadata": {},
   "outputs": [
    {
     "data": {
      "text/plain": [
       "array([[11, 15],\n",
       "       [16, 15],\n",
       "       [17, 13]])"
      ]
     },
     "execution_count": 145,
     "metadata": {},
     "output_type": "execute_result"
    }
   ],
   "source": [
    "# also provide size and shape\n",
    "\n",
    "np.random.randint(10,20,6).reshape(3,2)"
   ]
  },
  {
   "cell_type": "code",
   "execution_count": 146,
   "id": "15fa72c2-f77c-4313-8166-6431f010c8f3",
   "metadata": {},
   "outputs": [
    {
     "data": {
      "text/plain": [
       "array([[0.48850962, 0.78888882, 0.27461219, 0.22393974, 0.49476001],\n",
       "       [0.09588428, 0.45721216, 0.58872219, 0.91091783, 0.80732783],\n",
       "       [0.6698484 , 0.9671502 , 0.99660775, 0.24322139, 0.87793452],\n",
       "       [0.4710236 , 0.83882318, 0.18176556, 0.40289086, 0.88100334]])"
      ]
     },
     "execution_count": 146,
     "metadata": {},
     "output_type": "execute_result"
    }
   ],
   "source": [
    "# it will also generate no.s between 0-1\n",
    "\n",
    "np.random.random_sample((4,5))"
   ]
  },
  {
   "cell_type": "code",
   "execution_count": null,
   "id": "03de8d1b-6a3b-446d-a70e-e5e3d83b8d3a",
   "metadata": {},
   "outputs": [],
   "source": []
  }
 ],
 "metadata": {
  "kernelspec": {
   "display_name": "Python 3 (ipykernel)",
   "language": "python",
   "name": "python3"
  },
  "language_info": {
   "codemirror_mode": {
    "name": "ipython",
    "version": 3
   },
   "file_extension": ".py",
   "mimetype": "text/x-python",
   "name": "python",
   "nbconvert_exporter": "python",
   "pygments_lexer": "ipython3",
   "version": "3.12.4"
  }
 },
 "nbformat": 4,
 "nbformat_minor": 5
}
