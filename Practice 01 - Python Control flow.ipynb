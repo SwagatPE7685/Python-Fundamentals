{
 "cells": [
  {
   "cell_type": "code",
   "execution_count": 21,
   "id": "3d32d37c-bc8e-4bcb-ab36-b56e6e7660cf",
   "metadata": {},
   "outputs": [
    {
     "name": "stdin",
     "output_type": "stream",
     "text": [
      "Enter the number 29\n"
     ]
    },
    {
     "name": "stdout",
     "output_type": "stream",
     "text": [
      "it is less than 100\n"
     ]
    }
   ],
   "source": [
    "# if-else statement\n",
    "\n",
    "val=float(input(\"Enter the number\"))\n",
    "\n",
    "if val>100:\n",
    "    print(\"the number is greater than 100\")\n",
    "    if (val%2==0):\n",
    "        print(\"it is even number\")\n",
    "    else:\n",
    "        print(\"it is odd number\")\n",
    "else:\n",
    "    print(\"it is less than 100\")"
   ]
  },
  {
   "cell_type": "code",
   "execution_count": 29,
   "id": "46c8a3a8-c17d-496a-9d8d-1816efd59f08",
   "metadata": {},
   "outputs": [
    {
     "name": "stdin",
     "output_type": "stream",
     "text": [
      "Enter the number:  256\n"
     ]
    },
    {
     "name": "stdout",
     "output_type": "stream",
     "text": [
      "The number is greater than 100 and it is an even number.\n"
     ]
    }
   ],
   "source": [
    "# if Else Elif statement\n",
    "\n",
    "val = float(input(\"Enter the number: \"))\n",
    "\n",
    "if val > 100 and val % 2 == 0:\n",
    "    print(\"The number is greater than 100 and it is an even number.\")\n",
    "elif val > 100:\n",
    "    print(\"The number is greater than 100 and it is an odd number.\")\n",
    "elif val % 2 == 0:\n",
    "    print(\"The number is less than 100 and it is an even number.\")\n",
    "else:\n",
    "    print(\"The number is less than 100 and it is an odd number.\")"
   ]
  },
  {
   "cell_type": "code",
   "execution_count": 36,
   "id": "cde53591-d2fa-4174-9767-b2a69f94a6b2",
   "metadata": {},
   "outputs": [
    {
     "name": "stdin",
     "output_type": "stream",
     "text": [
      "Enter the number -27\n"
     ]
    },
    {
     "name": "stdout",
     "output_type": "stream",
     "text": [
      "multiple of 3 and it is negative\n"
     ]
    }
   ],
   "source": [
    "# Write a Python program that takes an integer input from the user and \n",
    "#checks if the number is a multiple of 3 and if the number is positive or negative.\n",
    "#Combine the checks in a single if structure and print \n",
    "#appropriate messages based on the conditions.\n",
    "\n",
    "val = int(input(\"Enter the number\"))\n",
    "\n",
    "if val%3==0 and val>0:\n",
    "    print(\"multiple of 3 and it is positive\")\n",
    "elif val%3==0 and val<0:\n",
    "    print(\"multiple of 3 and it is negative\")\n",
    "elif val>0:\n",
    "    print(\"not multiple of 3 and it is positve\")\n",
    "else:\n",
    "    print(\"not multiple of 3 and it is negative\")"
   ]
  },
  {
   "cell_type": "code",
   "execution_count": 50,
   "id": "64937c53-9917-407e-bb6b-38afe95f47a6",
   "metadata": {},
   "outputs": [
    {
     "name": "stdin",
     "output_type": "stream",
     "text": [
      "Enter the number 7.5\n"
     ]
    },
    {
     "name": "stdout",
     "output_type": "stream",
     "text": [
      "it is less than 50 and it is not a whole number\n"
     ]
    }
   ],
   "source": [
    "# Write a Python program that takes a floating-point number input from the user and \n",
    "# checks if the number is greater than 50.0 and whether it is a whole number \n",
    "# (i.e., it has no fractional part). Combine these checks in a single if structure \n",
    "# and print appropriate messages based on the conditions.\n",
    "\n",
    "val=float(input(\"Enter the number\"))\n",
    "\n",
    "if val>50.0 and val.is_integer():\n",
    "    print(\"it is greater than 50 and it is a whole number\")\n",
    "elif val>50.0:\n",
    "    print(\"it is greater than 50 and it is not a whole number\")\n",
    "elif val.is_integer():\n",
    "    print(\"it is less than 50 and it is a whole number\")\n",
    "else:\n",
    "    print(\"it is less than 50 and it is not a whole number\")\n"
   ]
  },
  {
   "cell_type": "code",
   "execution_count": 54,
   "id": "c2cdca26-f8c2-4ee5-9f4a-03e913aa9170",
   "metadata": {},
   "outputs": [
    {
     "name": "stdin",
     "output_type": "stream",
     "text": [
      "Enter the number =  25\n"
     ]
    },
    {
     "name": "stdout",
     "output_type": "stream",
     "text": [
      "not divisible\n"
     ]
    }
   ],
   "source": [
    "# Write a Python program that takes an integer input from the user and \n",
    "# checks if the number is divisible by both 5 and 7. Combine these \n",
    "# checks in a single if structure and print appropriate messages based on the conditions.\n",
    "\n",
    "div=int(input(\"Enter the number = \"))\n",
    "\n",
    "if div%5==0 and div%7==0:\n",
    "    print(\"it is divisible by both number\")\n",
    "else:\n",
    "    print(\"not divisible\")"
   ]
  },
  {
   "cell_type": "code",
   "execution_count": 57,
   "id": "a907b48b-8cb3-4d92-81be-cf99ad213f63",
   "metadata": {},
   "outputs": [
    {
     "name": "stdin",
     "output_type": "stream",
     "text": [
      "Enter the length of side a : 5\n",
      "Enter the length of side b : 8\n",
      "Enter the length of side c : 7\n"
     ]
    },
    {
     "name": "stdout",
     "output_type": "stream",
     "text": [
      " the lenght of 5,8 and 7 forms a perfect triangle\n"
     ]
    }
   ],
   "source": [
    "# Write a Python program that takes three integer inputs from the user and \n",
    "# checks if they form a valid triangle. Combine these checks in a single if structure \n",
    "#and print appropriate messages based on the conditions.\n",
    "\n",
    "a=int(input(\"Enter the length of side a :\"))\n",
    "b=int(input(\"Enter the length of side b :\"))\n",
    "c=int(input(\"Enter the length of side c :\"))\n",
    "\n",
    "if a+b>c and b+c>a and c+a>b:\n",
    "    print(\" the lenght of {},{} and {} forms a perfect triangle\".format(a,b,c))\n",
    "else:\n",
    "    print(\"not perfect\")"
   ]
  },
  {
   "cell_type": "code",
   "execution_count": 60,
   "id": "00570ddf-dbb2-469b-ad18-679a4035e0c9",
   "metadata": {},
   "outputs": [
    {
     "name": "stdin",
     "output_type": "stream",
     "text": [
      "Enter the year 2024\n"
     ]
    },
    {
     "name": "stdout",
     "output_type": "stream",
     "text": [
      "is it leap year\n"
     ]
    }
   ],
   "source": [
    "# Write a Python program that takes a year input from the user and checks if it is a leap year. \n",
    "\n",
    "yr = int(input(\"Enter the year\"))\n",
    "\n",
    "if (yr%4==0 and yr%100!=0) or yr%100==0:\n",
    "    print(\"is it leap year\")\n",
    "else:\n",
    "    print(\"it is not a leap year\")"
   ]
  },
  {
   "cell_type": "code",
   "execution_count": null,
   "id": "50ca88bb-1db4-41d7-a07c-16e3659aec31",
   "metadata": {},
   "outputs": [],
   "source": []
  }
 ],
 "metadata": {
  "kernelspec": {
   "display_name": "Python 3 (ipykernel)",
   "language": "python",
   "name": "python3"
  },
  "language_info": {
   "codemirror_mode": {
    "name": "ipython",
    "version": 3
   },
   "file_extension": ".py",
   "mimetype": "text/x-python",
   "name": "python",
   "nbconvert_exporter": "python",
   "pygments_lexer": "ipython3",
   "version": "3.12.4"
  }
 },
 "nbformat": 4,
 "nbformat_minor": 5
}
