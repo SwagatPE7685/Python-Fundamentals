{
 "cells": [
  {
   "cell_type": "code",
   "execution_count": 21,
   "id": "3d32d37c-bc8e-4bcb-ab36-b56e6e7660cf",
   "metadata": {},
   "outputs": [
    {
     "name": "stdin",
     "output_type": "stream",
     "text": [
      "Enter the number 29\n"
     ]
    },
    {
     "name": "stdout",
     "output_type": "stream",
     "text": [
      "it is less than 100\n"
     ]
    }
   ],
   "source": [
    "# if-else statement\n",
    "\n",
    "val=float(input(\"Enter the number\"))\n",
    "\n",
    "if val>100:\n",
    "    print(\"the number is greater than 100\")\n",
    "    if (val%2==0):\n",
    "        print(\"it is even number\")\n",
    "    else:\n",
    "        print(\"it is odd number\")\n",
    "else:\n",
    "    print(\"it is less than 100\")"
   ]
  },
  {
   "cell_type": "code",
   "execution_count": 29,
   "id": "46c8a3a8-c17d-496a-9d8d-1816efd59f08",
   "metadata": {},
   "outputs": [
    {
     "name": "stdin",
     "output_type": "stream",
     "text": [
      "Enter the number:  256\n"
     ]
    },
    {
     "name": "stdout",
     "output_type": "stream",
     "text": [
      "The number is greater than 100 and it is an even number.\n"
     ]
    }
   ],
   "source": [
    "# if Else Elif statement\n",
    "\n",
    "val = float(input(\"Enter the number: \"))\n",
    "\n",
    "if val > 100 and val % 2 == 0:\n",
    "    print(\"The number is greater than 100 and it is an even number.\")\n",
    "elif val > 100:\n",
    "    print(\"The number is greater than 100 and it is an odd number.\")\n",
    "elif val % 2 == 0:\n",
    "    print(\"The number is less than 100 and it is an even number.\")\n",
    "else:\n",
    "    print(\"The number is less than 100 and it is an odd number.\")"
   ]
  },
  {
   "cell_type": "code",
   "execution_count": 36,
   "id": "cde53591-d2fa-4174-9767-b2a69f94a6b2",
   "metadata": {},
   "outputs": [
    {
     "name": "stdin",
     "output_type": "stream",
     "text": [
      "Enter the number -27\n"
     ]
    },
    {
     "name": "stdout",
     "output_type": "stream",
     "text": [
      "multiple of 3 and it is negative\n"
     ]
    }
   ],
   "source": [
    "# Write a Python program that takes an integer input from the user and \n",
    "#checks if the number is a multiple of 3 and if the number is positive or negative.\n",
    "#Combine the checks in a single if structure and print \n",
    "#appropriate messages based on the conditions.\n",
    "\n",
    "val = int(input(\"Enter the number\"))\n",
    "\n",
    "if val%3==0 and val>0:\n",
    "    print(\"multiple of 3 and it is positive\")\n",
    "elif val%3==0 and val<0:\n",
    "    print(\"multiple of 3 and it is negative\")\n",
    "elif val>0:\n",
    "    print(\"not multiple of 3 and it is positve\")\n",
    "else:\n",
    "    print(\"not multiple of 3 and it is negative\")"
   ]
  },
  {
   "cell_type": "code",
   "execution_count": 50,
   "id": "64937c53-9917-407e-bb6b-38afe95f47a6",
   "metadata": {},
   "outputs": [
    {
     "name": "stdin",
     "output_type": "stream",
     "text": [
      "Enter the number 7.5\n"
     ]
    },
    {
     "name": "stdout",
     "output_type": "stream",
     "text": [
      "it is less than 50 and it is not a whole number\n"
     ]
    }
   ],
   "source": [
    "# Write a Python program that takes a floating-point number input from the user and \n",
    "# checks if the number is greater than 50.0 and whether it is a whole number \n",
    "# (i.e., it has no fractional part). Combine these checks in a single if structure \n",
    "# and print appropriate messages based on the conditions.\n",
    "\n",
    "val=float(input(\"Enter the number\"))\n",
    "\n",
    "if val>50.0 and val.is_integer():\n",
    "    print(\"it is greater than 50 and it is a whole number\")\n",
    "elif val>50.0:\n",
    "    print(\"it is greater than 50 and it is not a whole number\")\n",
    "elif val.is_integer():\n",
    "    print(\"it is less than 50 and it is a whole number\")\n",
    "else:\n",
    "    print(\"it is less than 50 and it is not a whole number\")\n"
   ]
  },
  {
   "cell_type": "code",
   "execution_count": 54,
   "id": "c2cdca26-f8c2-4ee5-9f4a-03e913aa9170",
   "metadata": {},
   "outputs": [
    {
     "name": "stdin",
     "output_type": "stream",
     "text": [
      "Enter the number =  25\n"
     ]
    },
    {
     "name": "stdout",
     "output_type": "stream",
     "text": [
      "not divisible\n"
     ]
    }
   ],
   "source": [
    "# Write a Python program that takes an integer input from the user and \n",
    "# checks if the number is divisible by both 5 and 7. Combine these \n",
    "# checks in a single if structure and print appropriate messages based on the conditions.\n",
    "\n",
    "div=int(input(\"Enter the number = \"))\n",
    "\n",
    "if div%5==0 and div%7==0:\n",
    "    print(\"it is divisible by both number\")\n",
    "else:\n",
    "    print(\"not divisible\")"
   ]
  },
  {
   "cell_type": "code",
   "execution_count": 57,
   "id": "a907b48b-8cb3-4d92-81be-cf99ad213f63",
   "metadata": {},
   "outputs": [
    {
     "name": "stdin",
     "output_type": "stream",
     "text": [
      "Enter the length of side a : 5\n",
      "Enter the length of side b : 8\n",
      "Enter the length of side c : 7\n"
     ]
    },
    {
     "name": "stdout",
     "output_type": "stream",
     "text": [
      " the lenght of 5,8 and 7 forms a perfect triangle\n"
     ]
    }
   ],
   "source": [
    "# Write a Python program that takes three integer inputs from the user and \n",
    "# checks if they form a valid triangle. Combine these checks in a single if structure \n",
    "#and print appropriate messages based on the conditions.\n",
    "\n",
    "a=int(input(\"Enter the length of side a :\"))\n",
    "b=int(input(\"Enter the length of side b :\"))\n",
    "c=int(input(\"Enter the length of side c :\"))\n",
    "\n",
    "if a+b>c and b+c>a and c+a>b:\n",
    "    print(\" the lenght of {},{} and {} forms a perfect triangle\".format(a,b,c))\n",
    "else:\n",
    "    print(\"not perfect\")"
   ]
  },
  {
   "cell_type": "code",
   "execution_count": 3,
   "id": "00570ddf-dbb2-469b-ad18-679a4035e0c9",
   "metadata": {},
   "outputs": [
    {
     "name": "stdin",
     "output_type": "stream",
     "text": [
      "Enter the year 2025\n"
     ]
    },
    {
     "name": "stdout",
     "output_type": "stream",
     "text": [
      "it is not a leap year\n"
     ]
    }
   ],
   "source": [
    "# Write a Python program that takes a year input from the user and\n",
    "# checks if it is a leap year. \n",
    "\n",
    "yr = int(input(\"Enter the year\"))\n",
    "\n",
    "if (yr%4==0 and yr%100!=0) or yr%100==0:\n",
    "    print(\"is it leap year\")\n",
    "else:\n",
    "    print(\"it is not a leap year\")"
   ]
  },
  {
   "cell_type": "code",
   "execution_count": 2,
   "id": "50ca88bb-1db4-41d7-a07c-16e3659aec31",
   "metadata": {},
   "outputs": [
    {
     "name": "stdin",
     "output_type": "stream",
     "text": [
      "Enter the age : 25\n"
     ]
    },
    {
     "name": "stdout",
     "output_type": "stream",
     "text": [
      "you are mid age\n"
     ]
    }
   ],
   "source": [
    "# another variety\n",
    "\n",
    "age=float(input(\"Enter the age :\"))\n",
    "if age<18:\n",
    "    print(\"you are minor\")\n",
    "elif age>=18 and age<=35:\n",
    "    print(\"you are mid age\")"
   ]
  },
  {
   "cell_type": "code",
   "execution_count": 6,
   "id": "e5cba89a-165e-4af8-a69a-367759b34fae",
   "metadata": {},
   "outputs": [
    {
     "name": "stdin",
     "output_type": "stream",
     "text": [
      "Enter the temperature (Cel):  18\n"
     ]
    },
    {
     "name": "stdout",
     "output_type": "stream",
     "text": [
      "the temperature is moderate\n"
     ]
    }
   ],
   "source": [
    "# Write a Python program that takes a temperature (in Celsius) as\n",
    "# input from the user and prints whether it is cold, moderate, or hot.\n",
    "\n",
    "temp = float(input(\"Enter the temperature (Cel): \"))\n",
    "\n",
    "if temp<=15:\n",
    "    print(\"temperature is cold\")\n",
    "elif temp>15 and temp<=25:\n",
    "    print(\"the temperature is moderate\")\n",
    "elif temp>25:\n",
    "    print(\"the temperature is hot\")"
   ]
  },
  {
   "cell_type": "code",
   "execution_count": 15,
   "id": "47dfdbf8-4e4f-4140-b59d-a076305a857a",
   "metadata": {},
   "outputs": [
    {
     "name": "stdin",
     "output_type": "stream",
     "text": [
      "Enter your score 45\n"
     ]
    },
    {
     "name": "stdout",
     "output_type": "stream",
     "text": [
      "score is 45.0, your grade is 'F' \n"
     ]
    }
   ],
   "source": [
    "#Write a Python program that takes a numerical grade (0-100) as input from the user \n",
    "#and prints the corresponding letter grade.\n",
    "\n",
    "#If the grade is 90 or above, print \"A\".\n",
    "#If the grade is 80 to 89, print \"B\".\n",
    "#If the grade is 70 to 79, print \"C\".\n",
    "#If the grade is 60 to 69, print \"D\".\n",
    "#If the grade is below 60, print \"F\".\n",
    "\n",
    "score = float(input(\"Enter your score\"))\n",
    "\n",
    "if score>=90:\n",
    "    print(\"score is {},your grade is 'A' \".format(score))\n",
    "elif score>=80 and score<=89:\n",
    "    print(\"score is {}, your grade is 'B' \".format(score))\n",
    "elif score>=70 and score<=79:\n",
    "    print(\"score is {}, your grade is 'C' \".format(score))\n",
    "elif score>=60 and score<=69:\n",
    "    print(\"score is {}, your grade is 'D' \".format(score))\n",
    "else:\n",
    "    print(\"score is {}, your grade is 'F' \".format(score))"
   ]
  },
  {
   "cell_type": "code",
   "execution_count": 21,
   "id": "98528b53-9232-4f14-8a95-1218cca018d9",
   "metadata": {},
   "outputs": [
    {
     "name": "stdin",
     "output_type": "stream",
     "text": [
      "Enter yuur weight:  75\n"
     ]
    },
    {
     "name": "stdout",
     "output_type": "stream",
     "text": [
      "this is the normal weight\n"
     ]
    }
   ],
   "source": [
    "# Write a Python program that takes a person's weight (in kilograms) as input \n",
    "# from the user and prints the weight category.\n",
    "\n",
    "#If the weight is less than 50 kg, print \"Underweight\".\n",
    "#If the weight is between 50 kg and 80 kg (inclusive), print \"Normal weight\".\n",
    "#If the weight is more than 80 kg, print \"Overweight\".\n",
    "\n",
    "wigh = float(input(\"Enter yuur weight: \"))\n",
    "\n",
    "if wigh<=50:\n",
    "    print(\"you are under weight\")\n",
    "elif wigh>50 and wigh<=80:\n",
    "    print(\"this is the normal weight\")\n",
    "else:\n",
    "    print(\"you are overweight\")"
   ]
  },
  {
   "cell_type": "code",
   "execution_count": 22,
   "id": "123dfb1d-a64c-4a98-8c07-b53a3a023909",
   "metadata": {},
   "outputs": [
    {
     "name": "stdout",
     "output_type": "stream",
     "text": [
      "1\n",
      "4\n",
      "9\n",
      "16\n",
      "25\n",
      "36\n"
     ]
    }
   ],
   "source": [
    "# for loop statement\n",
    "\n",
    "lst=[1,2,3,4,5,6]\n",
    "for i in lst:\n",
    "    print(i**2)"
   ]
  },
  {
   "cell_type": "code",
   "execution_count": 23,
   "id": "fe23160c-df28-4e21-a128-4ecf55587067",
   "metadata": {},
   "outputs": [
    {
     "name": "stdout",
     "output_type": "stream",
     "text": [
      "21\n"
     ]
    }
   ],
   "source": [
    "# find the sum of all element\n",
    "\n",
    "lst=[1,2,3,4,5,6]\n",
    "sum1=0\n",
    "for i in lst:\n",
    "    sum1=sum1+i\n",
    "print(sum1)"
   ]
  },
  {
   "cell_type": "code",
   "execution_count": 26,
   "id": "66654071-2d8e-409e-92c9-cc682c69e247",
   "metadata": {},
   "outputs": [
    {
     "name": "stdout",
     "output_type": "stream",
     "text": [
      "Even sum is 12\n",
      "Odd sum is 9\n"
     ]
    }
   ],
   "source": [
    "# find the sum of even and odd number\n",
    "\n",
    "lst = [1,2,3,4,5,6]\n",
    "even_num=0\n",
    "odd_num=0\n",
    "\n",
    "for i in lst:\n",
    "    if i%2==0:\n",
    "        even_num=even_num+i\n",
    "    else:\n",
    "        odd_num=odd_num+i\n",
    "print(\"Even sum is {}\".format(even_num))\n",
    "print(\"Odd sum is {}\".format(odd_num))"
   ]
  },
  {
   "cell_type": "code",
   "execution_count": 3,
   "id": "9eef5bb9-4393-4b8e-8f87-1875791c338e",
   "metadata": {},
   "outputs": [
    {
     "name": "stdout",
     "output_type": "stream",
     "text": [
      "the sum of positive num. is 64\n",
      "the sum of negative num. is -68\n"
     ]
    }
   ],
   "source": [
    "# Write a Python program that takes a list of integers as input and \n",
    "# calculates the sum of positive numbers and the sum of negative numbers in the list.\n",
    "#The program should then print both sums.\n",
    "\n",
    "lst=[5,6,4,8,9,-15,-10,-3,-2,8,9,6,9,-2,-36]\n",
    "\n",
    "posi_num = 0\n",
    "nega_num = 0\n",
    "\n",
    "for i in lst:\n",
    "    if i>0:\n",
    "        posi_num += i\n",
    "    elif i<0:\n",
    "        nega_num += i\n",
    "\n",
    "print(\"the sum of positive num. is {}\".format(posi_num))\n",
    "print(\"the sum of negative num. is {}\".format(nega_num))"
   ]
  },
  {
   "cell_type": "code",
   "execution_count": 4,
   "id": "5b10bf9d-8b54-4168-80fc-506c9acdf88a",
   "metadata": {},
   "outputs": [
    {
     "name": "stdout",
     "output_type": "stream",
     "text": [
      "the sum of multiple of 3 is 18\n",
      "the sum of non multiple of 3 is 27\n"
     ]
    }
   ],
   "source": [
    "# Write a Python program that takes a list of integers as input and calculates \n",
    "# the sum of multiples of 3 and the sum of non-multiples of 3 in the list. The program \n",
    "# should then print both sums.\n",
    "\n",
    "lst= [1,4,7,8,5,2,3,6,9]\n",
    "mul=0\n",
    "non_mul=0\n",
    "\n",
    "for i in lst:\n",
    "    if i%3==0:\n",
    "        mul += i\n",
    "    else:\n",
    "        non_mul += i\n",
    "print(\"the sum of multiple of 3 is {}\".format(mul))\n",
    "print(\"the sum of non multiple of 3 is {}\".format(non_mul))"
   ]
  },
  {
   "cell_type": "code",
   "execution_count": 15,
   "id": "6ded5a80-d960-4ffa-9a66-cc32a001debc",
   "metadata": {},
   "outputs": [
    {
     "name": "stdin",
     "output_type": "stream",
     "text": [
      "Enter a list of integers separated by spaces:  7 8 9 5 6 9 8 8 5 5\n"
     ]
    },
    {
     "name": "stdout",
     "output_type": "stream",
     "text": [
      "the sum of positive even no. is 30\n",
      "the sum of positive odd no. is 40\n"
     ]
    }
   ],
   "source": [
    "# Write a Python program that takes a list of integers as input and calculates \n",
    "# the sum of positive even numbers and the sum of positive odd numbers in the list. \n",
    "# The program should then print both sums.\n",
    "\n",
    "user_input = input(\"Enter a list of integers separated by spaces: \")\n",
    "lst = list(map(int, user_input.split())) \n",
    "\n",
    "#map convert each string into list, \n",
    "#enter input separated by spaces\n",
    "\n",
    "posi_even_sum=0\n",
    "posi_odd_sum=0\n",
    "for i in lst:\n",
    "    if i>0:\n",
    "        if i%2==0:\n",
    "            posi_even_sum += i\n",
    "        else:\n",
    "            posi_odd_sum += i\n",
    "print(\"the sum of positive even no. is {}\".format(posi_even_sum))\n",
    "print(\"the sum of positive odd no. is {}\".format(posi_odd_sum))        "
   ]
  },
  {
   "cell_type": "code",
   "execution_count": 19,
   "id": "15fdc1e1-1f72-498e-8db5-f142d6724eb7",
   "metadata": {},
   "outputs": [
    {
     "name": "stdin",
     "output_type": "stream",
     "text": [
      "Enter the list of temperature separated by spaces:  32.5 28.5 32.3\n"
     ]
    },
    {
     "name": "stdout",
     "output_type": "stream",
     "text": [
      "temp. in celsius: [32.5, 28.5, 32.3]\n",
      "temp. in fahrenheit: [90.5, 83.30000000000001, 90.13999999999999]\n"
     ]
    }
   ],
   "source": [
    "# Suppose you have a list of temperatures in Celsius, and you want to convert \n",
    "# them to Fahrenheit. Use a for loop to perform the conversion and \n",
    "# store the results in a new list.\n",
    "\n",
    "# formula :  fahrenheit = 9/5 x celsius + 32\n",
    "\n",
    "cel_tem = input(\"Enter the list of temperature separated by spaces: \")\n",
    "lst= list(map(float, cel_tem.split()))\n",
    "\n",
    "fahren_tem = []\n",
    "for i in lst:\n",
    "    fahren = (9/5 * i) + 32\n",
    "    fahren_tem.append(fahren)\n",
    "\n",
    "print(\"temp. in celsius: {}\".format(lst))\n",
    "print(\"temp. in fahrenheit: {}\".format(fahren_tem))"
   ]
  },
  {
   "cell_type": "code",
   "execution_count": 25,
   "id": "cd6f81e0-3476-4ff1-af53-33f493f5efcf",
   "metadata": {},
   "outputs": [],
   "source": [
    "# Given a list of positive integers, calculate the factorial of each number and\n",
    "# store the results in a new list. Then print the original list and the list of factorials.\n",
    "# Factorial Formula it will not works for non integer (5.5 or -5)\n",
    "# n!=n×(n−1)×(n−2)×…×1\n",
    "\n",
    "import math"
   ]
  },
  {
   "cell_type": "code",
   "execution_count": 24,
   "id": "476ba519-3653-4f2a-92de-8f0d23d48048",
   "metadata": {},
   "outputs": [
    {
     "name": "stdin",
     "output_type": "stream",
     "text": [
      "Enter the numbers separated by spaces:  5 6 9 8\n"
     ]
    },
    {
     "name": "stdout",
     "output_type": "stream",
     "text": [
      "original numbers :  [5, 6, 9, 8]\n",
      "factorial numbers :  [120, 720, 362880, 40320]\n"
     ]
    }
   ],
   "source": [
    "number=input(\"Enter the numbers separated by spaces: \")\n",
    "lst= list(map(int, number.split()))\n",
    "\n",
    "factorials = [] # List to store the factorial of each number\n",
    "\n",
    "for i in lst:\n",
    "    fact = math.factorial(i)\n",
    "    factorials.append(fact)\n",
    "\n",
    "print(\"original numbers : \", lst)\n",
    "print(\"factorial numbers : \", factorials)"
   ]
  },
  {
   "cell_type": "code",
   "execution_count": 4,
   "id": "b1c7e39c-cc39-48bd-ae3a-3a2a7035179c",
   "metadata": {},
   "outputs": [
    {
     "name": "stdin",
     "output_type": "stream",
     "text": [
      "Enter the number :  1 2 3 4 5\n"
     ]
    },
    {
     "name": "stdout",
     "output_type": "stream",
     "text": [
      "the list of original no. is [1, 2, 3, 4, 5]\n",
      "the list of sums of squares is [1, 4, 9, 16, 25]\n"
     ]
    }
   ],
   "source": [
    "# Given a list of numbers, calculate the sum of squares of each number in the list and\n",
    "# store the results in a new list. Then print the original list and the list of sums of squares.\n",
    "num = input(\"Enter the number : \")\n",
    "lst=list(map(int,num.split()))\n",
    "\n",
    "sq_num= []\n",
    "\n",
    "for i in lst:\n",
    "    square=i**2\n",
    "    sq_num.append(square)\n",
    "\n",
    "print(\"the list of original no. is {}\".format(lst))\n",
    "print(\"the list of sums of squares is {}\".format(sq_num))"
   ]
  },
  {
   "cell_type": "code",
   "execution_count": 6,
   "id": "8b3cc46c-de75-4445-978b-f45dc409afde",
   "metadata": {},
   "outputs": [
    {
     "name": "stdout",
     "output_type": "stream",
     "text": [
      "0\n",
      "1\n",
      "2\n",
      "3\n",
      "4\n",
      "5\n",
      "6\n",
      "7\n",
      "8\n",
      "9\n",
      "10\n"
     ]
    }
   ],
   "source": [
    "## While Loop\n",
    "\n",
    "i = 0\n",
    "while (i<=10):\n",
    "    print(i)\n",
    "    i=i+1"
   ]
  },
  {
   "cell_type": "code",
   "execution_count": 7,
   "id": "e079ef58-cc60-4c19-9105-d0486eff30e5",
   "metadata": {},
   "outputs": [
    {
     "name": "stdout",
     "output_type": "stream",
     "text": [
      "0\n",
      "1\n",
      "2\n",
      "3\n",
      "4\n",
      "5\n",
      "6\n",
      "7\n",
      "8\n",
      "9\n",
      "10\n",
      "Even sum :  30\n",
      "Odd sum :  25\n"
     ]
    }
   ],
   "source": [
    "# Another example\n",
    "\n",
    "i=0\n",
    "even_sum=0\n",
    "odd_sum=0\n",
    "\n",
    "while i<=10:\n",
    "    if i%2==0:\n",
    "        even_sum=even_sum+i\n",
    "    else:\n",
    "        odd_sum=odd_sum+i\n",
    "    print(i)\n",
    "    i=i+1\n",
    "print(\"Even sum : \", even_sum)\n",
    "print(\"Odd sum : \", odd_sum)"
   ]
  },
  {
   "cell_type": "code",
   "execution_count": 17,
   "id": "49f6f9e5-d9d5-49fd-9cb9-95cc9c58f177",
   "metadata": {},
   "outputs": [
    {
     "name": "stdout",
     "output_type": "stream",
     "text": [
      "sum of mul_3 :  63\n",
      "sum of mul_5 :  50\n"
     ]
    }
   ],
   "source": [
    "# Given the range of numbers from 1 to 20, calculate the sum of all multiples of 3 and\n",
    "# the sum of all multiples of 5. Print the original numbers, the sum of multiples of 3, and \n",
    "# the sum of multiples of 5.\n",
    "\n",
    "i = 0\n",
    "mul_3 = 0\n",
    "mul_5 = 0\n",
    "\n",
    "while i<=20:\n",
    "    if i%3==0:\n",
    "        mul_3 += i\n",
    "    if i%5==0:\n",
    "        mul_5 += i\n",
    "    i += 1\n",
    "print(\"sum of mul_3 : \", mul_3)\n",
    "print(\"sum of mul_5 : \", mul_5)"
   ]
  },
  {
   "cell_type": "code",
   "execution_count": 25,
   "id": "5a26fae0-e2da-4524-b9eb-c5088dd6f7e6",
   "metadata": {},
   "outputs": [
    {
     "name": "stdout",
     "output_type": "stream",
     "text": [
      "the sum of prime no. :  129\n",
      "the sum of non prime no. : 336\n"
     ]
    }
   ],
   "source": [
    "# Given the range of numbers from 1 to 30, calculate the sum of all prime numbers and\n",
    "# the sum of all non-prime numbers. Print the original numbers, the sum of prime numbers, and\n",
    "# the sum of non-prime numbers.\n",
    "\n",
    "import sympy #this is just math library..use this to avoid prime calculation - use ( isprime() )\n",
    "\n",
    "i=0\n",
    "sum_prime=0\n",
    "sum_non_prime=0\n",
    "\n",
    "while i<=30:\n",
    "    if sympy.isprime(i):\n",
    "        sum_prime=sum_prime+i\n",
    "    else:\n",
    "        sum_non_prime=sum_non_prime+i\n",
    "    i += 1\n",
    "\n",
    "print(\"the sum of prime no. : \", sum_prime)\n",
    "print(\"the sum of non prime no. :\", sum_non_prime)"
   ]
  },
  {
   "cell_type": "code",
   "execution_count": 26,
   "id": "6c8faef7-97d0-4057-898d-08652b0b56b0",
   "metadata": {},
   "outputs": [
    {
     "name": "stdout",
     "output_type": "stream",
     "text": [
      "sum of mul_4 :  312\n",
      "sum of mul_7 :  196\n"
     ]
    }
   ],
   "source": [
    "# Given the range of numbers from 1 to 50, calculate the sum of all multiples of 4 and \n",
    "#the sum of all multiples of 7. Print the original numbers, the sum of multiples of 4, and \n",
    "#the sum of multiples of 7.\n",
    "\n",
    "i = 0\n",
    "mul_4 = 0\n",
    "mul_7 = 0\n",
    "\n",
    "while i<=50:\n",
    "    if i%4==0:\n",
    "        mul_4 += i\n",
    "    if i%7==0:\n",
    "        mul_7 += i\n",
    "    i += 1\n",
    "\n",
    "print(\"sum of mul_4 : \", mul_4)\n",
    "print(\"sum of mul_7 : \", mul_7)"
   ]
  },
  {
   "cell_type": "code",
   "execution_count": 28,
   "id": "08671adb-bd39-4345-907a-e59690252417",
   "metadata": {},
   "outputs": [
    {
     "name": "stdout",
     "output_type": "stream",
     "text": [
      "sum of mul_4 :  112\n",
      "sum of mul_7 :  70\n"
     ]
    }
   ],
   "source": [
    "#break Statement\n",
    "\n",
    "i = 0\n",
    "mul_4 = 0\n",
    "mul_7 = 0\n",
    "\n",
    "while i<=50:\n",
    "    if i%4==0:\n",
    "        mul_4 += i\n",
    "    if i%7==0:\n",
    "        mul_7 += i\n",
    "    if i==30:\n",
    "        break # instead of 50 it will stop counting after it reaches 30\n",
    "    i += 1\n",
    "\n",
    "print(\"sum of mul_4 : \", mul_4)\n",
    "print(\"sum of mul_7 : \", mul_7)"
   ]
  },
  {
   "cell_type": "code",
   "execution_count": 1,
   "id": "6d989811-955a-4724-a352-e14f7dc53e60",
   "metadata": {},
   "outputs": [
    {
     "name": "stdout",
     "output_type": "stream",
     "text": [
      "2\n",
      "3\n",
      "4\n",
      "6\n",
      "7\n"
     ]
    }
   ],
   "source": [
    "x=1\n",
    "while x<7:\n",
    "    x=x+1\n",
    "    if x==5:\n",
    "        continue\n",
    "    print(x)"
   ]
  }
 ],
 "metadata": {
  "kernelspec": {
   "display_name": "Python 3 (ipykernel)",
   "language": "python",
   "name": "python3"
  },
  "language_info": {
   "codemirror_mode": {
    "name": "ipython",
    "version": 3
   },
   "file_extension": ".py",
   "mimetype": "text/x-python",
   "name": "python",
   "nbconvert_exporter": "python",
   "pygments_lexer": "ipython3",
   "version": "3.12.4"
  }
 },
 "nbformat": 4,
 "nbformat_minor": 5
}
