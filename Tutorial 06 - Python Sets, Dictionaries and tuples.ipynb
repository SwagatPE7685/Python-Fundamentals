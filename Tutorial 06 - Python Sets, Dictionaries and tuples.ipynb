{
 "cells": [
  {
   "cell_type": "markdown",
   "id": "d63c45ca-54c8-4b89-8f1e-63bb49deb5f8",
   "metadata": {},
   "source": [
    "# Tutorial 06 - Python Sets, Dictionaries and tuples"
   ]
  },
  {
   "cell_type": "code",
   "execution_count": 4,
   "id": "834ada9a-5e9d-4b63-b58a-313deb15880e",
   "metadata": {},
   "outputs": [
    {
     "data": {
      "text/plain": [
       "dict"
      ]
     },
     "execution_count": 4,
     "metadata": {},
     "output_type": "execute_result"
    }
   ],
   "source": [
    "# sets {}\n",
    "# unordered collection\n",
    "# iterables\n",
    "# mutable\n",
    "# no duplicate elements\n",
    "\n",
    "type({})"
   ]
  },
  {
   "cell_type": "code",
   "execution_count": 2,
   "id": "17e6b1f5-dea8-4df5-9944-2dc1d6f0b533",
   "metadata": {},
   "outputs": [
    {
     "data": {
      "text/plain": [
       "set"
      ]
     },
     "execution_count": 2,
     "metadata": {},
     "output_type": "execute_result"
    }
   ],
   "source": [
    "type({1})"
   ]
  },
  {
   "cell_type": "code",
   "execution_count": 3,
   "id": "be797108-d377-475a-9365-c12cf140a2bb",
   "metadata": {},
   "outputs": [
    {
     "name": "stdout",
     "output_type": "stream",
     "text": [
      "{1, 2, 3, 4, 5}\n"
     ]
    }
   ],
   "source": [
    "print(set([1,2,3,4,5,5]))"
   ]
  },
  {
   "cell_type": "code",
   "execution_count": 5,
   "id": "441b7f6c-bb3f-4f6c-a6b9-43f53487b542",
   "metadata": {},
   "outputs": [
    {
     "name": "stdout",
     "output_type": "stream",
     "text": [
      "set()\n",
      "<class 'set'>\n"
     ]
    }
   ],
   "source": [
    "## defining an empty set\n",
    "\n",
    "set_var = set()\n",
    "print(set_var)\n",
    "print(type(set_var))"
   ]
  },
  {
   "cell_type": "code",
   "execution_count": 6,
   "id": "95a8f352-9d2b-4717-808e-75fe4e2b5499",
   "metadata": {},
   "outputs": [],
   "source": [
    "set01 = {1,2,2,3,5,4,5,5}"
   ]
  },
  {
   "cell_type": "code",
   "execution_count": 7,
   "id": "e46ef699-1d5f-4baf-aa62-8941c25aeae9",
   "metadata": {},
   "outputs": [
    {
     "data": {
      "text/plain": [
       "{1, 2, 3, 4, 5}"
      ]
     },
     "execution_count": 7,
     "metadata": {},
     "output_type": "execute_result"
    }
   ],
   "source": [
    "set01"
   ]
  },
  {
   "cell_type": "code",
   "execution_count": 20,
   "id": "ad326e96-7b59-45de-8fe4-31e6bfc42b2f",
   "metadata": {},
   "outputs": [
    {
     "name": "stdout",
     "output_type": "stream",
     "text": [
      "{'class', 'pradhan', 'swagat'}\n",
      "<class 'set'>\n"
     ]
    }
   ],
   "source": [
    "set02 = {\"swagat\",\"pradhan\",\"class\"}\n",
    "print(set02)\n",
    "print(type(set02))"
   ]
  },
  {
   "cell_type": "code",
   "execution_count": 21,
   "id": "1bc7303d-5ed6-4f0d-bd3c-ff0e941030a1",
   "metadata": {},
   "outputs": [
    {
     "data": {
      "text/plain": [
       "{'class', 'pradhan', 'swagat'}"
      ]
     },
     "execution_count": 21,
     "metadata": {},
     "output_type": "execute_result"
    }
   ],
   "source": [
    "set02"
   ]
  },
  {
   "cell_type": "code",
   "execution_count": 25,
   "id": "3337f296-0aae-48ff-8f98-ac62d4e8978b",
   "metadata": {},
   "outputs": [
    {
     "ename": "TypeError",
     "evalue": "'set' object is not subscriptable",
     "output_type": "error",
     "traceback": [
      "\u001b[1;31m---------------------------------------------------------------------------\u001b[0m",
      "\u001b[1;31mTypeError\u001b[0m                                 Traceback (most recent call last)",
      "Cell \u001b[1;32mIn[25], line 4\u001b[0m\n\u001b[0;32m      1\u001b[0m \u001b[38;5;66;03m# list is subscriptable\u001b[39;00m\n\u001b[0;32m      2\u001b[0m \u001b[38;5;66;03m# set is not subsriptable\u001b[39;00m\n\u001b[1;32m----> 4\u001b[0m set02[\u001b[38;5;241m0\u001b[39m]\n",
      "\u001b[1;31mTypeError\u001b[0m: 'set' object is not subscriptable"
     ]
    }
   ],
   "source": [
    "# list is subscriptable\n",
    "# set is not subsriptable\n",
    "\n",
    "set02[0]"
   ]
  },
  {
   "cell_type": "markdown",
   "id": "9b498bb2-bd19-46fe-b918-0c287ff2e675",
   "metadata": {},
   "source": [
    "### sets- inbuilt function"
   ]
  },
  {
   "cell_type": "code",
   "execution_count": 26,
   "id": "1a2ae032-15e4-4804-8674-7d65b86f6204",
   "metadata": {},
   "outputs": [],
   "source": [
    "set02.add(\"section\")"
   ]
  },
  {
   "cell_type": "code",
   "execution_count": 27,
   "id": "4aad5dcc-f233-44f2-8edf-94f8097a1851",
   "metadata": {},
   "outputs": [
    {
     "data": {
      "text/plain": [
       "{'class', 'pradhan', 'section', 'swagat'}"
      ]
     },
     "execution_count": 27,
     "metadata": {},
     "output_type": "execute_result"
    }
   ],
   "source": [
    "set02"
   ]
  },
  {
   "cell_type": "code",
   "execution_count": 28,
   "id": "bf5816f6-c68c-4889-8887-bf82a1c538ea",
   "metadata": {},
   "outputs": [],
   "source": [
    "set02.add(\"absent\")"
   ]
  },
  {
   "cell_type": "code",
   "execution_count": 30,
   "id": "9e0ac0fd-e2e1-457b-85e7-69fd8d55adce",
   "metadata": {},
   "outputs": [
    {
     "data": {
      "text/plain": [
       "{'absent', 'class', 'pradhan', 'section', 'swagat'}"
      ]
     },
     "execution_count": 30,
     "metadata": {},
     "output_type": "execute_result"
    }
   ],
   "source": [
    "# here we can see it will change it into ordered collection\n",
    "set02"
   ]
  },
  {
   "cell_type": "code",
   "execution_count": 33,
   "id": "3e9bd0ad-b5be-4e2b-9e83-5c65e8a1ff5e",
   "metadata": {},
   "outputs": [
    {
     "name": "stdout",
     "output_type": "stream",
     "text": [
      "{2, 4, 5, 6, 8}\n"
     ]
    }
   ],
   "source": [
    "set_1=set([5,2,8,4,5,6])\n",
    "print(set_1)"
   ]
  },
  {
   "cell_type": "code",
   "execution_count": 34,
   "id": "3ad18278-ff33-4ffd-a7d8-81ab2509b1aa",
   "metadata": {},
   "outputs": [],
   "source": [
    "set_1.add(0)"
   ]
  },
  {
   "cell_type": "code",
   "execution_count": 35,
   "id": "94c7e2cd-45d9-46c6-9d10-4d000d541b6b",
   "metadata": {},
   "outputs": [
    {
     "data": {
      "text/plain": [
       "{0, 2, 4, 5, 6, 8}"
      ]
     },
     "execution_count": 35,
     "metadata": {},
     "output_type": "execute_result"
    }
   ],
   "source": [
    "set_1"
   ]
  },
  {
   "cell_type": "code",
   "execution_count": 44,
   "id": "228922c3-b589-4995-8da4-20a4f22d970d",
   "metadata": {},
   "outputs": [],
   "source": [
    "#Another function - intersection & update\n",
    "\n",
    "set1 = {\"avenger\",\"iroman\",\"hitman\"}\n",
    "set2 = {\"avenger\",\"iroman\",\"hitman\",\"hulk\"}"
   ]
  },
  {
   "cell_type": "code",
   "execution_count": 45,
   "id": "16df6a90-3f58-4420-8692-1009addf91cc",
   "metadata": {},
   "outputs": [],
   "source": [
    "set1.intersection_update(set2)"
   ]
  },
  {
   "cell_type": "code",
   "execution_count": 46,
   "id": "4ead5d0e-2568-46e3-b902-49bba646542d",
   "metadata": {},
   "outputs": [
    {
     "data": {
      "text/plain": [
       "{'avenger', 'hitman', 'iroman'}"
      ]
     },
     "execution_count": 46,
     "metadata": {},
     "output_type": "execute_result"
    }
   ],
   "source": [
    "set1"
   ]
  },
  {
   "cell_type": "code",
   "execution_count": 47,
   "id": "71cbebca-6632-45c3-b748-02891ba27eae",
   "metadata": {},
   "outputs": [],
   "source": [
    "set2.intersection_update(set1)"
   ]
  },
  {
   "cell_type": "code",
   "execution_count": 48,
   "id": "26f0adc6-95b8-4482-8bc0-afd533fb4765",
   "metadata": {},
   "outputs": [
    {
     "data": {
      "text/plain": [
       "{'avenger', 'hitman', 'iroman'}"
      ]
     },
     "execution_count": 48,
     "metadata": {},
     "output_type": "execute_result"
    }
   ],
   "source": [
    "set2"
   ]
  },
  {
   "cell_type": "code",
   "execution_count": 49,
   "id": "44cac073-4c9a-4ecf-ab18-74c6d1cdc6fc",
   "metadata": {},
   "outputs": [],
   "source": [
    "# difference function\n",
    "\n",
    "set1 = {\"avenger\",\"iroman\",\"hitman\"}\n",
    "set2 = {\"avenger\",\"iroman\",\"hitman\",\"hulk\"}"
   ]
  },
  {
   "cell_type": "code",
   "execution_count": 50,
   "id": "90b291c3-41d9-4207-aac9-13281a743354",
   "metadata": {},
   "outputs": [
    {
     "data": {
      "text/plain": [
       "{'hulk'}"
      ]
     },
     "execution_count": 50,
     "metadata": {},
     "output_type": "execute_result"
    }
   ],
   "source": [
    "set2.difference(set1)"
   ]
  },
  {
   "cell_type": "code",
   "execution_count": 51,
   "id": "a367ef62-0eaa-4120-a14e-69e052d9c1ac",
   "metadata": {},
   "outputs": [
    {
     "data": {
      "text/plain": [
       "set()"
      ]
     },
     "execution_count": 51,
     "metadata": {},
     "output_type": "execute_result"
    }
   ],
   "source": [
    "set1.difference(set2)"
   ]
  },
  {
   "cell_type": "code",
   "execution_count": 54,
   "id": "10a03f32-a7dc-499e-8e56-4dfd0d6dfd32",
   "metadata": {},
   "outputs": [],
   "source": [
    "# difference _ update function\n",
    "# only print difference\n",
    "\n",
    "set2.difference_update(set1)"
   ]
  },
  {
   "cell_type": "code",
   "execution_count": 55,
   "id": "ca7f0a06-2095-4f66-87bf-1e22e3233c46",
   "metadata": {},
   "outputs": [
    {
     "data": {
      "text/plain": [
       "{'hulk'}"
      ]
     },
     "execution_count": 55,
     "metadata": {},
     "output_type": "execute_result"
    }
   ],
   "source": [
    "set2"
   ]
  },
  {
   "cell_type": "code",
   "execution_count": 57,
   "id": "c8fa51f9-3739-458a-b072-248f080e329c",
   "metadata": {},
   "outputs": [],
   "source": [
    "# superset\n",
    "\n",
    "set1 = {\"avenger\",\"iroman\",\"hitman\"}\n",
    "set2 = {\"avenger\",\"iroman\",\"hitman\",\"hulk\"}\n"
   ]
  },
  {
   "cell_type": "code",
   "execution_count": 58,
   "id": "69fc8eec-96bf-44be-b8e4-b6673c785f3f",
   "metadata": {},
   "outputs": [
    {
     "data": {
      "text/plain": [
       "True"
      ]
     },
     "execution_count": 58,
     "metadata": {},
     "output_type": "execute_result"
    }
   ],
   "source": [
    "set2.issuperset(set1)"
   ]
  },
  {
   "cell_type": "code",
   "execution_count": 59,
   "id": "425885c9-2c16-436d-b2aa-e3be2fe1933f",
   "metadata": {},
   "outputs": [
    {
     "data": {
      "text/plain": [
       "False"
      ]
     },
     "execution_count": 59,
     "metadata": {},
     "output_type": "execute_result"
    }
   ],
   "source": [
    "set1.issuperset(set2)"
   ]
  },
  {
   "cell_type": "code",
   "execution_count": 60,
   "id": "af2e4717-f059-4055-aaa1-7491332ed8b2",
   "metadata": {},
   "outputs": [
    {
     "data": {
      "text/plain": [
       "False"
      ]
     },
     "execution_count": 60,
     "metadata": {},
     "output_type": "execute_result"
    }
   ],
   "source": [
    "# subset functions\n",
    "\n",
    "set2.issubset(set1)"
   ]
  },
  {
   "cell_type": "code",
   "execution_count": 61,
   "id": "441859c7-ebfb-4ab5-bc80-684ded67a61c",
   "metadata": {},
   "outputs": [
    {
     "data": {
      "text/plain": [
       "True"
      ]
     },
     "execution_count": 61,
     "metadata": {},
     "output_type": "execute_result"
    }
   ],
   "source": [
    "set1.issubset(set2)"
   ]
  },
  {
   "cell_type": "markdown",
   "id": "6e475a1e-9040-44b7-91e0-c35197a21804",
   "metadata": {},
   "source": [
    "## Dictionaries\n",
    "\n",
    "#### unordered, changeble and indexed\n",
    "#### {} & have keys & values"
   ]
  },
  {
   "cell_type": "code",
   "execution_count": 62,
   "id": "46f35e70-bf66-46c6-92d8-5bbd261b61b4",
   "metadata": {},
   "outputs": [
    {
     "data": {
      "text/plain": [
       "dict"
      ]
     },
     "execution_count": 62,
     "metadata": {},
     "output_type": "execute_result"
    }
   ],
   "source": [
    "type({})"
   ]
  },
  {
   "cell_type": "code",
   "execution_count": 63,
   "id": "1fdf3882-810c-4486-ac89-d14b27dc46fc",
   "metadata": {},
   "outputs": [
    {
     "data": {
      "text/plain": [
       "dict"
      ]
     },
     "execution_count": 63,
     "metadata": {},
     "output_type": "execute_result"
    }
   ],
   "source": [
    "type({1:\"swagat\"})"
   ]
  },
  {
   "cell_type": "code",
   "execution_count": 65,
   "id": "1dc75a39-05aa-4d3d-85a1-eb3ec5a9dc9d",
   "metadata": {},
   "outputs": [
    {
     "data": {
      "text/plain": [
       "{'age': 25, 'name': 'swagat', 'Last_name': 'swagat'}"
      ]
     },
     "execution_count": 65,
     "metadata": {},
     "output_type": "execute_result"
    }
   ],
   "source": [
    "#keys never be in codes\n",
    "\n",
    "dict(age=25, name=\"swagat\", Last_name=\"swagat\")"
   ]
  },
  {
   "cell_type": "code",
   "execution_count": 66,
   "id": "1d07aba1-a915-4a09-b04a-dd7378ef9975",
   "metadata": {},
   "outputs": [],
   "source": [
    "my_dict={\"swagat\":\"pradhan\",\"class\":\"section\",\"car\":\"i20\"}"
   ]
  },
  {
   "cell_type": "code",
   "execution_count": 68,
   "id": "afe7f7dc-0059-4cac-ae6d-9f968ae00195",
   "metadata": {},
   "outputs": [
    {
     "data": {
      "text/plain": [
       "{'swagat': 'pradhan', 'class': 'section', 'car': 'i20'}"
      ]
     },
     "execution_count": 68,
     "metadata": {},
     "output_type": "execute_result"
    }
   ],
   "source": [
    "my_dict"
   ]
  },
  {
   "cell_type": "code",
   "execution_count": 75,
   "id": "6549551e-8524-49c0-8b20-b548df5f5ff6",
   "metadata": {},
   "outputs": [
    {
     "data": {
      "text/plain": [
       "'section'"
      ]
     },
     "execution_count": 75,
     "metadata": {},
     "output_type": "execute_result"
    }
   ],
   "source": [
    "# access the item values based on keys\n",
    "my_dict[\"class\"]"
   ]
  },
  {
   "cell_type": "code",
   "execution_count": 74,
   "id": "7ca34aae-00b4-41d5-aec0-2764faa042df",
   "metadata": {},
   "outputs": [
    {
     "data": {
      "text/plain": [
       "'i20'"
      ]
     },
     "execution_count": 74,
     "metadata": {},
     "output_type": "execute_result"
    }
   ],
   "source": [
    "my_dict[\"car\"]"
   ]
  },
  {
   "cell_type": "code",
   "execution_count": 77,
   "id": "1c5ecd26-ad3a-4a10-ad64-ca0d586fbb83",
   "metadata": {},
   "outputs": [
    {
     "data": {
      "text/plain": [
       "dict_items([('swagat', 'pradhan'), ('class', 'section'), ('car', 'i20')])"
      ]
     },
     "execution_count": 77,
     "metadata": {},
     "output_type": "execute_result"
    }
   ],
   "source": [
    "# inbuilt functions\n",
    "my_dict.items()"
   ]
  },
  {
   "cell_type": "code",
   "execution_count": 78,
   "id": "d8c3dcc6-30a5-419d-9aee-7cc761191788",
   "metadata": {},
   "outputs": [
    {
     "data": {
      "text/plain": [
       "dict_keys(['swagat', 'class', 'car'])"
      ]
     },
     "execution_count": 78,
     "metadata": {},
     "output_type": "execute_result"
    }
   ],
   "source": [
    "my_dict.keys()"
   ]
  },
  {
   "cell_type": "code",
   "execution_count": 80,
   "id": "6baf7bcf-8631-4dc2-b9c4-63b082e60e7f",
   "metadata": {},
   "outputs": [
    {
     "data": {
      "text/plain": [
       "dict_values(['pradhan', 'section', 'i20'])"
      ]
     },
     "execution_count": 80,
     "metadata": {},
     "output_type": "execute_result"
    }
   ],
   "source": [
    "my_dict.values()"
   ]
  },
  {
   "cell_type": "code",
   "execution_count": 85,
   "id": "19e8259b-34de-4a9d-9b1e-4e69b680e1a6",
   "metadata": {},
   "outputs": [
    {
     "name": "stdout",
     "output_type": "stream",
     "text": [
      "swagat\n",
      "class\n",
      "car\n"
     ]
    }
   ],
   "source": [
    "# we can also use in loop\n",
    "# only show keys here\n",
    "for i in my_dict:\n",
    "    print(i)"
   ]
  },
  {
   "cell_type": "code",
   "execution_count": 86,
   "id": "a6fa5320-2761-49bd-a187-5ac389cd931a",
   "metadata": {},
   "outputs": [
    {
     "name": "stdout",
     "output_type": "stream",
     "text": [
      "pradhan\n",
      "section\n",
      "i20\n"
     ]
    }
   ],
   "source": [
    "# here only values using loop\n",
    "\n",
    "for i in my_dict.values():\n",
    "    print(i)"
   ]
  },
  {
   "cell_type": "code",
   "execution_count": 87,
   "id": "f68604b1-b70e-40ae-bd38-bc9265274c47",
   "metadata": {},
   "outputs": [
    {
     "name": "stdout",
     "output_type": "stream",
     "text": [
      "('swagat', 'pradhan')\n",
      "('class', 'section')\n",
      "('car', 'i20')\n"
     ]
    }
   ],
   "source": [
    "# wants to see whole items\n",
    "for i in my_dict.items():\n",
    "    print(i)"
   ]
  },
  {
   "cell_type": "code",
   "execution_count": 88,
   "id": "80dde9d5-2671-41c9-9f74-d89c3fae4a95",
   "metadata": {},
   "outputs": [
    {
     "data": {
      "text/plain": [
       "{'swagat': 'pradhan', 'class': 'section', 'car': 'i20'}"
      ]
     },
     "execution_count": 88,
     "metadata": {},
     "output_type": "execute_result"
    }
   ],
   "source": [
    "my_dict"
   ]
  },
  {
   "cell_type": "code",
   "execution_count": 92,
   "id": "3199874d-0e24-435f-89e1-93bb283705fc",
   "metadata": {},
   "outputs": [],
   "source": [
    "# adding items\n",
    "\n",
    "my_dict[\"scooty\"]=\"activa\""
   ]
  },
  {
   "cell_type": "code",
   "execution_count": 93,
   "id": "679dae51-42e9-447d-894c-97ef6ae7e00f",
   "metadata": {},
   "outputs": [
    {
     "data": {
      "text/plain": [
       "{'swagat': 'pradhan', 'class': 'section', 'car': 'i20', 'scooty': 'activa'}"
      ]
     },
     "execution_count": 93,
     "metadata": {},
     "output_type": "execute_result"
    }
   ],
   "source": [
    "my_dict"
   ]
  },
  {
   "cell_type": "markdown",
   "id": "630c3b68-37b5-41a4-b6d2-565eacc19185",
   "metadata": {},
   "source": [
    "## Nested Dictionaries"
   ]
  },
  {
   "cell_type": "code",
   "execution_count": 94,
   "id": "9bcca0ff-7148-4793-aa9b-235b01cdd15e",
   "metadata": {},
   "outputs": [],
   "source": [
    "car_model1 = {\"i20\":1960}\n",
    "car_model2 = {\"i30\":1960}\n",
    "car_model3 = {\"i10\":1960}\n",
    "\n",
    "car_types = {\"car1\":car_model1, \"car2\":car_model2, \"car3\":car_model2}"
   ]
  },
  {
   "cell_type": "code",
   "execution_count": 95,
   "id": "62af994a-6069-43f4-9fd3-f7bf643d35df",
   "metadata": {},
   "outputs": [
    {
     "data": {
      "text/plain": [
       "{'car1': {'i20': 1960}, 'car2': {'i30': 1960}, 'car3': {'i30': 1960}}"
      ]
     },
     "execution_count": 95,
     "metadata": {},
     "output_type": "execute_result"
    }
   ],
   "source": [
    "car_types"
   ]
  },
  {
   "cell_type": "code",
   "execution_count": 100,
   "id": "6b755ce8-bc53-438f-a431-030c73032830",
   "metadata": {},
   "outputs": [
    {
     "data": {
      "text/plain": [
       "1960"
      ]
     },
     "execution_count": 100,
     "metadata": {},
     "output_type": "execute_result"
    }
   ],
   "source": [
    "car_types[\"car1\"][\"i20\"]"
   ]
  },
  {
   "cell_type": "code",
   "execution_count": 101,
   "id": "06552753-e686-46d2-808d-23fa12429209",
   "metadata": {},
   "outputs": [
    {
     "data": {
      "text/plain": [
       "1960"
      ]
     },
     "execution_count": 101,
     "metadata": {},
     "output_type": "execute_result"
    }
   ],
   "source": [
    "car_types[\"car2\"][\"i30\"]"
   ]
  },
  {
   "cell_type": "markdown",
   "id": "db9be940-afd0-4e91-ae08-f563a80b75a6",
   "metadata": {},
   "source": [
    "# Tuples ()"
   ]
  },
  {
   "cell_type": "code",
   "execution_count": 102,
   "id": "bb0f3676-7d6f-4e2d-91c9-a73cd4d1f155",
   "metadata": {},
   "outputs": [],
   "source": [
    "my_tuple = tuple()"
   ]
  },
  {
   "cell_type": "code",
   "execution_count": 103,
   "id": "5e925325-f8b1-4e0f-9a2f-dd98efafd36d",
   "metadata": {},
   "outputs": [
    {
     "data": {
      "text/plain": [
       "tuple"
      ]
     },
     "execution_count": 103,
     "metadata": {},
     "output_type": "execute_result"
    }
   ],
   "source": [
    "type(my_tuple)"
   ]
  },
  {
   "cell_type": "code",
   "execution_count": 104,
   "id": "e9239e93-64bb-4009-9ee2-2b7993ebf4c2",
   "metadata": {},
   "outputs": [],
   "source": [
    "my_tuple = (\"swagat\",\"pradhan\",\"class\")"
   ]
  },
  {
   "cell_type": "code",
   "execution_count": 114,
   "id": "44ab7c2e-7950-4565-b8da-49e364359251",
   "metadata": {},
   "outputs": [
    {
     "data": {
      "text/plain": [
       "('swagat', 'pradhan', 'class')"
      ]
     },
     "execution_count": 114,
     "metadata": {},
     "output_type": "execute_result"
    }
   ],
   "source": [
    "my_tuple"
   ]
  },
  {
   "cell_type": "code",
   "execution_count": 115,
   "id": "4bc63e48-ab59-4a14-aa01-d5a18906dfd1",
   "metadata": {},
   "outputs": [
    {
     "data": {
      "text/plain": [
       "1"
      ]
     },
     "execution_count": 115,
     "metadata": {},
     "output_type": "execute_result"
    }
   ],
   "source": [
    "my_tuple.count(\"pradhan\")"
   ]
  },
  {
   "cell_type": "code",
   "execution_count": 116,
   "id": "260c7488-282b-47cb-9f09-ca7fc77c4f1d",
   "metadata": {},
   "outputs": [
    {
     "data": {
      "text/plain": [
       "1"
      ]
     },
     "execution_count": 116,
     "metadata": {},
     "output_type": "execute_result"
    }
   ],
   "source": [
    "my_tuple.count(\"swagat\")"
   ]
  },
  {
   "cell_type": "code",
   "execution_count": 113,
   "id": "b1dc3dff-5296-43d0-aaf0-56a3a36b7168",
   "metadata": {},
   "outputs": [
    {
     "data": {
      "text/plain": [
       "'class'"
      ]
     },
     "execution_count": 113,
     "metadata": {},
     "output_type": "execute_result"
    }
   ],
   "source": [
    "my_tuple[2]"
   ]
  },
  {
   "cell_type": "code",
   "execution_count": 118,
   "id": "867bd0cb-757b-44be-b43c-e0487d9c23fb",
   "metadata": {},
   "outputs": [
    {
     "data": {
      "text/plain": [
       "2"
      ]
     },
     "execution_count": 118,
     "metadata": {},
     "output_type": "execute_result"
    }
   ],
   "source": [
    "my_tuple.index(\"class\")"
   ]
  },
  {
   "cell_type": "code",
   "execution_count": null,
   "id": "fc3dc8bc-0cd7-47ee-95a9-38d0bb442739",
   "metadata": {},
   "outputs": [],
   "source": []
  }
 ],
 "metadata": {
  "kernelspec": {
   "display_name": "Python 3 (ipykernel)",
   "language": "python",
   "name": "python3"
  },
  "language_info": {
   "codemirror_mode": {
    "name": "ipython",
    "version": 3
   },
   "file_extension": ".py",
   "mimetype": "text/x-python",
   "name": "python",
   "nbconvert_exporter": "python",
   "pygments_lexer": "ipython3",
   "version": "3.12.4"
  }
 },
 "nbformat": 4,
 "nbformat_minor": 5
}
