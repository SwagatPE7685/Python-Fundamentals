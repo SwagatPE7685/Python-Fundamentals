{
 "cells": [
  {
   "cell_type": "markdown",
   "id": "c5998f71-849e-49df-a571-cb69d18fdd78",
   "metadata": {},
   "source": [
    "# Tutorial 4 - Python Operators"
   ]
  },
  {
   "cell_type": "markdown",
   "id": "4ba9030a-ecd6-4159-978e-cf06db35c47d",
   "metadata": {},
   "source": [
    "### Logical Operators"
   ]
  },
  {
   "cell_type": "code",
   "execution_count": 32,
   "id": "1b803173-4557-47a5-a2cb-d4d30d932ec6",
   "metadata": {},
   "outputs": [],
   "source": [
    "a=True\n",
    "b=False"
   ]
  },
  {
   "cell_type": "code",
   "execution_count": 2,
   "id": "a445cbeb-dd5f-448f-ab24-f1e471efd7ad",
   "metadata": {},
   "outputs": [
    {
     "data": {
      "text/plain": [
       "False"
      ]
     },
     "execution_count": 2,
     "metadata": {},
     "output_type": "execute_result"
    }
   ],
   "source": [
    "True and False"
   ]
  },
  {
   "cell_type": "code",
   "execution_count": 3,
   "id": "a5048a80-65bb-4742-ad60-1010874f7115",
   "metadata": {},
   "outputs": [
    {
     "data": {
      "text/plain": [
       "True"
      ]
     },
     "execution_count": 3,
     "metadata": {},
     "output_type": "execute_result"
    }
   ],
   "source": [
    "True or False"
   ]
  },
  {
   "cell_type": "code",
   "execution_count": 6,
   "id": "0e3868f5-3fc1-4304-984e-48c723d5d697",
   "metadata": {},
   "outputs": [
    {
     "data": {
      "text/plain": [
       "False"
      ]
     },
     "execution_count": 6,
     "metadata": {},
     "output_type": "execute_result"
    }
   ],
   "source": [
    "## Unary negation \n",
    "## key word - not\n",
    "\n",
    "not True"
   ]
  },
  {
   "cell_type": "code",
   "execution_count": 7,
   "id": "19ac0737-7ae3-4f26-8bfb-c6907fddfde9",
   "metadata": {},
   "outputs": [
    {
     "data": {
      "text/plain": [
       "True"
      ]
     },
     "execution_count": 7,
     "metadata": {},
     "output_type": "execute_result"
    }
   ],
   "source": [
    "not False"
   ]
  },
  {
   "cell_type": "code",
   "execution_count": 8,
   "id": "7d90bac2-2a13-43d3-ab0f-63dfe561e1fe",
   "metadata": {},
   "outputs": [
    {
     "name": "stdin",
     "output_type": "stream",
     "text": [
      "Enter the age 26\n"
     ]
    },
    {
     "name": "stdout",
     "output_type": "stream",
     "text": [
      "mid age\n"
     ]
    }
   ],
   "source": [
    "# example\n",
    "\n",
    "age=int(input(\"Enter the age\"))\n",
    "if age>=18 and age<=35:\n",
    "    print(\"mid age\")"
   ]
  },
  {
   "cell_type": "code",
   "execution_count": 11,
   "id": "b0c23ff0-9639-4444-b34c-a68b85283b9d",
   "metadata": {},
   "outputs": [
    {
     "name": "stdin",
     "output_type": "stream",
     "text": [
      "Enter the age 37\n"
     ]
    },
    {
     "name": "stdout",
     "output_type": "stream",
     "text": [
      "successful Execution\n"
     ]
    }
   ],
   "source": [
    "# example\n",
    "\n",
    "age=int(input(\"Enter the age\"))\n",
    "if age<=18 or age>=35:\n",
    "    print(\"successful Execution\")"
   ]
  },
  {
   "cell_type": "markdown",
   "id": "8c839f65-0e8a-463a-a63c-1c39748b8c48",
   "metadata": {},
   "source": [
    "### Equality operators"
   ]
  },
  {
   "cell_type": "code",
   "execution_count": 31,
   "id": "886c225b-3d75-4dbc-9c53-8856f004179f",
   "metadata": {},
   "outputs": [
    {
     "data": {
      "text/plain": [
       "True"
      ]
     },
     "execution_count": 31,
     "metadata": {},
     "output_type": "execute_result"
    }
   ],
   "source": [
    "a=\"swagat\"\n",
    "b=\"swagat\"\n",
    "a==b"
   ]
  },
  {
   "cell_type": "code",
   "execution_count": 13,
   "id": "4a4ffe70-8af0-41fb-8e17-65036ee2b44a",
   "metadata": {},
   "outputs": [
    {
     "data": {
      "text/plain": [
       "False"
      ]
     },
     "execution_count": 13,
     "metadata": {},
     "output_type": "execute_result"
    }
   ],
   "source": [
    "a=\"swagat1\"\n",
    "b=\"swagat\"\n",
    "a==b"
   ]
  },
  {
   "cell_type": "code",
   "execution_count": 16,
   "id": "07a75b9c-cd76-41f1-9587-45b27aabaa58",
   "metadata": {},
   "outputs": [
    {
     "name": "stdin",
     "output_type": "stream",
     "text": [
      "Enter the age 18\n"
     ]
    },
    {
     "name": "stdout",
     "output_type": "stream",
     "text": [
      "you are eligible\n"
     ]
    }
   ],
   "source": [
    "age=int(input(\"Enter the age\"))\n",
    "if age==18:\n",
    "    print(\"you are eligible\")"
   ]
  },
  {
   "cell_type": "markdown",
   "id": "b7e29674-7ffa-49bd-b8db-f1809970ea39",
   "metadata": {},
   "source": [
    "### is operator"
   ]
  },
  {
   "cell_type": "code",
   "execution_count": 30,
   "id": "91b05996-8547-4fb2-8375-2dd87c8a1f56",
   "metadata": {},
   "outputs": [
    {
     "data": {
      "text/plain": [
       "1743849926944"
      ]
     },
     "execution_count": 30,
     "metadata": {},
     "output_type": "execute_result"
    }
   ],
   "source": [
    "a=\"Swagat\"\n",
    "id(a)"
   ]
  },
  {
   "cell_type": "code",
   "execution_count": 22,
   "id": "dfd7ee33-eff7-4da1-b0e2-ad7ccfd7f5c2",
   "metadata": {},
   "outputs": [
    {
     "name": "stdout",
     "output_type": "stream",
     "text": [
      "1743849926944\n",
      "1743849926944\n"
     ]
    }
   ],
   "source": [
    "a=\"Swagat\"\n",
    "b=\"Swagat\"\n",
    "print(id(a))\n",
    "print(id(b))"
   ]
  },
  {
   "cell_type": "code",
   "execution_count": 23,
   "id": "1a2883f4-46e6-4575-8177-7112b1134fb8",
   "metadata": {},
   "outputs": [
    {
     "data": {
      "text/plain": [
       "True"
      ]
     },
     "execution_count": 23,
     "metadata": {},
     "output_type": "execute_result"
    }
   ],
   "source": [
    "a is b"
   ]
  },
  {
   "cell_type": "markdown",
   "id": "4b19000b-bff3-499e-966a-83b9c990647d",
   "metadata": {},
   "source": [
    "## interview question\n",
    "\n",
    "what is the meaning of is vs == ?\n",
    "\n",
    "'==' means checking the inside the value and\n",
    "'is' means checking the memory location, pointing to the same object"
   ]
  },
  {
   "cell_type": "code",
   "execution_count": 25,
   "id": "c4c838cb-9d52-449d-b39d-04e122c3ee90",
   "metadata": {},
   "outputs": [
    {
     "name": "stdout",
     "output_type": "stream",
     "text": [
      "1743850343488\n",
      "1743850583104\n"
     ]
    }
   ],
   "source": [
    "# another example\n",
    "\n",
    "lst = [\"1,2,3,6,4,5\"]\n",
    "lst1 = [\"1,2,3,6,4,5\"]\n",
    "\n",
    "print(id(lst))\n",
    "print(id(lst1))"
   ]
  },
  {
   "cell_type": "code",
   "execution_count": 26,
   "id": "69e4ab9c-6bb5-4ba2-a0aa-f465f506fb06",
   "metadata": {},
   "outputs": [
    {
     "data": {
      "text/plain": [
       "True"
      ]
     },
     "execution_count": 26,
     "metadata": {},
     "output_type": "execute_result"
    }
   ],
   "source": [
    "lst==lst1"
   ]
  },
  {
   "cell_type": "code",
   "execution_count": 27,
   "id": "17859824-9caa-449a-ac4f-435167344d9e",
   "metadata": {},
   "outputs": [
    {
     "data": {
      "text/plain": [
       "False"
      ]
     },
     "execution_count": 27,
     "metadata": {},
     "output_type": "execute_result"
    }
   ],
   "source": [
    "lst is lst1"
   ]
  },
  {
   "cell_type": "code",
   "execution_count": 28,
   "id": "de57d727-5753-401b-9ecc-25fd6c29ad20",
   "metadata": {},
   "outputs": [
    {
     "data": {
      "text/plain": [
       "True"
      ]
     },
     "execution_count": 28,
     "metadata": {},
     "output_type": "execute_result"
    }
   ],
   "source": [
    "lst is not lst1"
   ]
  },
  {
   "cell_type": "code",
   "execution_count": 29,
   "id": "4816113d-6672-4c6a-ae6e-968e04b91bae",
   "metadata": {},
   "outputs": [
    {
     "data": {
      "text/plain": [
       "True"
      ]
     },
     "execution_count": 29,
     "metadata": {},
     "output_type": "execute_result"
    }
   ],
   "source": [
    "\"swagat\" != \"swagat1\""
   ]
  },
  {
   "cell_type": "markdown",
   "id": "778cbefe-9c43-4d85-8444-48338bcb801e",
   "metadata": {},
   "source": [
    "### Comparison operators\n",
    "\n",
    "(< , > , <= , >=)"
   ]
  },
  {
   "cell_type": "code",
   "execution_count": 41,
   "id": "c78a649a-6941-4acd-9448-5b873b50cb3d",
   "metadata": {},
   "outputs": [
    {
     "name": "stdin",
     "output_type": "stream",
     "text": [
      "Enter the marks 55\n"
     ]
    },
    {
     "name": "stdout",
     "output_type": "stream",
     "text": [
      "Passed\n",
      "First Class\n"
     ]
    }
   ],
   "source": [
    "marks=float(input(\"Enter the marks\"))\n",
    "\n",
    "if marks>=35:\n",
    "    print(\"Passed\")\n",
    "    if marks>=50 and marks<=70:\n",
    "            print(\"First Class\")\n",
    "elif marks<35:\n",
    "    print(\"Fail\")"
   ]
  },
  {
   "cell_type": "markdown",
   "id": "b493a0c8-ff23-4085-9a10-d24482efdca9",
   "metadata": {},
   "source": [
    "### Arithmatic Operators\n",
    "\n",
    "(+ - / // %)"
   ]
  },
  {
   "cell_type": "code",
   "execution_count": 42,
   "id": "ff3fdc0f-81f0-4efb-a660-60edc517c7ff",
   "metadata": {},
   "outputs": [
    {
     "data": {
      "text/plain": [
       "50"
      ]
     },
     "execution_count": 42,
     "metadata": {},
     "output_type": "execute_result"
    }
   ],
   "source": [
    "48+2"
   ]
  },
  {
   "cell_type": "code",
   "execution_count": 43,
   "id": "288170ad-7299-40c8-8d1b-886558312a8d",
   "metadata": {},
   "outputs": [
    {
     "data": {
      "text/plain": [
       "41"
      ]
     },
     "execution_count": 43,
     "metadata": {},
     "output_type": "execute_result"
    }
   ],
   "source": [
    "50-9"
   ]
  },
  {
   "cell_type": "code",
   "execution_count": 44,
   "id": "b0be21c1-b59a-4b66-9fe9-96edb7a4fe6b",
   "metadata": {},
   "outputs": [
    {
     "data": {
      "text/plain": [
       "14.5"
      ]
     },
     "execution_count": 44,
     "metadata": {},
     "output_type": "execute_result"
    }
   ],
   "source": [
    "58/4"
   ]
  },
  {
   "cell_type": "code",
   "execution_count": 45,
   "id": "3bfd8408-9ba6-4083-8d15-95221ef458be",
   "metadata": {},
   "outputs": [
    {
     "data": {
      "text/plain": [
       "6.444444444444445"
      ]
     },
     "execution_count": 45,
     "metadata": {},
     "output_type": "execute_result"
    }
   ],
   "source": [
    "58/9"
   ]
  },
  {
   "cell_type": "code",
   "execution_count": 46,
   "id": "a2d3939e-0abc-4e8a-bf38-90bfba2136f1",
   "metadata": {},
   "outputs": [
    {
     "data": {
      "text/plain": [
       "4851"
      ]
     },
     "execution_count": 46,
     "metadata": {},
     "output_type": "execute_result"
    }
   ],
   "source": [
    "49*99"
   ]
  },
  {
   "cell_type": "code",
   "execution_count": 47,
   "id": "ee2965b6-b945-4932-91fd-8793364b67c0",
   "metadata": {},
   "outputs": [
    {
     "data": {
      "text/plain": [
       "6"
      ]
     },
     "execution_count": 47,
     "metadata": {},
     "output_type": "execute_result"
    }
   ],
   "source": [
    "58//9"
   ]
  },
  {
   "cell_type": "code",
   "execution_count": 48,
   "id": "d5921d25-8967-4a4e-877c-35131bdfc81a",
   "metadata": {},
   "outputs": [
    {
     "data": {
      "text/plain": [
       "4"
      ]
     },
     "execution_count": 48,
     "metadata": {},
     "output_type": "execute_result"
    }
   ],
   "source": [
    "58%9"
   ]
  },
  {
   "cell_type": "markdown",
   "id": "3a8f402d-7d4c-4408-9568-59217ee426ca",
   "metadata": {},
   "source": [
    "## Practice"
   ]
  },
  {
   "cell_type": "code",
   "execution_count": 55,
   "id": "cf20ac51-15fe-4f1b-8176-118fc516bc07",
   "metadata": {},
   "outputs": [
    {
     "name": "stdin",
     "output_type": "stream",
     "text": [
      "Enter the score 69\n"
     ]
    },
    {
     "name": "stdout",
     "output_type": "stream",
     "text": [
      "above average\n"
     ]
    }
   ],
   "source": [
    "## 01\n",
    "\n",
    "score=float(input(\"Enter the score\"))\n",
    "\n",
    "if score>=35 and score<=45:\n",
    "    print(\"passed but need to work hard\")\n",
    "elif score>=46 and score<=60:\n",
    "    print(\"scored average\")\n",
    "elif score>=61 and score<80:\n",
    "    print(\"above average\")\n",
    "elif score>=81:\n",
    "    print(\"Well Performed\")\n",
    "elif score<35:\n",
    "    print(\"you are failed, get 69\")\n"
   ]
  }
 ],
 "metadata": {
  "kernelspec": {
   "display_name": "Python 3 (ipykernel)",
   "language": "python",
   "name": "python3"
  },
  "language_info": {
   "codemirror_mode": {
    "name": "ipython",
    "version": 3
   },
   "file_extension": ".py",
   "mimetype": "text/x-python",
   "name": "python",
   "nbconvert_exporter": "python",
   "pygments_lexer": "ipython3",
   "version": "3.12.4"
  }
 },
 "nbformat": 4,
 "nbformat_minor": 5
}
