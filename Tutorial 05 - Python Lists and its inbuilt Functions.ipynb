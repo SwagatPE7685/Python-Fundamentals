{
 "cells": [
  {
   "cell_type": "markdown",
   "id": "f7390a10-2ae5-4917-a307-9232a083007f",
   "metadata": {},
   "source": [
    "# Tutorial 05 - Python Lists and its inbuilt Functions"
   ]
  },
  {
   "cell_type": "markdown",
   "id": "63e724f4-9598-4be3-921d-d7e4884f2108",
   "metadata": {},
   "source": [
    "## Lists\n",
    "\n",
    "''' mutable or changeable'''"
   ]
  },
  {
   "cell_type": "code",
   "execution_count": 3,
   "id": "1d6d5c56-8e7a-4895-9d57-2b9d39aac3f5",
   "metadata": {},
   "outputs": [
    {
     "name": "stdout",
     "output_type": "stream",
     "text": [
      "swagat\n"
     ]
    },
    {
     "data": {
      "text/plain": [
       "str"
      ]
     },
     "execution_count": 3,
     "metadata": {},
     "output_type": "execute_result"
    }
   ],
   "source": [
    "# mutable or immutable\n",
    "\n",
    "str1 = \"swagat\"\n",
    "print(str1)\n",
    "type(str1)"
   ]
  },
  {
   "cell_type": "code",
   "execution_count": 4,
   "id": "feb6f571-8d4c-4a65-9292-9e9d33c0b76a",
   "metadata": {},
   "outputs": [
    {
     "name": "stdout",
     "output_type": "stream",
     "text": [
      "Pradhan\n"
     ]
    }
   ],
   "source": [
    "str1=\"Pradhan\"\n",
    "print(str1)"
   ]
  },
  {
   "cell_type": "code",
   "execution_count": 7,
   "id": "9faed174-8b3b-453b-b5bc-91d63e9a80b2",
   "metadata": {},
   "outputs": [
    {
     "data": {
      "text/plain": [
       "'P'"
      ]
     },
     "execution_count": 7,
     "metadata": {},
     "output_type": "execute_result"
    }
   ],
   "source": [
    "#indexing\n",
    "\n",
    "str1[0]"
   ]
  },
  {
   "cell_type": "code",
   "execution_count": 8,
   "id": "df5067da-4f8b-45c5-96a4-485762a88374",
   "metadata": {},
   "outputs": [
    {
     "data": {
      "text/plain": [
       "'a'"
      ]
     },
     "execution_count": 8,
     "metadata": {},
     "output_type": "execute_result"
    }
   ],
   "source": [
    "str1[2]"
   ]
  },
  {
   "cell_type": "code",
   "execution_count": 12,
   "id": "dbb7cbd8-0a4b-40b1-99ee-1f91e836d0ff",
   "metadata": {},
   "outputs": [
    {
     "ename": "TypeError",
     "evalue": "'str' object does not support item assignment",
     "output_type": "error",
     "traceback": [
      "\u001b[1;31m---------------------------------------------------------------------------\u001b[0m",
      "\u001b[1;31mTypeError\u001b[0m                                 Traceback (most recent call last)",
      "Cell \u001b[1;32mIn[12], line 4\u001b[0m\n\u001b[0;32m      1\u001b[0m \u001b[38;5;66;03m# strings are immutable\u001b[39;00m\n\u001b[0;32m      2\u001b[0m \u001b[38;5;66;03m# it will show error\u001b[39;00m\n\u001b[1;32m----> 4\u001b[0m str1[\u001b[38;5;241m2\u001b[39m] \u001b[38;5;241m=\u001b[39m \u001b[38;5;124m'\u001b[39m\u001b[38;5;124mjk\u001b[39m\u001b[38;5;124m'\u001b[39m\n",
      "\u001b[1;31mTypeError\u001b[0m: 'str' object does not support item assignment"
     ]
    }
   ],
   "source": [
    "# strings are immutable\n",
    "# it will show error\n",
    "\n",
    "str1[2] = 'jk'"
   ]
  },
  {
   "cell_type": "code",
   "execution_count": 13,
   "id": "a9da67f9-69ab-44a8-9838-af557ef1e9b4",
   "metadata": {},
   "outputs": [
    {
     "data": {
      "text/plain": [
       "list"
      ]
     },
     "execution_count": 13,
     "metadata": {},
     "output_type": "execute_result"
    }
   ],
   "source": [
    "## Lists - []\n",
    "\n",
    "type([])"
   ]
  },
  {
   "cell_type": "code",
   "execution_count": 17,
   "id": "eb4cbba6-1df6-45a3-a860-851747ede0e7",
   "metadata": {},
   "outputs": [
    {
     "name": "stdout",
     "output_type": "stream",
     "text": [
      "[1, 'hello', 3, 4, 'swagat', 6]\n",
      "swagat\n"
     ]
    }
   ],
   "source": [
    "lst = [1,\"hello\",3,4,\"swagat\",6]\n",
    "print(lst)\n",
    "print(lst[4])"
   ]
  },
  {
   "cell_type": "code",
   "execution_count": 21,
   "id": "059ffa17-117b-468a-a518-0893afeb090e",
   "metadata": {},
   "outputs": [
    {
     "name": "stdout",
     "output_type": "stream",
     "text": [
      "[1, 'hello', 3, 'bye', 'swagat', 6]\n",
      "bye\n"
     ]
    }
   ],
   "source": [
    "#mutable\n",
    "lst = [1,\"hello\",3,4,\"swagat\",6]\n",
    "lst[3] = \"bye\"\n",
    "print(lst)\n",
    "print(lst[3])"
   ]
  },
  {
   "cell_type": "code",
   "execution_count": 22,
   "id": "93c95062-b0a2-4be9-b6e9-16879b987bab",
   "metadata": {},
   "outputs": [
    {
     "data": {
      "text/plain": [
       "list"
      ]
     },
     "execution_count": 22,
     "metadata": {},
     "output_type": "execute_result"
    }
   ],
   "source": [
    "lst=list()\n",
    "type(lst)"
   ]
  },
  {
   "cell_type": "code",
   "execution_count": 58,
   "id": "6451cd1e-6c47-4d6e-b752-e6a2774ae4a0",
   "metadata": {},
   "outputs": [
    {
     "name": "stdout",
     "output_type": "stream",
     "text": [
      "[1, 2, 3, 4, 5, 6]\n"
     ]
    }
   ],
   "source": [
    "lst = list((1,2,3,4,5,6))\n",
    "print(lst)"
   ]
  },
  {
   "cell_type": "code",
   "execution_count": 26,
   "id": "2fb62e16-2e77-43aa-9200-63d096556a1d",
   "metadata": {},
   "outputs": [
    {
     "name": "stdout",
     "output_type": "stream",
     "text": [
      "2\n",
      "4\n",
      "6\n",
      "8\n",
      "10\n",
      "12\n"
     ]
    }
   ],
   "source": [
    "# also use any functions\n",
    "for i in lst:\n",
    "    print(i*2)"
   ]
  },
  {
   "cell_type": "markdown",
   "id": "9f9c6b43-60b0-4c7d-bfcd-34e17a434c2c",
   "metadata": {},
   "source": [
    "## in - built functions"
   ]
  },
  {
   "cell_type": "code",
   "execution_count": 59,
   "id": "7ca2877a-a5dd-45e0-ae27-56e391314023",
   "metadata": {},
   "outputs": [
    {
     "data": {
      "text/plain": [
       "[1, 2, 3, 4, 5, 6, 'mummy']"
      ]
     },
     "execution_count": 59,
     "metadata": {},
     "output_type": "execute_result"
    }
   ],
   "source": [
    "# Append\n",
    "lst.append(\"mummy\")\n",
    "lst"
   ]
  },
  {
   "cell_type": "code",
   "execution_count": 60,
   "id": "22adfea8-9f63-4243-8b68-cb493f40c0f3",
   "metadata": {},
   "outputs": [
    {
     "data": {
      "text/plain": [
       "[1, 2, 3, 4, 5, 6, 'mummy', ['mummy', 'coffee']]"
      ]
     },
     "execution_count": 60,
     "metadata": {},
     "output_type": "execute_result"
    }
   ],
   "source": [
    "lst.append([\"mummy\",\"coffee\"])\n",
    "lst"
   ]
  },
  {
   "cell_type": "markdown",
   "id": "9a9fda4f-0379-4222-87c3-843ae0dd189b",
   "metadata": {},
   "source": [
    "lst[7]"
   ]
  },
  {
   "cell_type": "code",
   "execution_count": 40,
   "id": "4c99dda4-4a10-4c56-9811-e35a1b5b0e5d",
   "metadata": {},
   "outputs": [
    {
     "data": {
      "text/plain": [
       "'coffee'"
      ]
     },
     "execution_count": 40,
     "metadata": {},
     "output_type": "execute_result"
    }
   ],
   "source": [
    "lst[7][1]"
   ]
  },
  {
   "cell_type": "code",
   "execution_count": 61,
   "id": "a649679d-feff-45ea-a932-ad3cee79878c",
   "metadata": {},
   "outputs": [
    {
     "data": {
      "text/plain": [
       "[1, 2, 3, 4, 5, 6, 'mummy', ['mummy', 'coffee']]"
      ]
     },
     "execution_count": 61,
     "metadata": {},
     "output_type": "execute_result"
    }
   ],
   "source": [
    "# another indexing techniques\n",
    "\n",
    "lst"
   ]
  },
  {
   "cell_type": "code",
   "execution_count": 47,
   "id": "cef06aa8-7b1f-4049-8891-536cde419f9d",
   "metadata": {},
   "outputs": [
    {
     "data": {
      "text/plain": [
       "[3, 4, 5, 6]"
      ]
     },
     "execution_count": 47,
     "metadata": {},
     "output_type": "execute_result"
    }
   ],
   "source": [
    "lst[2:6]"
   ]
  },
  {
   "cell_type": "code",
   "execution_count": 62,
   "id": "c4f2f9cb-519c-45be-9512-55338808e581",
   "metadata": {},
   "outputs": [
    {
     "data": {
      "text/plain": [
       "[1, 2, 'tea', 3, 4, 5, 6, 'mummy', ['mummy', 'coffee']]"
      ]
     },
     "execution_count": 62,
     "metadata": {},
     "output_type": "execute_result"
    }
   ],
   "source": [
    "# insert in a specific order\n",
    "\n",
    "lst.insert(2,\"tea\")\n",
    "lst"
   ]
  },
  {
   "cell_type": "code",
   "execution_count": 63,
   "id": "39031878-00d1-45ea-9577-4055725b5532",
   "metadata": {},
   "outputs": [
    {
     "data": {
      "text/plain": [
       "[1, 2, 'tea', 3, 4, 5, 6, 'mummy', ['mummy', 'coffee']]"
      ]
     },
     "execution_count": 63,
     "metadata": {},
     "output_type": "execute_result"
    }
   ],
   "source": [
    "# Extend method\n",
    "\n",
    "lst"
   ]
  },
  {
   "cell_type": "code",
   "execution_count": 64,
   "id": "c9e2c454-c1e4-4616-b2e4-b756cbff5425",
   "metadata": {},
   "outputs": [],
   "source": [
    "lst.extend([8,9])"
   ]
  },
  {
   "cell_type": "code",
   "execution_count": 65,
   "id": "4a3cd97a-e4a2-4f0d-b48a-0ae6c27ca817",
   "metadata": {},
   "outputs": [
    {
     "data": {
      "text/plain": [
       "[1, 2, 'tea', 3, 4, 5, 6, 'mummy', ['mummy', 'coffee'], 8, 9]"
      ]
     },
     "execution_count": 65,
     "metadata": {},
     "output_type": "execute_result"
    }
   ],
   "source": [
    "lst"
   ]
  },
  {
   "cell_type": "markdown",
   "id": "8187574c-bf6c-4539-8a0f-3a5bd7812b3e",
   "metadata": {},
   "source": [
    "## various Operations that we can perform in list"
   ]
  },
  {
   "cell_type": "code",
   "execution_count": 81,
   "id": "315e6314-2aaf-41bb-97d3-167d6cd6270d",
   "metadata": {},
   "outputs": [],
   "source": [
    "lst = [1,2,3,5]"
   ]
  },
  {
   "cell_type": "code",
   "execution_count": 72,
   "id": "93bfead8-8d81-4fe8-9bfc-77c00789708a",
   "metadata": {},
   "outputs": [
    {
     "data": {
      "text/plain": [
       "11"
      ]
     },
     "execution_count": 72,
     "metadata": {},
     "output_type": "execute_result"
    }
   ],
   "source": [
    "sum(lst)"
   ]
  },
  {
   "cell_type": "code",
   "execution_count": 73,
   "id": "3eb83e54-2954-4d40-b31f-c5a1becdbc10",
   "metadata": {},
   "outputs": [
    {
     "data": {
      "text/plain": [
       "[1, 2, 3, 5, 1, 2, 3, 5, 1, 2, 3, 5, 1, 2, 3, 5, 1, 2, 3, 5]"
      ]
     },
     "execution_count": 73,
     "metadata": {},
     "output_type": "execute_result"
    }
   ],
   "source": [
    "lst*5"
   ]
  },
  {
   "cell_type": "code",
   "execution_count": 74,
   "id": "fe968912-5baf-4962-b44b-879d87b72959",
   "metadata": {},
   "outputs": [
    {
     "name": "stdout",
     "output_type": "stream",
     "text": [
      "0.2\n",
      "0.4\n",
      "0.6\n",
      "1.0\n"
     ]
    }
   ],
   "source": [
    "for i in lst:\n",
    "    print(i/5)"
   ]
  },
  {
   "cell_type": "code",
   "execution_count": 82,
   "id": "91a60dc7-94d8-4906-9d28-93d5a9a62f6f",
   "metadata": {},
   "outputs": [
    {
     "data": {
      "text/plain": [
       "[1, 2, 3, 5]"
      ]
     },
     "execution_count": 82,
     "metadata": {},
     "output_type": "execute_result"
    }
   ],
   "source": [
    "# pop method\n",
    "# also update list\n",
    "\n",
    "lst"
   ]
  },
  {
   "cell_type": "code",
   "execution_count": 83,
   "id": "9ca7c95c-a074-41a9-aaf4-980da358347b",
   "metadata": {},
   "outputs": [
    {
     "data": {
      "text/plain": [
       "5"
      ]
     },
     "execution_count": 83,
     "metadata": {},
     "output_type": "execute_result"
    }
   ],
   "source": [
    "lst.pop()"
   ]
  },
  {
   "cell_type": "code",
   "execution_count": 84,
   "id": "1bd779dd-ca30-40c2-ac35-8dfb4693727e",
   "metadata": {},
   "outputs": [
    {
     "data": {
      "text/plain": [
       "[1, 2, 3]"
      ]
     },
     "execution_count": 84,
     "metadata": {},
     "output_type": "execute_result"
    }
   ],
   "source": [
    "lst"
   ]
  },
  {
   "cell_type": "code",
   "execution_count": 85,
   "id": "370e7b45-5d44-463e-aa95-3be81edcacbf",
   "metadata": {},
   "outputs": [
    {
     "data": {
      "text/plain": [
       "2"
      ]
     },
     "execution_count": 85,
     "metadata": {},
     "output_type": "execute_result"
    }
   ],
   "source": [
    "lst.pop(1)"
   ]
  },
  {
   "cell_type": "code",
   "execution_count": 86,
   "id": "53f32f43-73c3-4852-a3c9-03521400f76d",
   "metadata": {},
   "outputs": [
    {
     "data": {
      "text/plain": [
       "[1, 3]"
      ]
     },
     "execution_count": 86,
     "metadata": {},
     "output_type": "execute_result"
    }
   ],
   "source": [
    "lst"
   ]
  },
  {
   "cell_type": "code",
   "execution_count": null,
   "id": "d439361e-4312-464f-963f-79ee075c507b",
   "metadata": {},
   "outputs": [],
   "source": []
  }
 ],
 "metadata": {
  "kernelspec": {
   "display_name": "Python 3 (ipykernel)",
   "language": "python",
   "name": "python3"
  },
  "language_info": {
   "codemirror_mode": {
    "name": "ipython",
    "version": 3
   },
   "file_extension": ".py",
   "mimetype": "text/x-python",
   "name": "python",
   "nbconvert_exporter": "python",
   "pygments_lexer": "ipython3",
   "version": "3.12.4"
  }
 },
 "nbformat": 4,
 "nbformat_minor": 5
}
