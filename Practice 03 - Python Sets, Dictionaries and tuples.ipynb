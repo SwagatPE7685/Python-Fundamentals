{
 "cells": [
  {
   "cell_type": "markdown",
   "id": "7c2ca893-a9c6-41ff-95e2-18c6a00e1c03",
   "metadata": {},
   "source": [
    "# Practice 03 - Python Sets, Dictionaries and tuples"
   ]
  },
  {
   "cell_type": "markdown",
   "id": "5ad7e9e0-6826-4c71-a64c-e31f26842314",
   "metadata": {},
   "source": [
    "### Sets {}\n",
    "- unordered collection\n",
    "- iterables\n",
    "- mutable\n",
    "- no duplicate elements\n"
   ]
  },
  {
   "cell_type": "code",
   "execution_count": 1,
   "id": "aa299b9e-fd80-4de9-962e-e8371fd8dff5",
   "metadata": {},
   "outputs": [],
   "source": [
    "a = {1,2,3,5,4}"
   ]
  },
  {
   "cell_type": "code",
   "execution_count": 2,
   "id": "8758c1cd-fe6a-4e89-a6dc-15f27c72e752",
   "metadata": {},
   "outputs": [
    {
     "name": "stdout",
     "output_type": "stream",
     "text": [
      "{1, 2, 3, 4, 5}\n"
     ]
    }
   ],
   "source": [
    "print(a)"
   ]
  },
  {
   "cell_type": "code",
   "execution_count": 3,
   "id": "aa244f61-9677-4bbc-92ed-0a00f168326b",
   "metadata": {},
   "outputs": [
    {
     "data": {
      "text/plain": [
       "set"
      ]
     },
     "execution_count": 3,
     "metadata": {},
     "output_type": "execute_result"
    }
   ],
   "source": [
    "type(a)"
   ]
  },
  {
   "cell_type": "code",
   "execution_count": 6,
   "id": "03f55351-5bd1-4bf7-9e1f-699c029e4f46",
   "metadata": {},
   "outputs": [
    {
     "name": "stdout",
     "output_type": "stream",
     "text": [
      "set()\n",
      "<class 'set'>\n"
     ]
    }
   ],
   "source": [
    "# defining an empty set\n",
    "\n",
    "b = set()\n",
    "print(b)\n",
    "print(type(b))"
   ]
  },
  {
   "cell_type": "code",
   "execution_count": 7,
   "id": "ca6103a5-0c78-49b7-a0fe-92682d96effc",
   "metadata": {},
   "outputs": [
    {
     "name": "stdout",
     "output_type": "stream",
     "text": [
      "{'pradhan', 'swagat', 'class'}\n",
      "<class 'set'>\n"
     ]
    }
   ],
   "source": [
    "# lets do examples\n",
    "\n",
    "c = {\"swagat\",\"pradhan\",\"class\"}\n",
    "print(c)\n",
    "print(type(c))"
   ]
  },
  {
   "cell_type": "code",
   "execution_count": 10,
   "id": "c9d58bba-93ac-4277-8747-4b927d5af6b9",
   "metadata": {},
   "outputs": [
    {
     "ename": "TypeError",
     "evalue": "'set' object is not subscriptable",
     "output_type": "error",
     "traceback": [
      "\u001b[1;31m---------------------------------------------------------------------------\u001b[0m",
      "\u001b[1;31mTypeError\u001b[0m                                 Traceback (most recent call last)",
      "Cell \u001b[1;32mIn[10], line 4\u001b[0m\n\u001b[0;32m      1\u001b[0m \u001b[38;5;66;03m# list is subsciptable\u001b[39;00m\n\u001b[0;32m      2\u001b[0m \u001b[38;5;66;03m# set is not subscriptable\u001b[39;00m\n\u001b[1;32m----> 4\u001b[0m c[\u001b[38;5;241m0\u001b[39m]\n",
      "\u001b[1;31mTypeError\u001b[0m: 'set' object is not subscriptable"
     ]
    }
   ],
   "source": [
    "# list is subsciptable\n",
    "# set is not subscriptable\n",
    "\n",
    "c[0]"
   ]
  },
  {
   "cell_type": "markdown",
   "id": "069e36d2-967b-47f3-90a7-a475301a0634",
   "metadata": {},
   "source": [
    "### Sets - inbuilt functions"
   ]
  },
  {
   "cell_type": "code",
   "execution_count": 11,
   "id": "45d84498-aa73-4136-a295-d995fa0fab84",
   "metadata": {},
   "outputs": [
    {
     "data": {
      "text/plain": [
       "{'class', 'pradhan', 'swagat'}"
      ]
     },
     "execution_count": 11,
     "metadata": {},
     "output_type": "execute_result"
    }
   ],
   "source": [
    "c"
   ]
  },
  {
   "cell_type": "code",
   "execution_count": 14,
   "id": "2d50b6ac-26e0-47ac-876e-cbd6121b44d8",
   "metadata": {},
   "outputs": [],
   "source": [
    "# 01\n",
    "c.add(\"people\")"
   ]
  },
  {
   "cell_type": "code",
   "execution_count": 15,
   "id": "e1e596f5-19c6-44b1-85a5-de4b16614cf4",
   "metadata": {},
   "outputs": [
    {
     "data": {
      "text/plain": [
       "{'class', 'people', 'pradhan', 'swagat'}"
      ]
     },
     "execution_count": 15,
     "metadata": {},
     "output_type": "execute_result"
    }
   ],
   "source": [
    "c"
   ]
  },
  {
   "cell_type": "code",
   "execution_count": 17,
   "id": "cd796e02-decf-4e0a-86b5-7931f17cc8ac",
   "metadata": {},
   "outputs": [],
   "source": [
    "# 02. here we can see it is ordered collection\n",
    "c.add(\"mom\")"
   ]
  },
  {
   "cell_type": "code",
   "execution_count": 18,
   "id": "319c6986-0d58-47f8-81be-7fcda157257a",
   "metadata": {},
   "outputs": [
    {
     "data": {
      "text/plain": [
       "{'class', 'mom', 'people', 'pradhan', 'swagat'}"
      ]
     },
     "execution_count": 18,
     "metadata": {},
     "output_type": "execute_result"
    }
   ],
   "source": [
    "c"
   ]
  },
  {
   "cell_type": "code",
   "execution_count": 22,
   "id": "62963a8c-1029-4aa7-95f5-dc0ad319b928",
   "metadata": {},
   "outputs": [],
   "source": [
    "# 03. intersection \n",
    "\n",
    "c = {'class', 'people', 'pradhan', 'swagat'}\n",
    "d = {'class', 'people', 'swagat'}"
   ]
  },
  {
   "cell_type": "code",
   "execution_count": 23,
   "id": "812f7e7f-4182-4145-9b02-57556f911481",
   "metadata": {},
   "outputs": [
    {
     "data": {
      "text/plain": [
       "{'class', 'people', 'swagat'}"
      ]
     },
     "execution_count": 23,
     "metadata": {},
     "output_type": "execute_result"
    }
   ],
   "source": [
    "c.intersection(d)"
   ]
  },
  {
   "cell_type": "code",
   "execution_count": 27,
   "id": "cc5ac7fe-2b2d-42c2-affe-894f583c2992",
   "metadata": {},
   "outputs": [],
   "source": [
    "# 04. intersection & update\n",
    "\n",
    "c.intersection_update(d)"
   ]
  },
  {
   "cell_type": "code",
   "execution_count": 28,
   "id": "d6b7f599-2465-4295-8c6b-0b9b6ed21bc6",
   "metadata": {},
   "outputs": [
    {
     "data": {
      "text/plain": [
       "{'class', 'people', 'swagat'}"
      ]
     },
     "execution_count": 28,
     "metadata": {},
     "output_type": "execute_result"
    }
   ],
   "source": [
    "c"
   ]
  },
  {
   "cell_type": "code",
   "execution_count": 29,
   "id": "98a390a7-dc1b-47ce-a80e-8c73953c7de9",
   "metadata": {},
   "outputs": [
    {
     "data": {
      "text/plain": [
       "{'class', 'people', 'swagat'}"
      ]
     },
     "execution_count": 29,
     "metadata": {},
     "output_type": "execute_result"
    }
   ],
   "source": [
    "d"
   ]
  },
  {
   "cell_type": "code",
   "execution_count": 30,
   "id": "f99fb654-6e25-45a5-bf82-bf7be3c55810",
   "metadata": {},
   "outputs": [],
   "source": [
    "# 05. difference function\n",
    "\n",
    "c = {'class', 'people', 'pradhan', 'swagat'}\n",
    "d = {'class', 'people', 'swagat'}"
   ]
  },
  {
   "cell_type": "code",
   "execution_count": 31,
   "id": "4a4d5da2-4ccf-4ef3-8dff-33e48e1d1225",
   "metadata": {},
   "outputs": [
    {
     "data": {
      "text/plain": [
       "{'pradhan'}"
      ]
     },
     "execution_count": 31,
     "metadata": {},
     "output_type": "execute_result"
    }
   ],
   "source": [
    "c.difference(d)"
   ]
  },
  {
   "cell_type": "code",
   "execution_count": 33,
   "id": "116ca4c3-f509-404c-bf9d-460fd23202fa",
   "metadata": {},
   "outputs": [
    {
     "data": {
      "text/plain": [
       "set()"
      ]
     },
     "execution_count": 33,
     "metadata": {},
     "output_type": "execute_result"
    }
   ],
   "source": [
    "d.difference(c)"
   ]
  },
  {
   "cell_type": "code",
   "execution_count": 34,
   "id": "c1a5e966-0b50-416b-8007-5049124a21d9",
   "metadata": {},
   "outputs": [],
   "source": [
    "# 06. difference & update\n",
    "\n",
    "c.difference_update(d)"
   ]
  },
  {
   "cell_type": "code",
   "execution_count": 35,
   "id": "fb3a1c98-cac4-4e52-921a-02a425a2c260",
   "metadata": {},
   "outputs": [
    {
     "data": {
      "text/plain": [
       "{'pradhan'}"
      ]
     },
     "execution_count": 35,
     "metadata": {},
     "output_type": "execute_result"
    }
   ],
   "source": [
    "c"
   ]
  },
  {
   "cell_type": "code",
   "execution_count": 36,
   "id": "f8eb8c7d-be74-4d4f-861d-b4fb0412a4a6",
   "metadata": {},
   "outputs": [
    {
     "data": {
      "text/plain": [
       "{'class', 'people', 'swagat'}"
      ]
     },
     "execution_count": 36,
     "metadata": {},
     "output_type": "execute_result"
    }
   ],
   "source": [
    "d"
   ]
  },
  {
   "cell_type": "code",
   "execution_count": 37,
   "id": "628e9c3b-01b7-4abd-a5a4-7bd036f29d9e",
   "metadata": {},
   "outputs": [],
   "source": [
    "# 07. Superset\n",
    "\n",
    "c = {'class', 'people', 'pradhan', 'swagat'}\n",
    "d = {'class', 'people', 'swagat'}"
   ]
  },
  {
   "cell_type": "code",
   "execution_count": 38,
   "id": "057afcf6-313a-409d-97a1-df50d288e7e5",
   "metadata": {},
   "outputs": [
    {
     "data": {
      "text/plain": [
       "False"
      ]
     },
     "execution_count": 38,
     "metadata": {},
     "output_type": "execute_result"
    }
   ],
   "source": [
    "d.issuperset(c)"
   ]
  },
  {
   "cell_type": "code",
   "execution_count": 39,
   "id": "107aff7e-8648-4649-8056-b2c8995317f3",
   "metadata": {},
   "outputs": [
    {
     "data": {
      "text/plain": [
       "True"
      ]
     },
     "execution_count": 39,
     "metadata": {},
     "output_type": "execute_result"
    }
   ],
   "source": [
    "c.issuperset(d)"
   ]
  },
  {
   "cell_type": "code",
   "execution_count": 41,
   "id": "6e9b25ab-9a95-4519-a9b1-12fcfb9e9463",
   "metadata": {},
   "outputs": [
    {
     "data": {
      "text/plain": [
       "True"
      ]
     },
     "execution_count": 41,
     "metadata": {},
     "output_type": "execute_result"
    }
   ],
   "source": [
    "# 08. subset\n",
    "\n",
    "d.issubset(c)"
   ]
  },
  {
   "cell_type": "code",
   "execution_count": 42,
   "id": "85d7fb0c-a13c-4035-82e9-971393bf0d40",
   "metadata": {},
   "outputs": [
    {
     "data": {
      "text/plain": [
       "False"
      ]
     },
     "execution_count": 42,
     "metadata": {},
     "output_type": "execute_result"
    }
   ],
   "source": [
    "c.issubset(d)"
   ]
  },
  {
   "cell_type": "markdown",
   "id": "9fd1752b-1940-4097-9c91-15ecb33b29d9",
   "metadata": {},
   "source": [
    "### Dictionaries\n",
    "- unordered\n",
    "- changeable\n",
    "- indexed\n",
    "- {} & keys & values"
   ]
  },
  {
   "cell_type": "code",
   "execution_count": 44,
   "id": "56e0743c-e266-4d08-b78b-ffab5f3b463a",
   "metadata": {},
   "outputs": [
    {
     "data": {
      "text/plain": [
       "dict"
      ]
     },
     "execution_count": 44,
     "metadata": {},
     "output_type": "execute_result"
    }
   ],
   "source": [
    "type({})"
   ]
  },
  {
   "cell_type": "code",
   "execution_count": 45,
   "id": "96fbe60c-2787-4acc-b61d-10e3153f4147",
   "metadata": {},
   "outputs": [],
   "source": [
    "a = {\"Name\":\"Swagat\",\"Age\":25,\"car\":\"i20\"}"
   ]
  },
  {
   "cell_type": "code",
   "execution_count": 46,
   "id": "39f22c40-a0ad-4caf-a7d6-1d0f8519ec17",
   "metadata": {},
   "outputs": [
    {
     "data": {
      "text/plain": [
       "{'Name': 'Swagat', 'Age': 25, 'car': 'i20'}"
      ]
     },
     "execution_count": 46,
     "metadata": {},
     "output_type": "execute_result"
    }
   ],
   "source": [
    "a"
   ]
  },
  {
   "cell_type": "code",
   "execution_count": 47,
   "id": "895f7333-facb-42ff-b88a-befa2316361d",
   "metadata": {},
   "outputs": [
    {
     "data": {
      "text/plain": [
       "'Swagat'"
      ]
     },
     "execution_count": 47,
     "metadata": {},
     "output_type": "execute_result"
    }
   ],
   "source": [
    "# access the item values based on keys\n",
    "a[\"Name\"]"
   ]
  },
  {
   "cell_type": "code",
   "execution_count": 48,
   "id": "e2cdb468-4178-4d72-a3da-5da01dcd2a75",
   "metadata": {},
   "outputs": [
    {
     "data": {
      "text/plain": [
       "'i20'"
      ]
     },
     "execution_count": 48,
     "metadata": {},
     "output_type": "execute_result"
    }
   ],
   "source": [
    "a[\"car\"]"
   ]
  },
  {
   "cell_type": "markdown",
   "id": "9ecea5a9-fe9e-42bf-96ba-a5c0ecaf89bb",
   "metadata": {},
   "source": [
    "### Dict Inbuilt Functions"
   ]
  },
  {
   "cell_type": "code",
   "execution_count": 50,
   "id": "dfc69373-111d-460b-93a5-6bb4c1d8cfbb",
   "metadata": {},
   "outputs": [
    {
     "data": {
      "text/plain": [
       "dict_items([('Name', 'Swagat'), ('Age', 25), ('car', 'i20')])"
      ]
     },
     "execution_count": 50,
     "metadata": {},
     "output_type": "execute_result"
    }
   ],
   "source": [
    "# 01.Items\n",
    "a.items()"
   ]
  },
  {
   "cell_type": "code",
   "execution_count": 51,
   "id": "5a303010-1ad5-45ce-865f-6304f3c1446a",
   "metadata": {},
   "outputs": [
    {
     "data": {
      "text/plain": [
       "dict_keys(['Name', 'Age', 'car'])"
      ]
     },
     "execution_count": 51,
     "metadata": {},
     "output_type": "execute_result"
    }
   ],
   "source": [
    "# 02.Keys\n",
    "a.keys()"
   ]
  },
  {
   "cell_type": "code",
   "execution_count": 52,
   "id": "952a3845-c016-4483-bc69-d8562eec1b32",
   "metadata": {},
   "outputs": [
    {
     "data": {
      "text/plain": [
       "dict_values(['Swagat', 25, 'i20'])"
      ]
     },
     "execution_count": 52,
     "metadata": {},
     "output_type": "execute_result"
    }
   ],
   "source": [
    "# 03.values\n",
    "a.values()"
   ]
  },
  {
   "cell_type": "code",
   "execution_count": 57,
   "id": "9a616b14-8360-4287-bb1a-25d11fb60a72",
   "metadata": {},
   "outputs": [
    {
     "name": "stdout",
     "output_type": "stream",
     "text": [
      "Name\n",
      "Age\n",
      "car\n"
     ]
    }
   ],
   "source": [
    "# 04. we can also use in loop\n",
    "# only show keys\n",
    "\n",
    "for i in a:\n",
    "    print(i)"
   ]
  },
  {
   "cell_type": "code",
   "execution_count": 55,
   "id": "b7d28e99-9b28-4265-a788-20c4e5e00623",
   "metadata": {},
   "outputs": [
    {
     "name": "stdout",
     "output_type": "stream",
     "text": [
      "Swagat\n",
      "25\n",
      "i20\n"
     ]
    }
   ],
   "source": [
    "# to see values\n",
    "\n",
    "for i in a.values():\n",
    "    print(i)"
   ]
  },
  {
   "cell_type": "code",
   "execution_count": 56,
   "id": "5bcbbe2c-9c9c-4b8f-acd6-8229c8a9d2a9",
   "metadata": {},
   "outputs": [
    {
     "name": "stdout",
     "output_type": "stream",
     "text": [
      "('Name', 'Swagat')\n",
      "('Age', 25)\n",
      "('car', 'i20')\n"
     ]
    }
   ],
   "source": [
    "# wants to see whole items using loop\n",
    "\n",
    "for i in a.items():\n",
    "    print(i)"
   ]
  },
  {
   "cell_type": "code",
   "execution_count": 58,
   "id": "6b59bad8-345b-4a83-b57f-e4e85371020f",
   "metadata": {},
   "outputs": [],
   "source": [
    "# 05. adding items\n",
    "\n",
    "a[\"bike\"]=\"activa\""
   ]
  },
  {
   "cell_type": "code",
   "execution_count": 59,
   "id": "f316d585-3d5f-4c33-be83-d080d4f9da12",
   "metadata": {},
   "outputs": [
    {
     "data": {
      "text/plain": [
       "{'Name': 'Swagat', 'Age': 25, 'car': 'i20', 'bike': 'activa'}"
      ]
     },
     "execution_count": 59,
     "metadata": {},
     "output_type": "execute_result"
    }
   ],
   "source": [
    "a"
   ]
  },
  {
   "cell_type": "markdown",
   "id": "f5389505-6a30-4cac-a679-bf6c25c0fba1",
   "metadata": {},
   "source": [
    "### Nested Dictionaries"
   ]
  },
  {
   "cell_type": "code",
   "execution_count": 60,
   "id": "cd7ef6f8-971f-4fee-8bf9-e6133638c4e2",
   "metadata": {},
   "outputs": [],
   "source": [
    "car_model_1 = {\"i20\":1960}\n",
    "car_model_2 = {\"i30\":1950}\n",
    "car_model_3 = {\"i40\":1982}\n",
    "\n",
    "car_type = {\"car01\" : car_model_1 ,\"car02\" : car_model_2 , \"car03\" : car_model_3}"
   ]
  },
  {
   "cell_type": "code",
   "execution_count": 61,
   "id": "03849057-6241-434c-861b-9a1b9ee253c5",
   "metadata": {},
   "outputs": [
    {
     "data": {
      "text/plain": [
       "{'car01': {'i20': 1960}, 'car02': {'i30': 1950}, 'car03': {'i40': 1982}}"
      ]
     },
     "execution_count": 61,
     "metadata": {},
     "output_type": "execute_result"
    }
   ],
   "source": [
    "car_type"
   ]
  },
  {
   "cell_type": "code",
   "execution_count": 63,
   "id": "3b858328-f53c-4e67-8974-94c34d390116",
   "metadata": {},
   "outputs": [
    {
     "data": {
      "text/plain": [
       "{'i30': 1950}"
      ]
     },
     "execution_count": 63,
     "metadata": {},
     "output_type": "execute_result"
    }
   ],
   "source": [
    "car_type[\"car02\"]"
   ]
  },
  {
   "cell_type": "code",
   "execution_count": 64,
   "id": "bbc6d4db-d326-4ec6-8214-6f92c4a9b3bc",
   "metadata": {},
   "outputs": [
    {
     "data": {
      "text/plain": [
       "1950"
      ]
     },
     "execution_count": 64,
     "metadata": {},
     "output_type": "execute_result"
    }
   ],
   "source": [
    "car_type[\"car02\"][\"i30\"]"
   ]
  },
  {
   "cell_type": "markdown",
   "id": "5947a2ef-7922-454a-9885-0966cdd50778",
   "metadata": {},
   "source": [
    "### Tuples ()\n",
    "- immutable\n",
    "- Ordered\n",
    "- heterogeneous: Tuples can contain elements of different data types.\n",
    "- Indexed: Elements in a tuple can be accessed using indexing."
   ]
  },
  {
   "cell_type": "code",
   "execution_count": 65,
   "id": "f3b79524-7a00-4efb-977d-e8bd6d005ea1",
   "metadata": {},
   "outputs": [],
   "source": [
    "b = tuple()"
   ]
  },
  {
   "cell_type": "code",
   "execution_count": 66,
   "id": "63ee8aa5-f088-403c-9bdb-d55e280c7855",
   "metadata": {},
   "outputs": [
    {
     "data": {
      "text/plain": [
       "tuple"
      ]
     },
     "execution_count": 66,
     "metadata": {},
     "output_type": "execute_result"
    }
   ],
   "source": [
    "type(b)"
   ]
  },
  {
   "cell_type": "code",
   "execution_count": 67,
   "id": "6bbd52fc-c4c0-45cc-8938-f37030626a8e",
   "metadata": {},
   "outputs": [],
   "source": [
    "b = (\"swagat\",\"pradha\",\"kumar\")"
   ]
  },
  {
   "cell_type": "code",
   "execution_count": 68,
   "id": "efaf542f-9db2-4bfd-b56c-817968a33c23",
   "metadata": {},
   "outputs": [
    {
     "data": {
      "text/plain": [
       "('swagat', 'pradha', 'kumar')"
      ]
     },
     "execution_count": 68,
     "metadata": {},
     "output_type": "execute_result"
    }
   ],
   "source": [
    "b"
   ]
  },
  {
   "cell_type": "code",
   "execution_count": 71,
   "id": "66449f1d-14d5-49a4-b5e2-588d0fefaf86",
   "metadata": {},
   "outputs": [
    {
     "data": {
      "text/plain": [
       "'pradha'"
      ]
     },
     "execution_count": 71,
     "metadata": {},
     "output_type": "execute_result"
    }
   ],
   "source": [
    "b[1]"
   ]
  },
  {
   "cell_type": "markdown",
   "id": "e29d98e6-11db-4a05-9db6-c7f652e2da3f",
   "metadata": {},
   "source": [
    "### Practice"
   ]
  },
  {
   "cell_type": "markdown",
   "id": "1433bce6-9b29-491a-b6e2-090c22e1cb07",
   "metadata": {},
   "source": [
    "#### Create a dictionary with the keys \"name\", \"age\", and \"city\" and corresponding\n",
    "#### values \"Alice\", 25, and \"New York\".\n",
    "\n",
    "- From this dictionaries do\n",
    "- accessing values\n",
    "- adding and updating entries\n",
    "- removing entries\n",
    "- checking for keys, value and pairs\n",
    "- set default values\n",
    "- merging\n",
    "- comparison\n",
    "- counting the disctionaries"
   ]
  },
  {
   "cell_type": "code",
   "execution_count": 2,
   "id": "081e7a95-ea51-418d-92cd-4fa4b997feae",
   "metadata": {},
   "outputs": [],
   "source": [
    "lst={\"name\":\"Alice\",\"age\":25,\"city\":\"New york\"}"
   ]
  },
  {
   "cell_type": "code",
   "execution_count": 3,
   "id": "8a8faafd-9502-49f1-a553-ce06db0f6f65",
   "metadata": {},
   "outputs": [
    {
     "data": {
      "text/plain": [
       "{'name': 'Alice', 'age': 25, 'city': 'New york'}"
      ]
     },
     "execution_count": 3,
     "metadata": {},
     "output_type": "execute_result"
    }
   ],
   "source": [
    "lst"
   ]
  },
  {
   "cell_type": "code",
   "execution_count": 4,
   "id": "f6e05ea4-6202-44f5-ab7d-f0e77fd7f29b",
   "metadata": {},
   "outputs": [
    {
     "data": {
      "text/plain": [
       "dict_values(['Alice', 25, 'New york'])"
      ]
     },
     "execution_count": 4,
     "metadata": {},
     "output_type": "execute_result"
    }
   ],
   "source": [
    "lst.values()"
   ]
  },
  {
   "cell_type": "code",
   "execution_count": 5,
   "id": "fe327a34-4940-41fe-a10d-3492d734b5ab",
   "metadata": {},
   "outputs": [
    {
     "data": {
      "text/plain": [
       "dict_keys(['name', 'age', 'city'])"
      ]
     },
     "execution_count": 5,
     "metadata": {},
     "output_type": "execute_result"
    }
   ],
   "source": [
    "lst.keys()"
   ]
  },
  {
   "cell_type": "code",
   "execution_count": 6,
   "id": "9a1dae05-436f-4bcf-b222-1638124b7bd3",
   "metadata": {},
   "outputs": [
    {
     "data": {
      "text/plain": [
       "dict_items([('name', 'Alice'), ('age', 25), ('city', 'New york')])"
      ]
     },
     "execution_count": 6,
     "metadata": {},
     "output_type": "execute_result"
    }
   ],
   "source": [
    "lst.items()"
   ]
  },
  {
   "cell_type": "code",
   "execution_count": 13,
   "id": "3f4f4e6b-8a98-4f91-b6bc-fa536df0e300",
   "metadata": {},
   "outputs": [],
   "source": [
    "lst[\"car\"]=\"i20\""
   ]
  },
  {
   "cell_type": "code",
   "execution_count": 14,
   "id": "aa3453c7-cb2c-48c1-9c6e-4b9bf56afd9a",
   "metadata": {},
   "outputs": [
    {
     "data": {
      "text/plain": [
       "{'name': 'Alice', 'age': 25, 'city': 'New york', 'car': 'i20'}"
      ]
     },
     "execution_count": 14,
     "metadata": {},
     "output_type": "execute_result"
    }
   ],
   "source": [
    "lst"
   ]
  },
  {
   "cell_type": "code",
   "execution_count": 16,
   "id": "398540d5-4a61-41ba-9be3-cd14d167d3a8",
   "metadata": {},
   "outputs": [
    {
     "data": {
      "text/plain": [
       "('car', 'i20')"
      ]
     },
     "execution_count": 16,
     "metadata": {},
     "output_type": "execute_result"
    }
   ],
   "source": [
    "lst.popitem()"
   ]
  },
  {
   "cell_type": "code",
   "execution_count": 17,
   "id": "76945b69-0be5-492e-8355-bbb42db32590",
   "metadata": {},
   "outputs": [
    {
     "data": {
      "text/plain": [
       "{'name': 'Alice', 'age': 25, 'city': 'New york'}"
      ]
     },
     "execution_count": 17,
     "metadata": {},
     "output_type": "execute_result"
    }
   ],
   "source": [
    "lst"
   ]
  },
  {
   "cell_type": "code",
   "execution_count": 18,
   "id": "c0b6140c-df23-4910-accf-43640f46ae05",
   "metadata": {},
   "outputs": [],
   "source": [
    "lst.setdefault(\"nothing\")"
   ]
  },
  {
   "cell_type": "code",
   "execution_count": 19,
   "id": "89b90c58-25d5-4716-b863-fd6639953769",
   "metadata": {},
   "outputs": [
    {
     "data": {
      "text/plain": [
       "{'name': 'Alice', 'age': 25, 'city': 'New york', 'nothing': None}"
      ]
     },
     "execution_count": 19,
     "metadata": {},
     "output_type": "execute_result"
    }
   ],
   "source": [
    "lst"
   ]
  },
  {
   "cell_type": "code",
   "execution_count": 21,
   "id": "99b77766-7cdb-4a2f-9eba-31f09d93c833",
   "metadata": {},
   "outputs": [
    {
     "data": {
      "text/plain": [
       "('nothing', None)"
      ]
     },
     "execution_count": 21,
     "metadata": {},
     "output_type": "execute_result"
    }
   ],
   "source": [
    "lst.popitem()"
   ]
  },
  {
   "cell_type": "code",
   "execution_count": 22,
   "id": "d8746c54-deba-4a6c-8bb9-1a7049db4759",
   "metadata": {},
   "outputs": [
    {
     "data": {
      "text/plain": [
       "{'name': 'Alice', 'age': 25, 'city': 'New york'}"
      ]
     },
     "execution_count": 22,
     "metadata": {},
     "output_type": "execute_result"
    }
   ],
   "source": [
    "lst"
   ]
  },
  {
   "cell_type": "code",
   "execution_count": 27,
   "id": "a310cb25-9a97-4c1f-b7cd-b257bd28e155",
   "metadata": {},
   "outputs": [],
   "source": [
    "lst01 = {'name': 'swagat', 'city': 'New york'}"
   ]
  },
  {
   "cell_type": "code",
   "execution_count": 31,
   "id": "eb8e35fe-ba71-4846-b4ef-7324b029ef3d",
   "metadata": {},
   "outputs": [
    {
     "data": {
      "text/plain": [
       "{'name': 'swagat', 'city': 'New york'}"
      ]
     },
     "execution_count": 31,
     "metadata": {},
     "output_type": "execute_result"
    }
   ],
   "source": [
    "lst01"
   ]
  },
  {
   "cell_type": "code",
   "execution_count": 34,
   "id": "d1f4ef13-411c-4b03-b222-d2013b962c85",
   "metadata": {},
   "outputs": [
    {
     "data": {
      "text/plain": [
       "3"
      ]
     },
     "execution_count": 34,
     "metadata": {},
     "output_type": "execute_result"
    }
   ],
   "source": [
    "len(lst)"
   ]
  },
  {
   "cell_type": "code",
   "execution_count": 35,
   "id": "a7f69b44-1184-41f0-850c-78a8d13a8207",
   "metadata": {},
   "outputs": [
    {
     "data": {
      "text/plain": [
       "2"
      ]
     },
     "execution_count": 35,
     "metadata": {},
     "output_type": "execute_result"
    }
   ],
   "source": [
    "len(lst01)"
   ]
  },
  {
   "cell_type": "code",
   "execution_count": null,
   "id": "4d3bea0e-9e42-4677-bdc5-2b96d10f014b",
   "metadata": {},
   "outputs": [],
   "source": []
  }
 ],
 "metadata": {
  "kernelspec": {
   "display_name": "Python 3 (ipykernel)",
   "language": "python",
   "name": "python3"
  },
  "language_info": {
   "codemirror_mode": {
    "name": "ipython",
    "version": 3
   },
   "file_extension": ".py",
   "mimetype": "text/x-python",
   "name": "python",
   "nbconvert_exporter": "python",
   "pygments_lexer": "ipython3",
   "version": "3.12.4"
  }
 },
 "nbformat": 4,
 "nbformat_minor": 5
}
